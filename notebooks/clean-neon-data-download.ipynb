{
 "cells": [
  {
   "cell_type": "code",
   "execution_count": 69,
   "id": "098fed3c-49aa-4c27-b193-4681de1c3c18",
   "metadata": {},
   "outputs": [],
   "source": [
    "import os,glob\n",
    "from tqdm import tqdm\n",
    "import matplotlib.pyplot as plt\n",
    "from shapely.geometry import box\n",
    "from pyproj import CRS\n",
    "import geopandas as gpd\n"
   ]
  },
  {
   "cell_type": "code",
   "execution_count": 3,
   "id": "859d393b-5e35-433a-b7dc-07b5989069ed",
   "metadata": {},
   "outputs": [],
   "source": [
    "gdf_neon = gpd.read_file('20250718_PCD_neon_als_footprints.geojson')\n",
    "gdf_fourway = gpd.read_file('20250718_PCD_neon_fourway_overlap.geojson')"
   ]
  },
  {
   "cell_type": "code",
   "execution_count": 4,
   "id": "f941771d-4b0d-45d3-8909-75c229352859",
   "metadata": {},
   "outputs": [
    {
     "data": {
      "text/html": [
       "<div>\n",
       "<style scoped>\n",
       "    .dataframe tbody tr th:only-of-type {\n",
       "        vertical-align: middle;\n",
       "    }\n",
       "\n",
       "    .dataframe tbody tr th {\n",
       "        vertical-align: top;\n",
       "    }\n",
       "\n",
       "    .dataframe thead th {\n",
       "        text-align: right;\n",
       "    }\n",
       "</style>\n",
       "<table border=\"1\" class=\"dataframe\">\n",
       "  <thead>\n",
       "    <tr style=\"text-align: right;\">\n",
       "      <th></th>\n",
       "      <th>neon_id</th>\n",
       "      <th>description</th>\n",
       "      <th>start_datetime</th>\n",
       "      <th>end_datetime</th>\n",
       "      <th>sensor</th>\n",
       "      <th>wavelength_nm</th>\n",
       "      <th>avg_point_density_m2</th>\n",
       "      <th>ground_return_point_density_m2</th>\n",
       "      <th>horizontal_uncertainty_avg_m</th>\n",
       "      <th>vertical_uncertainty_avg_m</th>\n",
       "      <th>geometry</th>\n",
       "    </tr>\n",
       "  </thead>\n",
       "  <tbody>\n",
       "    <tr>\n",
       "      <th>0</th>\n",
       "      <td>BART</td>\n",
       "      <td>mixed hardwood forest</td>\n",
       "      <td>2019-08-25 14:05:12+00:00</td>\n",
       "      <td>2019-08-25 19:20:01+00:00</td>\n",
       "      <td>ALTM Gemini</td>\n",
       "      <td>1064</td>\n",
       "      <td>5.9</td>\n",
       "      <td>2.3</td>\n",
       "      <td>0.5</td>\n",
       "      <td>0.13</td>\n",
       "      <td>POLYGON ((-71.22225 43.98755, -71.31731 43.988...</td>\n",
       "    </tr>\n",
       "    <tr>\n",
       "      <th>1</th>\n",
       "      <td>REDB</td>\n",
       "      <td>deciduous conifer mix</td>\n",
       "      <td>2021-05-20 07:00:00+00:00</td>\n",
       "      <td>2021-05-21 06:59:59+00:00</td>\n",
       "      <td>RIEGL LMS-Q780</td>\n",
       "      <td>1064</td>\n",
       "      <td>17</td>\n",
       "      <td>7</td>\n",
       "      <td>0.19</td>\n",
       "      <td>0.088</td>\n",
       "      <td>POLYGON ((-111.79348 40.76534, -111.79713 40.7...</td>\n",
       "    </tr>\n",
       "    <tr>\n",
       "      <th>2</th>\n",
       "      <td>WREF</td>\n",
       "      <td>conifer forest</td>\n",
       "      <td>2019-07-12 08:00:00+00:00</td>\n",
       "      <td>2019-07-15 07:59:59+00:00</td>\n",
       "      <td>RIEGL LMS-Q780</td>\n",
       "      <td>1064</td>\n",
       "      <td>18</td>\n",
       "      <td>3</td>\n",
       "      <td>0.19</td>\n",
       "      <td>0.1</td>\n",
       "      <td>MULTIPOLYGON (((-122.03336 45.77725, -122.0346...</td>\n",
       "    </tr>\n",
       "  </tbody>\n",
       "</table>\n",
       "</div>"
      ],
      "text/plain": [
       "  neon_id            description            start_datetime  \\\n",
       "0    BART  mixed hardwood forest 2019-08-25 14:05:12+00:00   \n",
       "1    REDB  deciduous conifer mix 2021-05-20 07:00:00+00:00   \n",
       "2    WREF         conifer forest 2019-07-12 08:00:00+00:00   \n",
       "\n",
       "               end_datetime          sensor wavelength_nm  \\\n",
       "0 2019-08-25 19:20:01+00:00     ALTM Gemini          1064   \n",
       "1 2021-05-21 06:59:59+00:00  RIEGL LMS-Q780          1064   \n",
       "2 2019-07-15 07:59:59+00:00  RIEGL LMS-Q780          1064   \n",
       "\n",
       "  avg_point_density_m2 ground_return_point_density_m2  \\\n",
       "0                  5.9                            2.3   \n",
       "1                   17                              7   \n",
       "2                   18                              3   \n",
       "\n",
       "  horizontal_uncertainty_avg_m vertical_uncertainty_avg_m  \\\n",
       "0                          0.5                       0.13   \n",
       "1                         0.19                      0.088   \n",
       "2                         0.19                        0.1   \n",
       "\n",
       "                                            geometry  \n",
       "0  POLYGON ((-71.22225 43.98755, -71.31731 43.988...  \n",
       "1  POLYGON ((-111.79348 40.76534, -111.79713 40.7...  \n",
       "2  MULTIPOLYGON (((-122.03336 45.77725, -122.0346...  "
      ]
     },
     "execution_count": 4,
     "metadata": {},
     "output_type": "execute_result"
    }
   ],
   "source": [
    "gdf_neon"
   ]
  },
  {
   "cell_type": "code",
   "execution_count": 48,
   "id": "5d528bc0-02e7-4714-b0b8-ee7d856273e1",
   "metadata": {},
   "outputs": [],
   "source": [
    "dpID = 'DP1.30003.001'\n",
    "working_directory = '/panfs/ccds02/nobackup/people/sbhusha1/pcd/neon'\n",
    "\n"
   ]
  },
  {
   "cell_type": "markdown",
   "id": "fd195f43-7f3e-449d-957b-f58f5e2e4779",
   "metadata": {},
   "source": [
    "## BART"
   ]
  },
  {
   "cell_type": "code",
   "execution_count": 52,
   "id": "8a6cc5d5-5e6d-45da-a02a-305c2cb7b071",
   "metadata": {
    "scrolled": true
   },
   "outputs": [
    {
     "name": "stdout",
     "output_type": "stream",
     "text": [
      "files will be downloaded at /panfs/ccds02/nobackup/people/sbhusha1/pcd/neon/BART\n",
      "Downloading metadata\n",
      "Download size: 16.95 MB\n",
      "downloading 2019082513_P1C1_SBET_QAQC.pdf to /panfs/ccds02/nobackup/people/sbhusha1/pcd/neon/BART\n",
      "downloading 2019_BART_5_L3_discrete_lidar_processing.pdf to /panfs/ccds02/nobackup/people/sbhusha1/pcd/neon/BART\n",
      "downloading 2019_BART_5_L1_discrete_lidar_processing.pdf to /panfs/ccds02/nobackup/people/sbhusha1/pcd/neon/BART\n",
      "Download size: 0.61 kB\n",
      "downloading 2019_BART_5_merged_tiles.shp to /panfs/ccds02/nobackup/people/sbhusha1/pcd/neon/BARTshp/\n",
      "Download size: 0.0 kB\n",
      "downloading 2019_BART_5_merged_tiles.shx to /panfs/ccds02/nobackup/people/sbhusha1/pcd/neon/BARTshp/\n",
      "Download size: 388 bytes\n",
      "downloading 2019_BART_5_merged_tiles.prj to /panfs/ccds02/nobackup/people/sbhusha1/pcd/neon/BARTshp/\n",
      "Download size: 0.01 kB\n",
      "downloading 2019_BART_5_merged_tiles.dbf to /panfs/ccds02/nobackup/people/sbhusha1/pcd/neon/BARTshp/\n"
     ]
    },
    {
     "name": "stderr",
     "output_type": "stream",
     "text": [
      "0it [00:00, ?it/s]"
     ]
    },
    {
     "name": "stdout",
     "output_type": "stream",
     "text": [
      "Download size: 36.51 MB\n",
      "downloading NEON_D01_BART_DP1_315000_4873000_classified_point_cloud.kml to /panfs/ccds02/nobackup/people/sbhusha1/pcd/neon/BARTlaz/\n",
      "downloading NEON_D01_BART_DP1_315000_4873000_classified_point_cloud.prj to /panfs/ccds02/nobackup/people/sbhusha1/pcd/neon/BARTlaz/\n",
      "downloading NEON_D01_BART_DP1_315000_4873000_classified_point_cloud.shp to /panfs/ccds02/nobackup/people/sbhusha1/pcd/neon/BARTlaz/\n",
      "downloading NEON_D01_BART_DP1_315000_4873000_classified_point_cloud.shx to /panfs/ccds02/nobackup/people/sbhusha1/pcd/neon/BARTlaz/\n",
      "downloading NEON_D01_BART_DP1_315000_4873000_classified_point_cloud.dbf to /panfs/ccds02/nobackup/people/sbhusha1/pcd/neon/BARTlaz/\n",
      "downloading NEON_D01_BART_DP1_315000_4873000_classified_point_cloud_colorized.laz to /panfs/ccds02/nobackup/people/sbhusha1/pcd/neon/BARTlaz/\n"
     ]
    },
    {
     "name": "stderr",
     "output_type": "stream",
     "text": [
      "1it [00:04,  4.03s/it]"
     ]
    },
    {
     "name": "stdout",
     "output_type": "stream",
     "text": [
      "Download size: 49.52 MB\n",
      "downloading NEON_D01_BART_DP1_315000_4874000_classified_point_cloud_colorized.laz to /panfs/ccds02/nobackup/people/sbhusha1/pcd/neon/BARTlaz/\n",
      "downloading NEON_D01_BART_DP1_315000_4874000_classified_point_cloud.dbf to /panfs/ccds02/nobackup/people/sbhusha1/pcd/neon/BARTlaz/\n",
      "downloading NEON_D01_BART_DP1_315000_4874000_classified_point_cloud.shx to /panfs/ccds02/nobackup/people/sbhusha1/pcd/neon/BARTlaz/\n",
      "downloading NEON_D01_BART_DP1_315000_4874000_classified_point_cloud.shp to /panfs/ccds02/nobackup/people/sbhusha1/pcd/neon/BARTlaz/\n",
      "downloading NEON_D01_BART_DP1_315000_4874000_classified_point_cloud.kml to /panfs/ccds02/nobackup/people/sbhusha1/pcd/neon/BARTlaz/\n",
      "downloading NEON_D01_BART_DP1_315000_4874000_classified_point_cloud.prj to /panfs/ccds02/nobackup/people/sbhusha1/pcd/neon/BARTlaz/\n"
     ]
    },
    {
     "name": "stderr",
     "output_type": "stream",
     "text": [
      "2it [00:07,  3.83s/it]"
     ]
    },
    {
     "name": "stdout",
     "output_type": "stream",
     "text": [
      "Download size: 49.47 MB\n",
      "downloading NEON_D01_BART_DP1_315000_4875000_classified_point_cloud.prj to /panfs/ccds02/nobackup/people/sbhusha1/pcd/neon/BARTlaz/\n",
      "downloading NEON_D01_BART_DP1_315000_4875000_classified_point_cloud.kml to /panfs/ccds02/nobackup/people/sbhusha1/pcd/neon/BARTlaz/\n",
      "downloading NEON_D01_BART_DP1_315000_4875000_classified_point_cloud_colorized.laz to /panfs/ccds02/nobackup/people/sbhusha1/pcd/neon/BARTlaz/\n",
      "downloading NEON_D01_BART_DP1_315000_4875000_classified_point_cloud.shp to /panfs/ccds02/nobackup/people/sbhusha1/pcd/neon/BARTlaz/\n",
      "downloading NEON_D01_BART_DP1_315000_4875000_classified_point_cloud.shx to /panfs/ccds02/nobackup/people/sbhusha1/pcd/neon/BARTlaz/\n",
      "downloading NEON_D01_BART_DP1_315000_4875000_classified_point_cloud.dbf to /panfs/ccds02/nobackup/people/sbhusha1/pcd/neon/BARTlaz/\n"
     ]
    },
    {
     "name": "stderr",
     "output_type": "stream",
     "text": [
      "3it [00:12,  4.30s/it]"
     ]
    },
    {
     "name": "stdout",
     "output_type": "stream",
     "text": [
      "Download size: 59.48 MB\n",
      "downloading NEON_D01_BART_DP1_315000_4876000_classified_point_cloud_colorized.laz to /panfs/ccds02/nobackup/people/sbhusha1/pcd/neon/BARTlaz/\n",
      "downloading NEON_D01_BART_DP1_315000_4876000_classified_point_cloud.prj to /panfs/ccds02/nobackup/people/sbhusha1/pcd/neon/BARTlaz/\n",
      "downloading NEON_D01_BART_DP1_315000_4876000_classified_point_cloud.dbf to /panfs/ccds02/nobackup/people/sbhusha1/pcd/neon/BARTlaz/\n",
      "downloading NEON_D01_BART_DP1_315000_4876000_classified_point_cloud.shx to /panfs/ccds02/nobackup/people/sbhusha1/pcd/neon/BARTlaz/\n",
      "downloading NEON_D01_BART_DP1_315000_4876000_classified_point_cloud.shp to /panfs/ccds02/nobackup/people/sbhusha1/pcd/neon/BARTlaz/\n",
      "downloading NEON_D01_BART_DP1_315000_4876000_classified_point_cloud.kml to /panfs/ccds02/nobackup/people/sbhusha1/pcd/neon/BARTlaz/\n"
     ]
    },
    {
     "name": "stderr",
     "output_type": "stream",
     "text": [
      "4it [00:18,  4.76s/it]"
     ]
    },
    {
     "name": "stdout",
     "output_type": "stream",
     "text": [
      "Download size: 60.59 MB\n",
      "downloading NEON_D01_BART_DP1_315000_4877000_classified_point_cloud.dbf to /panfs/ccds02/nobackup/people/sbhusha1/pcd/neon/BARTlaz/\n",
      "downloading NEON_D01_BART_DP1_315000_4877000_classified_point_cloud.prj to /panfs/ccds02/nobackup/people/sbhusha1/pcd/neon/BARTlaz/\n",
      "downloading NEON_D01_BART_DP1_315000_4877000_classified_point_cloud.shp to /panfs/ccds02/nobackup/people/sbhusha1/pcd/neon/BARTlaz/\n",
      "downloading NEON_D01_BART_DP1_315000_4877000_classified_point_cloud.shx to /panfs/ccds02/nobackup/people/sbhusha1/pcd/neon/BARTlaz/\n",
      "downloading NEON_D01_BART_DP1_315000_4877000_classified_point_cloud.kml to /panfs/ccds02/nobackup/people/sbhusha1/pcd/neon/BARTlaz/\n",
      "downloading NEON_D01_BART_DP1_315000_4877000_classified_point_cloud_colorized.laz to /panfs/ccds02/nobackup/people/sbhusha1/pcd/neon/BARTlaz/\n"
     ]
    },
    {
     "name": "stderr",
     "output_type": "stream",
     "text": [
      "5it [00:23,  4.90s/it]"
     ]
    },
    {
     "name": "stdout",
     "output_type": "stream",
     "text": [
      "Download size: 55.88 MB\n",
      "downloading NEON_D01_BART_DP1_315000_4878000_classified_point_cloud.kml to /panfs/ccds02/nobackup/people/sbhusha1/pcd/neon/BARTlaz/\n",
      "downloading NEON_D01_BART_DP1_315000_4878000_classified_point_cloud_colorized.laz to /panfs/ccds02/nobackup/people/sbhusha1/pcd/neon/BARTlaz/\n",
      "downloading NEON_D01_BART_DP1_315000_4878000_classified_point_cloud.shx to /panfs/ccds02/nobackup/people/sbhusha1/pcd/neon/BARTlaz/\n",
      "downloading NEON_D01_BART_DP1_315000_4878000_classified_point_cloud.shp to /panfs/ccds02/nobackup/people/sbhusha1/pcd/neon/BARTlaz/\n",
      "downloading NEON_D01_BART_DP1_315000_4878000_classified_point_cloud.prj to /panfs/ccds02/nobackup/people/sbhusha1/pcd/neon/BARTlaz/\n",
      "downloading NEON_D01_BART_DP1_315000_4878000_classified_point_cloud.dbf to /panfs/ccds02/nobackup/people/sbhusha1/pcd/neon/BARTlaz/\n"
     ]
    },
    {
     "name": "stderr",
     "output_type": "stream",
     "text": [
      "6it [00:26,  4.39s/it]"
     ]
    },
    {
     "name": "stdout",
     "output_type": "stream",
     "text": [
      "Download size: 39.72 MB\n",
      "downloading NEON_D01_BART_DP1_316000_4873000_classified_point_cloud.prj to /panfs/ccds02/nobackup/people/sbhusha1/pcd/neon/BARTlaz/\n",
      "downloading NEON_D01_BART_DP1_316000_4873000_classified_point_cloud.dbf to /panfs/ccds02/nobackup/people/sbhusha1/pcd/neon/BARTlaz/\n",
      "downloading NEON_D01_BART_DP1_316000_4873000_classified_point_cloud.shp to /panfs/ccds02/nobackup/people/sbhusha1/pcd/neon/BARTlaz/\n",
      "downloading NEON_D01_BART_DP1_316000_4873000_classified_point_cloud.shx to /panfs/ccds02/nobackup/people/sbhusha1/pcd/neon/BARTlaz/\n",
      "downloading NEON_D01_BART_DP1_316000_4873000_classified_point_cloud_colorized.laz to /panfs/ccds02/nobackup/people/sbhusha1/pcd/neon/BARTlaz/\n",
      "downloading NEON_D01_BART_DP1_316000_4873000_classified_point_cloud.kml to /panfs/ccds02/nobackup/people/sbhusha1/pcd/neon/BARTlaz/\n"
     ]
    },
    {
     "name": "stderr",
     "output_type": "stream",
     "text": [
      "7it [00:30,  4.09s/it]"
     ]
    },
    {
     "name": "stdout",
     "output_type": "stream",
     "text": [
      "Download size: 51.73 MB\n",
      "downloading NEON_D01_BART_DP1_316000_4874000_classified_point_cloud.kml to /panfs/ccds02/nobackup/people/sbhusha1/pcd/neon/BARTlaz/\n",
      "downloading NEON_D01_BART_DP1_316000_4874000_classified_point_cloud.shx to /panfs/ccds02/nobackup/people/sbhusha1/pcd/neon/BARTlaz/\n",
      "downloading NEON_D01_BART_DP1_316000_4874000_classified_point_cloud.shp to /panfs/ccds02/nobackup/people/sbhusha1/pcd/neon/BARTlaz/\n",
      "downloading NEON_D01_BART_DP1_316000_4874000_classified_point_cloud.dbf to /panfs/ccds02/nobackup/people/sbhusha1/pcd/neon/BARTlaz/\n",
      "downloading NEON_D01_BART_DP1_316000_4874000_classified_point_cloud.prj to /panfs/ccds02/nobackup/people/sbhusha1/pcd/neon/BARTlaz/\n",
      "downloading NEON_D01_BART_DP1_316000_4874000_classified_point_cloud_colorized.laz to /panfs/ccds02/nobackup/people/sbhusha1/pcd/neon/BARTlaz/\n"
     ]
    },
    {
     "name": "stderr",
     "output_type": "stream",
     "text": [
      "8it [00:34,  4.35s/it]"
     ]
    },
    {
     "name": "stdout",
     "output_type": "stream",
     "text": [
      "Download size: 50.4 MB\n",
      "downloading NEON_D01_BART_DP1_316000_4875000_classified_point_cloud.dbf to /panfs/ccds02/nobackup/people/sbhusha1/pcd/neon/BARTlaz/\n",
      "downloading NEON_D01_BART_DP1_316000_4875000_classified_point_cloud.shp to /panfs/ccds02/nobackup/people/sbhusha1/pcd/neon/BARTlaz/\n",
      "downloading NEON_D01_BART_DP1_316000_4875000_classified_point_cloud.shx to /panfs/ccds02/nobackup/people/sbhusha1/pcd/neon/BARTlaz/\n",
      "downloading NEON_D01_BART_DP1_316000_4875000_classified_point_cloud.kml to /panfs/ccds02/nobackup/people/sbhusha1/pcd/neon/BARTlaz/\n",
      "downloading NEON_D01_BART_DP1_316000_4875000_classified_point_cloud_colorized.laz to /panfs/ccds02/nobackup/people/sbhusha1/pcd/neon/BARTlaz/\n",
      "downloading NEON_D01_BART_DP1_316000_4875000_classified_point_cloud.prj to /panfs/ccds02/nobackup/people/sbhusha1/pcd/neon/BARTlaz/\n"
     ]
    },
    {
     "name": "stderr",
     "output_type": "stream",
     "text": [
      "9it [00:40,  4.63s/it]"
     ]
    },
    {
     "name": "stdout",
     "output_type": "stream",
     "text": [
      "Download size: 52.67 MB\n",
      "downloading NEON_D01_BART_DP1_316000_4876000_classified_point_cloud_colorized.laz to /panfs/ccds02/nobackup/people/sbhusha1/pcd/neon/BARTlaz/\n",
      "downloading NEON_D01_BART_DP1_316000_4876000_classified_point_cloud.kml to /panfs/ccds02/nobackup/people/sbhusha1/pcd/neon/BARTlaz/\n",
      "downloading NEON_D01_BART_DP1_316000_4876000_classified_point_cloud.prj to /panfs/ccds02/nobackup/people/sbhusha1/pcd/neon/BARTlaz/\n",
      "downloading NEON_D01_BART_DP1_316000_4876000_classified_point_cloud.shx to /panfs/ccds02/nobackup/people/sbhusha1/pcd/neon/BARTlaz/\n",
      "downloading NEON_D01_BART_DP1_316000_4876000_classified_point_cloud.shp to /panfs/ccds02/nobackup/people/sbhusha1/pcd/neon/BARTlaz/\n",
      "downloading NEON_D01_BART_DP1_316000_4876000_classified_point_cloud.dbf to /panfs/ccds02/nobackup/people/sbhusha1/pcd/neon/BARTlaz/\n"
     ]
    },
    {
     "name": "stderr",
     "output_type": "stream",
     "text": [
      "10it [00:45,  4.74s/it]"
     ]
    },
    {
     "name": "stdout",
     "output_type": "stream",
     "text": [
      "Download size: 54.93 MB\n",
      "downloading NEON_D01_BART_DP1_316000_4877000_classified_point_cloud.dbf to /panfs/ccds02/nobackup/people/sbhusha1/pcd/neon/BARTlaz/\n",
      "downloading NEON_D01_BART_DP1_316000_4877000_classified_point_cloud.shp to /panfs/ccds02/nobackup/people/sbhusha1/pcd/neon/BARTlaz/\n",
      "downloading NEON_D01_BART_DP1_316000_4877000_classified_point_cloud.shx to /panfs/ccds02/nobackup/people/sbhusha1/pcd/neon/BARTlaz/\n",
      "downloading NEON_D01_BART_DP1_316000_4877000_classified_point_cloud.kml to /panfs/ccds02/nobackup/people/sbhusha1/pcd/neon/BARTlaz/\n",
      "downloading NEON_D01_BART_DP1_316000_4877000_classified_point_cloud.prj to /panfs/ccds02/nobackup/people/sbhusha1/pcd/neon/BARTlaz/\n",
      "downloading NEON_D01_BART_DP1_316000_4877000_classified_point_cloud_colorized.laz to /panfs/ccds02/nobackup/people/sbhusha1/pcd/neon/BARTlaz/\n"
     ]
    },
    {
     "name": "stderr",
     "output_type": "stream",
     "text": [
      "11it [00:50,  4.88s/it]"
     ]
    },
    {
     "name": "stdout",
     "output_type": "stream",
     "text": [
      "Download size: 52.02 MB\n",
      "downloading NEON_D01_BART_DP1_316000_4878000_classified_point_cloud.prj to /panfs/ccds02/nobackup/people/sbhusha1/pcd/neon/BARTlaz/\n",
      "downloading NEON_D01_BART_DP1_316000_4878000_classified_point_cloud.kml to /panfs/ccds02/nobackup/people/sbhusha1/pcd/neon/BARTlaz/\n",
      "downloading NEON_D01_BART_DP1_316000_4878000_classified_point_cloud_colorized.laz to /panfs/ccds02/nobackup/people/sbhusha1/pcd/neon/BARTlaz/\n",
      "downloading NEON_D01_BART_DP1_316000_4878000_classified_point_cloud.shx to /panfs/ccds02/nobackup/people/sbhusha1/pcd/neon/BARTlaz/\n",
      "downloading NEON_D01_BART_DP1_316000_4878000_classified_point_cloud.shp to /panfs/ccds02/nobackup/people/sbhusha1/pcd/neon/BARTlaz/\n",
      "downloading NEON_D01_BART_DP1_316000_4878000_classified_point_cloud.dbf to /panfs/ccds02/nobackup/people/sbhusha1/pcd/neon/BARTlaz/\n"
     ]
    },
    {
     "name": "stderr",
     "output_type": "stream",
     "text": [
      "12it [00:53,  4.37s/it]"
     ]
    },
    {
     "name": "stdout",
     "output_type": "stream",
     "text": [
      "Download size: 42.03 MB\n",
      "downloading NEON_D01_BART_DP1_317000_4873000_classified_point_cloud.shp to /panfs/ccds02/nobackup/people/sbhusha1/pcd/neon/BARTlaz/\n",
      "downloading NEON_D01_BART_DP1_317000_4873000_classified_point_cloud.shx to /panfs/ccds02/nobackup/people/sbhusha1/pcd/neon/BARTlaz/\n",
      "downloading NEON_D01_BART_DP1_317000_4873000_classified_point_cloud.dbf to /panfs/ccds02/nobackup/people/sbhusha1/pcd/neon/BARTlaz/\n",
      "downloading NEON_D01_BART_DP1_317000_4873000_classified_point_cloud_colorized.laz to /panfs/ccds02/nobackup/people/sbhusha1/pcd/neon/BARTlaz/\n",
      "downloading NEON_D01_BART_DP1_317000_4873000_classified_point_cloud.prj to /panfs/ccds02/nobackup/people/sbhusha1/pcd/neon/BARTlaz/\n"
     ]
    },
    {
     "name": "stderr",
     "output_type": "stream",
     "text": [
      "13it [00:56,  3.97s/it]"
     ]
    },
    {
     "name": "stdout",
     "output_type": "stream",
     "text": [
      "downloading NEON_D01_BART_DP1_317000_4873000_classified_point_cloud.kml to /panfs/ccds02/nobackup/people/sbhusha1/pcd/neon/BARTlaz/\n",
      "Download size: 51.68 MB\n",
      "downloading NEON_D01_BART_DP1_317000_4874000_classified_point_cloud.kml to /panfs/ccds02/nobackup/people/sbhusha1/pcd/neon/BARTlaz/\n",
      "downloading NEON_D01_BART_DP1_317000_4874000_classified_point_cloud.prj to /panfs/ccds02/nobackup/people/sbhusha1/pcd/neon/BARTlaz/\n",
      "downloading NEON_D01_BART_DP1_317000_4874000_classified_point_cloud.dbf to /panfs/ccds02/nobackup/people/sbhusha1/pcd/neon/BARTlaz/\n",
      "downloading NEON_D01_BART_DP1_317000_4874000_classified_point_cloud.shx to /panfs/ccds02/nobackup/people/sbhusha1/pcd/neon/BARTlaz/\n",
      "downloading NEON_D01_BART_DP1_317000_4874000_classified_point_cloud.shp to /panfs/ccds02/nobackup/people/sbhusha1/pcd/neon/BARTlaz/\n",
      "downloading NEON_D01_BART_DP1_317000_4874000_classified_point_cloud_colorized.laz to /panfs/ccds02/nobackup/people/sbhusha1/pcd/neon/BARTlaz/\n"
     ]
    },
    {
     "name": "stderr",
     "output_type": "stream",
     "text": [
      "14it [00:59,  3.76s/it]"
     ]
    },
    {
     "name": "stdout",
     "output_type": "stream",
     "text": [
      "Download size: 55.53 MB\n",
      "downloading NEON_D01_BART_DP1_317000_4875000_classified_point_cloud.shp to /panfs/ccds02/nobackup/people/sbhusha1/pcd/neon/BARTlaz/\n",
      "downloading NEON_D01_BART_DP1_317000_4875000_classified_point_cloud.shx to /panfs/ccds02/nobackup/people/sbhusha1/pcd/neon/BARTlaz/\n",
      "downloading NEON_D01_BART_DP1_317000_4875000_classified_point_cloud_colorized.laz to /panfs/ccds02/nobackup/people/sbhusha1/pcd/neon/BARTlaz/\n",
      "downloading NEON_D01_BART_DP1_317000_4875000_classified_point_cloud.kml to /panfs/ccds02/nobackup/people/sbhusha1/pcd/neon/BARTlaz/\n",
      "downloading NEON_D01_BART_DP1_317000_4875000_classified_point_cloud.dbf to /panfs/ccds02/nobackup/people/sbhusha1/pcd/neon/BARTlaz/\n",
      "downloading NEON_D01_BART_DP1_317000_4875000_classified_point_cloud.prj to /panfs/ccds02/nobackup/people/sbhusha1/pcd/neon/BARTlaz/\n"
     ]
    },
    {
     "name": "stderr",
     "output_type": "stream",
     "text": [
      "15it [01:03,  3.60s/it]"
     ]
    },
    {
     "name": "stdout",
     "output_type": "stream",
     "text": [
      "Download size: 57.55 MB\n",
      "downloading NEON_D01_BART_DP1_317000_4876000_classified_point_cloud.prj to /panfs/ccds02/nobackup/people/sbhusha1/pcd/neon/BARTlaz/\n",
      "downloading NEON_D01_BART_DP1_317000_4876000_classified_point_cloud.dbf to /panfs/ccds02/nobackup/people/sbhusha1/pcd/neon/BARTlaz/\n",
      "downloading NEON_D01_BART_DP1_317000_4876000_classified_point_cloud.shx to /panfs/ccds02/nobackup/people/sbhusha1/pcd/neon/BARTlaz/\n",
      "downloading NEON_D01_BART_DP1_317000_4876000_classified_point_cloud.shp to /panfs/ccds02/nobackup/people/sbhusha1/pcd/neon/BARTlaz/\n",
      "downloading NEON_D01_BART_DP1_317000_4876000_classified_point_cloud_colorized.laz to /panfs/ccds02/nobackup/people/sbhusha1/pcd/neon/BARTlaz/\n",
      "downloading NEON_D01_BART_DP1_317000_4876000_classified_point_cloud.kml to /panfs/ccds02/nobackup/people/sbhusha1/pcd/neon/BARTlaz/\n"
     ]
    },
    {
     "name": "stderr",
     "output_type": "stream",
     "text": [
      "16it [01:06,  3.49s/it]"
     ]
    },
    {
     "name": "stdout",
     "output_type": "stream",
     "text": [
      "Download size: 52.5 MB\n",
      "downloading NEON_D01_BART_DP1_317000_4877000_classified_point_cloud.kml to /panfs/ccds02/nobackup/people/sbhusha1/pcd/neon/BARTlaz/\n",
      "downloading NEON_D01_BART_DP1_317000_4877000_classified_point_cloud.shp to /panfs/ccds02/nobackup/people/sbhusha1/pcd/neon/BARTlaz/\n",
      "downloading NEON_D01_BART_DP1_317000_4877000_classified_point_cloud.shx to /panfs/ccds02/nobackup/people/sbhusha1/pcd/neon/BARTlaz/\n",
      "downloading NEON_D01_BART_DP1_317000_4877000_classified_point_cloud.dbf to /panfs/ccds02/nobackup/people/sbhusha1/pcd/neon/BARTlaz/\n",
      "downloading NEON_D01_BART_DP1_317000_4877000_classified_point_cloud.prj to /panfs/ccds02/nobackup/people/sbhusha1/pcd/neon/BARTlaz/\n",
      "downloading NEON_D01_BART_DP1_317000_4877000_classified_point_cloud_colorized.laz to /panfs/ccds02/nobackup/people/sbhusha1/pcd/neon/BARTlaz/\n"
     ]
    },
    {
     "name": "stderr",
     "output_type": "stream",
     "text": [
      "17it [01:09,  3.30s/it]"
     ]
    },
    {
     "name": "stdout",
     "output_type": "stream",
     "text": [
      "Download size: 54.69 MB\n",
      "downloading NEON_D01_BART_DP1_317000_4878000_classified_point_cloud.dbf to /panfs/ccds02/nobackup/people/sbhusha1/pcd/neon/BARTlaz/\n",
      "downloading NEON_D01_BART_DP1_317000_4878000_classified_point_cloud.shx to /panfs/ccds02/nobackup/people/sbhusha1/pcd/neon/BARTlaz/\n",
      "downloading NEON_D01_BART_DP1_317000_4878000_classified_point_cloud.shp to /panfs/ccds02/nobackup/people/sbhusha1/pcd/neon/BARTlaz/\n",
      "downloading NEON_D01_BART_DP1_317000_4878000_classified_point_cloud.kml to /panfs/ccds02/nobackup/people/sbhusha1/pcd/neon/BARTlaz/\n",
      "downloading NEON_D01_BART_DP1_317000_4878000_classified_point_cloud.prj to /panfs/ccds02/nobackup/people/sbhusha1/pcd/neon/BARTlaz/\n",
      "downloading NEON_D01_BART_DP1_317000_4878000_classified_point_cloud_colorized.laz to /panfs/ccds02/nobackup/people/sbhusha1/pcd/neon/BARTlaz/\n"
     ]
    },
    {
     "name": "stderr",
     "output_type": "stream",
     "text": [
      "18it [01:12,  3.27s/it]"
     ]
    },
    {
     "name": "stdout",
     "output_type": "stream",
     "text": [
      "Download size: 36.75 MB\n",
      "downloading NEON_D01_BART_DP1_318000_4873000_classified_point_cloud_colorized.laz to /panfs/ccds02/nobackup/people/sbhusha1/pcd/neon/BARTlaz/\n",
      "downloading NEON_D01_BART_DP1_318000_4873000_classified_point_cloud.prj to /panfs/ccds02/nobackup/people/sbhusha1/pcd/neon/BARTlaz/\n",
      "downloading NEON_D01_BART_DP1_318000_4873000_classified_point_cloud.dbf to /panfs/ccds02/nobackup/people/sbhusha1/pcd/neon/BARTlaz/\n",
      "downloading NEON_D01_BART_DP1_318000_4873000_classified_point_cloud.kml to /panfs/ccds02/nobackup/people/sbhusha1/pcd/neon/BARTlaz/\n",
      "downloading NEON_D01_BART_DP1_318000_4873000_classified_point_cloud.shp to /panfs/ccds02/nobackup/people/sbhusha1/pcd/neon/BARTlaz/\n",
      "downloading NEON_D01_BART_DP1_318000_4873000_classified_point_cloud.shx to /panfs/ccds02/nobackup/people/sbhusha1/pcd/neon/BARTlaz/\n"
     ]
    },
    {
     "name": "stderr",
     "output_type": "stream",
     "text": [
      "19it [01:15,  3.14s/it]"
     ]
    },
    {
     "name": "stdout",
     "output_type": "stream",
     "text": [
      "Download size: 51.61 MB\n",
      "downloading NEON_D01_BART_DP1_318000_4874000_classified_point_cloud.prj to /panfs/ccds02/nobackup/people/sbhusha1/pcd/neon/BARTlaz/\n",
      "downloading NEON_D01_BART_DP1_318000_4874000_classified_point_cloud_colorized.laz to /panfs/ccds02/nobackup/people/sbhusha1/pcd/neon/BARTlaz/\n",
      "downloading NEON_D01_BART_DP1_318000_4874000_classified_point_cloud.kml to /panfs/ccds02/nobackup/people/sbhusha1/pcd/neon/BARTlaz/\n",
      "downloading NEON_D01_BART_DP1_318000_4874000_classified_point_cloud.shx to /panfs/ccds02/nobackup/people/sbhusha1/pcd/neon/BARTlaz/\n",
      "downloading NEON_D01_BART_DP1_318000_4874000_classified_point_cloud.shp to /panfs/ccds02/nobackup/people/sbhusha1/pcd/neon/BARTlaz/\n",
      "downloading NEON_D01_BART_DP1_318000_4874000_classified_point_cloud.dbf to /panfs/ccds02/nobackup/people/sbhusha1/pcd/neon/BARTlaz/\n"
     ]
    },
    {
     "name": "stderr",
     "output_type": "stream",
     "text": [
      "20it [01:18,  3.23s/it]"
     ]
    },
    {
     "name": "stdout",
     "output_type": "stream",
     "text": [
      "Download size: 46.23 MB\n",
      "downloading NEON_D01_BART_DP1_318000_4875000_classified_point_cloud_colorized.laz to /panfs/ccds02/nobackup/people/sbhusha1/pcd/neon/BARTlaz/\n",
      "downloading NEON_D01_BART_DP1_318000_4875000_classified_point_cloud.kml to /panfs/ccds02/nobackup/people/sbhusha1/pcd/neon/BARTlaz/\n",
      "downloading NEON_D01_BART_DP1_318000_4875000_classified_point_cloud.dbf to /panfs/ccds02/nobackup/people/sbhusha1/pcd/neon/BARTlaz/\n",
      "downloading NEON_D01_BART_DP1_318000_4875000_classified_point_cloud.shp to /panfs/ccds02/nobackup/people/sbhusha1/pcd/neon/BARTlaz/\n",
      "downloading NEON_D01_BART_DP1_318000_4875000_classified_point_cloud.shx to /panfs/ccds02/nobackup/people/sbhusha1/pcd/neon/BARTlaz/\n",
      "downloading NEON_D01_BART_DP1_318000_4875000_classified_point_cloud.prj to /panfs/ccds02/nobackup/people/sbhusha1/pcd/neon/BARTlaz/\n"
     ]
    },
    {
     "name": "stderr",
     "output_type": "stream",
     "text": [
      "21it [01:22,  3.27s/it]"
     ]
    },
    {
     "name": "stdout",
     "output_type": "stream",
     "text": [
      "Download size: 50.11 MB\n",
      "downloading NEON_D01_BART_DP1_318000_4876000_classified_point_cloud.shx to /panfs/ccds02/nobackup/people/sbhusha1/pcd/neon/BARTlaz/\n",
      "downloading NEON_D01_BART_DP1_318000_4876000_classified_point_cloud.shp to /panfs/ccds02/nobackup/people/sbhusha1/pcd/neon/BARTlaz/\n",
      "downloading NEON_D01_BART_DP1_318000_4876000_classified_point_cloud.dbf to /panfs/ccds02/nobackup/people/sbhusha1/pcd/neon/BARTlaz/\n",
      "downloading NEON_D01_BART_DP1_318000_4876000_classified_point_cloud.prj to /panfs/ccds02/nobackup/people/sbhusha1/pcd/neon/BARTlaz/\n",
      "downloading NEON_D01_BART_DP1_318000_4876000_classified_point_cloud_colorized.laz to /panfs/ccds02/nobackup/people/sbhusha1/pcd/neon/BARTlaz/\n",
      "downloading NEON_D01_BART_DP1_318000_4876000_classified_point_cloud.kml to /panfs/ccds02/nobackup/people/sbhusha1/pcd/neon/BARTlaz/\n"
     ]
    },
    {
     "name": "stderr",
     "output_type": "stream",
     "text": [
      "22it [01:25,  3.25s/it]"
     ]
    },
    {
     "name": "stdout",
     "output_type": "stream",
     "text": [
      "Download size: 49.32 MB\n",
      "downloading NEON_D01_BART_DP1_318000_4877000_classified_point_cloud.kml to /panfs/ccds02/nobackup/people/sbhusha1/pcd/neon/BARTlaz/\n",
      "downloading NEON_D01_BART_DP1_318000_4877000_classified_point_cloud.prj to /panfs/ccds02/nobackup/people/sbhusha1/pcd/neon/BARTlaz/\n",
      "downloading NEON_D01_BART_DP1_318000_4877000_classified_point_cloud.dbf to /panfs/ccds02/nobackup/people/sbhusha1/pcd/neon/BARTlaz/\n",
      "downloading NEON_D01_BART_DP1_318000_4877000_classified_point_cloud.shx to /panfs/ccds02/nobackup/people/sbhusha1/pcd/neon/BARTlaz/\n",
      "downloading NEON_D01_BART_DP1_318000_4877000_classified_point_cloud.shp to /panfs/ccds02/nobackup/people/sbhusha1/pcd/neon/BARTlaz/\n",
      "downloading NEON_D01_BART_DP1_318000_4877000_classified_point_cloud_colorized.laz to /panfs/ccds02/nobackup/people/sbhusha1/pcd/neon/BARTlaz/\n"
     ]
    },
    {
     "name": "stderr",
     "output_type": "stream",
     "text": [
      "23it [01:28,  3.18s/it]"
     ]
    },
    {
     "name": "stdout",
     "output_type": "stream",
     "text": [
      "Download size: 48.99 MB\n",
      "downloading NEON_D01_BART_DP1_318000_4878000_classified_point_cloud.shx to /panfs/ccds02/nobackup/people/sbhusha1/pcd/neon/BARTlaz/\n",
      "downloading NEON_D01_BART_DP1_318000_4878000_classified_point_cloud.shp to /panfs/ccds02/nobackup/people/sbhusha1/pcd/neon/BARTlaz/\n",
      "downloading NEON_D01_BART_DP1_318000_4878000_classified_point_cloud.kml to /panfs/ccds02/nobackup/people/sbhusha1/pcd/neon/BARTlaz/\n",
      "downloading NEON_D01_BART_DP1_318000_4878000_classified_point_cloud.dbf to /panfs/ccds02/nobackup/people/sbhusha1/pcd/neon/BARTlaz/\n",
      "downloading NEON_D01_BART_DP1_318000_4878000_classified_point_cloud_colorized.laz to /panfs/ccds02/nobackup/people/sbhusha1/pcd/neon/BARTlaz/\n",
      "downloading NEON_D01_BART_DP1_318000_4878000_classified_point_cloud.prj to /panfs/ccds02/nobackup/people/sbhusha1/pcd/neon/BARTlaz/\n"
     ]
    },
    {
     "name": "stderr",
     "output_type": "stream",
     "text": [
      "24it [01:31,  3.12s/it]"
     ]
    },
    {
     "name": "stdout",
     "output_type": "stream",
     "text": [
      "Download size: 33.76 MB\n",
      "downloading NEON_D01_BART_DP1_319000_4873000_classified_point_cloud.dbf to /panfs/ccds02/nobackup/people/sbhusha1/pcd/neon/BARTlaz/\n",
      "downloading NEON_D01_BART_DP1_319000_4873000_classified_point_cloud_colorized.laz to /panfs/ccds02/nobackup/people/sbhusha1/pcd/neon/BARTlaz/\n",
      "downloading NEON_D01_BART_DP1_319000_4873000_classified_point_cloud.prj to /panfs/ccds02/nobackup/people/sbhusha1/pcd/neon/BARTlaz/\n",
      "downloading NEON_D01_BART_DP1_319000_4873000_classified_point_cloud.kml to /panfs/ccds02/nobackup/people/sbhusha1/pcd/neon/BARTlaz/\n",
      "downloading NEON_D01_BART_DP1_319000_4873000_classified_point_cloud.shp to /panfs/ccds02/nobackup/people/sbhusha1/pcd/neon/BARTlaz/\n",
      "downloading NEON_D01_BART_DP1_319000_4873000_classified_point_cloud.shx to /panfs/ccds02/nobackup/people/sbhusha1/pcd/neon/BARTlaz/\n"
     ]
    },
    {
     "name": "stderr",
     "output_type": "stream",
     "text": [
      "25it [01:34,  3.00s/it]"
     ]
    },
    {
     "name": "stdout",
     "output_type": "stream",
     "text": [
      "Download size: 42.39 MB\n",
      "downloading NEON_D01_BART_DP1_319000_4874000_classified_point_cloud.shx to /panfs/ccds02/nobackup/people/sbhusha1/pcd/neon/BARTlaz/\n",
      "downloading NEON_D01_BART_DP1_319000_4874000_classified_point_cloud.shp to /panfs/ccds02/nobackup/people/sbhusha1/pcd/neon/BARTlaz/\n",
      "downloading NEON_D01_BART_DP1_319000_4874000_classified_point_cloud.prj to /panfs/ccds02/nobackup/people/sbhusha1/pcd/neon/BARTlaz/\n",
      "downloading NEON_D01_BART_DP1_319000_4874000_classified_point_cloud.dbf to /panfs/ccds02/nobackup/people/sbhusha1/pcd/neon/BARTlaz/\n",
      "downloading NEON_D01_BART_DP1_319000_4874000_classified_point_cloud_colorized.laz to /panfs/ccds02/nobackup/people/sbhusha1/pcd/neon/BARTlaz/\n",
      "downloading NEON_D01_BART_DP1_319000_4874000_classified_point_cloud.kml to /panfs/ccds02/nobackup/people/sbhusha1/pcd/neon/BARTlaz/\n"
     ]
    },
    {
     "name": "stderr",
     "output_type": "stream",
     "text": [
      "26it [01:36,  2.98s/it]"
     ]
    },
    {
     "name": "stdout",
     "output_type": "stream",
     "text": [
      "Download size: 43.01 MB\n",
      "downloading NEON_D01_BART_DP1_319000_4875000_classified_point_cloud.kml to /panfs/ccds02/nobackup/people/sbhusha1/pcd/neon/BARTlaz/\n",
      "downloading NEON_D01_BART_DP1_319000_4875000_classified_point_cloud_colorized.laz to /panfs/ccds02/nobackup/people/sbhusha1/pcd/neon/BARTlaz/\n",
      "downloading NEON_D01_BART_DP1_319000_4875000_classified_point_cloud.shp to /panfs/ccds02/nobackup/people/sbhusha1/pcd/neon/BARTlaz/\n",
      "downloading NEON_D01_BART_DP1_319000_4875000_classified_point_cloud.shx to /panfs/ccds02/nobackup/people/sbhusha1/pcd/neon/BARTlaz/\n",
      "downloading NEON_D01_BART_DP1_319000_4875000_classified_point_cloud.dbf to /panfs/ccds02/nobackup/people/sbhusha1/pcd/neon/BARTlaz/\n"
     ]
    },
    {
     "name": "stderr",
     "output_type": "stream",
     "text": [
      "27it [01:39,  2.93s/it]"
     ]
    },
    {
     "name": "stdout",
     "output_type": "stream",
     "text": [
      "downloading NEON_D01_BART_DP1_319000_4875000_classified_point_cloud.prj to /panfs/ccds02/nobackup/people/sbhusha1/pcd/neon/BARTlaz/\n",
      "Download size: 44.44 MB\n",
      "downloading NEON_D01_BART_DP1_319000_4876000_classified_point_cloud_colorized.laz to /panfs/ccds02/nobackup/people/sbhusha1/pcd/neon/BARTlaz/\n",
      "downloading NEON_D01_BART_DP1_319000_4876000_classified_point_cloud.prj to /panfs/ccds02/nobackup/people/sbhusha1/pcd/neon/BARTlaz/\n",
      "downloading NEON_D01_BART_DP1_319000_4876000_classified_point_cloud.dbf to /panfs/ccds02/nobackup/people/sbhusha1/pcd/neon/BARTlaz/\n",
      "downloading NEON_D01_BART_DP1_319000_4876000_classified_point_cloud.shp to /panfs/ccds02/nobackup/people/sbhusha1/pcd/neon/BARTlaz/\n",
      "downloading NEON_D01_BART_DP1_319000_4876000_classified_point_cloud.shx to /panfs/ccds02/nobackup/people/sbhusha1/pcd/neon/BARTlaz/\n",
      "downloading NEON_D01_BART_DP1_319000_4876000_classified_point_cloud.kml to /panfs/ccds02/nobackup/people/sbhusha1/pcd/neon/BARTlaz/\n"
     ]
    },
    {
     "name": "stderr",
     "output_type": "stream",
     "text": [
      "28it [01:42,  2.92s/it]"
     ]
    },
    {
     "name": "stdout",
     "output_type": "stream",
     "text": [
      "Download size: 53.76 MB\n",
      "downloading NEON_D01_BART_DP1_319000_4877000_classified_point_cloud.prj to /panfs/ccds02/nobackup/people/sbhusha1/pcd/neon/BARTlaz/\n",
      "downloading NEON_D01_BART_DP1_319000_4877000_classified_point_cloud.shx to /panfs/ccds02/nobackup/people/sbhusha1/pcd/neon/BARTlaz/\n",
      "downloading NEON_D01_BART_DP1_319000_4877000_classified_point_cloud.shp to /panfs/ccds02/nobackup/people/sbhusha1/pcd/neon/BARTlaz/\n",
      "downloading NEON_D01_BART_DP1_319000_4877000_classified_point_cloud_colorized.laz to /panfs/ccds02/nobackup/people/sbhusha1/pcd/neon/BARTlaz/\n",
      "downloading NEON_D01_BART_DP1_319000_4877000_classified_point_cloud.kml to /panfs/ccds02/nobackup/people/sbhusha1/pcd/neon/BARTlaz/\n"
     ]
    },
    {
     "name": "stderr",
     "output_type": "stream",
     "text": [
      "29it [01:45,  2.98s/it]"
     ]
    },
    {
     "name": "stdout",
     "output_type": "stream",
     "text": [
      "downloading NEON_D01_BART_DP1_319000_4877000_classified_point_cloud.dbf to /panfs/ccds02/nobackup/people/sbhusha1/pcd/neon/BARTlaz/\n",
      "Download size: 55.8 MB\n",
      "downloading NEON_D01_BART_DP1_319000_4878000_classified_point_cloud.kml to /panfs/ccds02/nobackup/people/sbhusha1/pcd/neon/BARTlaz/\n",
      "downloading NEON_D01_BART_DP1_319000_4878000_classified_point_cloud_colorized.laz to /panfs/ccds02/nobackup/people/sbhusha1/pcd/neon/BARTlaz/\n",
      "downloading NEON_D01_BART_DP1_319000_4878000_classified_point_cloud.dbf to /panfs/ccds02/nobackup/people/sbhusha1/pcd/neon/BARTlaz/\n",
      "downloading NEON_D01_BART_DP1_319000_4878000_classified_point_cloud.shx to /panfs/ccds02/nobackup/people/sbhusha1/pcd/neon/BARTlaz/\n",
      "downloading NEON_D01_BART_DP1_319000_4878000_classified_point_cloud.shp to /panfs/ccds02/nobackup/people/sbhusha1/pcd/neon/BARTlaz/\n",
      "downloading NEON_D01_BART_DP1_319000_4878000_classified_point_cloud.prj to /panfs/ccds02/nobackup/people/sbhusha1/pcd/neon/BARTlaz/\n"
     ]
    },
    {
     "name": "stderr",
     "output_type": "stream",
     "text": [
      "30it [01:49,  3.25s/it]"
     ]
    },
    {
     "name": "stdout",
     "output_type": "stream",
     "text": [
      "Download size: 39.85 MB\n",
      "downloading NEON_D01_BART_DP1_320000_4873000_classified_point_cloud.shx to /panfs/ccds02/nobackup/people/sbhusha1/pcd/neon/BARTlaz/\n",
      "downloading NEON_D01_BART_DP1_320000_4873000_classified_point_cloud.shp to /panfs/ccds02/nobackup/people/sbhusha1/pcd/neon/BARTlaz/\n",
      "downloading NEON_D01_BART_DP1_320000_4873000_classified_point_cloud.dbf to /panfs/ccds02/nobackup/people/sbhusha1/pcd/neon/BARTlaz/\n",
      "downloading NEON_D01_BART_DP1_320000_4873000_classified_point_cloud.prj to /panfs/ccds02/nobackup/people/sbhusha1/pcd/neon/BARTlaz/\n",
      "downloading NEON_D01_BART_DP1_320000_4873000_classified_point_cloud.kml to /panfs/ccds02/nobackup/people/sbhusha1/pcd/neon/BARTlaz/\n",
      "downloading NEON_D01_BART_DP1_320000_4873000_classified_point_cloud_colorized.laz to /panfs/ccds02/nobackup/people/sbhusha1/pcd/neon/BARTlaz/\n"
     ]
    },
    {
     "name": "stderr",
     "output_type": "stream",
     "text": [
      "31it [01:54,  3.60s/it]"
     ]
    },
    {
     "name": "stdout",
     "output_type": "stream",
     "text": [
      "Download size: 43.81 MB\n",
      "downloading NEON_D01_BART_DP1_320000_4874000_classified_point_cloud.prj to /panfs/ccds02/nobackup/people/sbhusha1/pcd/neon/BARTlaz/\n",
      "downloading NEON_D01_BART_DP1_320000_4874000_classified_point_cloud_colorized.laz to /panfs/ccds02/nobackup/people/sbhusha1/pcd/neon/BARTlaz/\n",
      "downloading NEON_D01_BART_DP1_320000_4874000_classified_point_cloud.dbf to /panfs/ccds02/nobackup/people/sbhusha1/pcd/neon/BARTlaz/\n",
      "downloading NEON_D01_BART_DP1_320000_4874000_classified_point_cloud.kml to /panfs/ccds02/nobackup/people/sbhusha1/pcd/neon/BARTlaz/\n",
      "downloading NEON_D01_BART_DP1_320000_4874000_classified_point_cloud.shx to /panfs/ccds02/nobackup/people/sbhusha1/pcd/neon/BARTlaz/\n",
      "downloading NEON_D01_BART_DP1_320000_4874000_classified_point_cloud.shp to /panfs/ccds02/nobackup/people/sbhusha1/pcd/neon/BARTlaz/\n"
     ]
    },
    {
     "name": "stderr",
     "output_type": "stream",
     "text": [
      "32it [01:58,  3.88s/it]"
     ]
    },
    {
     "name": "stdout",
     "output_type": "stream",
     "text": [
      "Download size: 44.28 MB\n",
      "downloading NEON_D01_BART_DP1_320000_4875000_classified_point_cloud_colorized.laz to /panfs/ccds02/nobackup/people/sbhusha1/pcd/neon/BARTlaz/\n",
      "downloading NEON_D01_BART_DP1_320000_4875000_classified_point_cloud.dbf to /panfs/ccds02/nobackup/people/sbhusha1/pcd/neon/BARTlaz/\n",
      "downloading NEON_D01_BART_DP1_320000_4875000_classified_point_cloud.prj to /panfs/ccds02/nobackup/people/sbhusha1/pcd/neon/BARTlaz/\n",
      "downloading NEON_D01_BART_DP1_320000_4875000_classified_point_cloud.shx to /panfs/ccds02/nobackup/people/sbhusha1/pcd/neon/BARTlaz/\n",
      "downloading NEON_D01_BART_DP1_320000_4875000_classified_point_cloud.kml to /panfs/ccds02/nobackup/people/sbhusha1/pcd/neon/BARTlaz/\n",
      "downloading NEON_D01_BART_DP1_320000_4875000_classified_point_cloud.shp to /panfs/ccds02/nobackup/people/sbhusha1/pcd/neon/BARTlaz/\n"
     ]
    },
    {
     "name": "stderr",
     "output_type": "stream",
     "text": [
      "33it [02:03,  4.10s/it]"
     ]
    },
    {
     "name": "stdout",
     "output_type": "stream",
     "text": [
      "Download size: 44.72 MB\n",
      "downloading NEON_D01_BART_DP1_320000_4876000_classified_point_cloud.shp to /panfs/ccds02/nobackup/people/sbhusha1/pcd/neon/BARTlaz/\n",
      "downloading NEON_D01_BART_DP1_320000_4876000_classified_point_cloud.shx to /panfs/ccds02/nobackup/people/sbhusha1/pcd/neon/BARTlaz/\n",
      "downloading NEON_D01_BART_DP1_320000_4876000_classified_point_cloud.prj to /panfs/ccds02/nobackup/people/sbhusha1/pcd/neon/BARTlaz/\n",
      "downloading NEON_D01_BART_DP1_320000_4876000_classified_point_cloud_colorized.laz to /panfs/ccds02/nobackup/people/sbhusha1/pcd/neon/BARTlaz/\n",
      "downloading NEON_D01_BART_DP1_320000_4876000_classified_point_cloud.dbf to /panfs/ccds02/nobackup/people/sbhusha1/pcd/neon/BARTlaz/\n",
      "downloading NEON_D01_BART_DP1_320000_4876000_classified_point_cloud.kml to /panfs/ccds02/nobackup/people/sbhusha1/pcd/neon/BARTlaz/\n"
     ]
    },
    {
     "name": "stderr",
     "output_type": "stream",
     "text": [
      "34it [02:08,  4.32s/it]"
     ]
    },
    {
     "name": "stdout",
     "output_type": "stream",
     "text": [
      "Download size: 46.05 MB\n",
      "downloading NEON_D01_BART_DP1_320000_4877000_classified_point_cloud.kml to /panfs/ccds02/nobackup/people/sbhusha1/pcd/neon/BARTlaz/\n",
      "downloading NEON_D01_BART_DP1_320000_4877000_classified_point_cloud_colorized.laz to /panfs/ccds02/nobackup/people/sbhusha1/pcd/neon/BARTlaz/\n",
      "downloading NEON_D01_BART_DP1_320000_4877000_classified_point_cloud.shx to /panfs/ccds02/nobackup/people/sbhusha1/pcd/neon/BARTlaz/\n",
      "downloading NEON_D01_BART_DP1_320000_4877000_classified_point_cloud.shp to /panfs/ccds02/nobackup/people/sbhusha1/pcd/neon/BARTlaz/\n",
      "downloading NEON_D01_BART_DP1_320000_4877000_classified_point_cloud.dbf to /panfs/ccds02/nobackup/people/sbhusha1/pcd/neon/BARTlaz/\n",
      "downloading NEON_D01_BART_DP1_320000_4877000_classified_point_cloud.prj to /panfs/ccds02/nobackup/people/sbhusha1/pcd/neon/BARTlaz/\n"
     ]
    },
    {
     "name": "stderr",
     "output_type": "stream",
     "text": [
      "35it [02:12,  4.41s/it]"
     ]
    },
    {
     "name": "stdout",
     "output_type": "stream",
     "text": [
      "Download size: 51.67 MB\n",
      "downloading NEON_D01_BART_DP1_320000_4878000_classified_point_cloud_colorized.laz to /panfs/ccds02/nobackup/people/sbhusha1/pcd/neon/BARTlaz/\n",
      "downloading NEON_D01_BART_DP1_320000_4878000_classified_point_cloud.prj to /panfs/ccds02/nobackup/people/sbhusha1/pcd/neon/BARTlaz/\n",
      "downloading NEON_D01_BART_DP1_320000_4878000_classified_point_cloud.dbf to /panfs/ccds02/nobackup/people/sbhusha1/pcd/neon/BARTlaz/\n",
      "downloading NEON_D01_BART_DP1_320000_4878000_classified_point_cloud.shp to /panfs/ccds02/nobackup/people/sbhusha1/pcd/neon/BARTlaz/\n",
      "downloading NEON_D01_BART_DP1_320000_4878000_classified_point_cloud.shx to /panfs/ccds02/nobackup/people/sbhusha1/pcd/neon/BARTlaz/\n",
      "downloading NEON_D01_BART_DP1_320000_4878000_classified_point_cloud.kml to /panfs/ccds02/nobackup/people/sbhusha1/pcd/neon/BARTlaz/\n"
     ]
    },
    {
     "name": "stderr",
     "output_type": "stream",
     "text": [
      "36it [02:17,  4.59s/it]"
     ]
    },
    {
     "name": "stdout",
     "output_type": "stream",
     "text": [
      "Download size: 0.25 kB\n",
      "downloading NEON_D01_BART_DP1_321000_4872000_classified_point_cloud.shp to /panfs/ccds02/nobackup/people/sbhusha1/pcd/neon/BARTlaz/\n",
      "downloading NEON_D01_BART_DP1_321000_4872000_classified_point_cloud.shx to /panfs/ccds02/nobackup/people/sbhusha1/pcd/neon/BARTlaz/\n",
      "downloading NEON_D01_BART_DP1_321000_4872000_classified_point_cloud.kml to /panfs/ccds02/nobackup/people/sbhusha1/pcd/neon/BARTlaz/\n",
      "downloading NEON_D01_BART_DP1_321000_4872000_classified_point_cloud_colorized.laz to /panfs/ccds02/nobackup/people/sbhusha1/pcd/neon/BARTlaz/\n",
      "downloading NEON_D01_BART_DP1_321000_4872000_classified_point_cloud.prj to /panfs/ccds02/nobackup/people/sbhusha1/pcd/neon/BARTlaz/\n",
      "downloading NEON_D01_BART_DP1_321000_4872000_classified_point_cloud.dbf to /panfs/ccds02/nobackup/people/sbhusha1/pcd/neon/BARTlaz/\n"
     ]
    },
    {
     "name": "stderr",
     "output_type": "stream",
     "text": [
      "37it [02:20,  4.15s/it]"
     ]
    },
    {
     "name": "stdout",
     "output_type": "stream",
     "text": [
      "Download size: 34.36 MB\n",
      "downloading NEON_D01_BART_DP1_321000_4873000_classified_point_cloud.kml to /panfs/ccds02/nobackup/people/sbhusha1/pcd/neon/BARTlaz/\n",
      "downloading NEON_D01_BART_DP1_321000_4873000_classified_point_cloud.prj to /panfs/ccds02/nobackup/people/sbhusha1/pcd/neon/BARTlaz/\n",
      "downloading NEON_D01_BART_DP1_321000_4873000_classified_point_cloud.dbf to /panfs/ccds02/nobackup/people/sbhusha1/pcd/neon/BARTlaz/\n",
      "downloading NEON_D01_BART_DP1_321000_4873000_classified_point_cloud.shx to /panfs/ccds02/nobackup/people/sbhusha1/pcd/neon/BARTlaz/\n",
      "downloading NEON_D01_BART_DP1_321000_4873000_classified_point_cloud.shp to /panfs/ccds02/nobackup/people/sbhusha1/pcd/neon/BARTlaz/\n",
      "downloading NEON_D01_BART_DP1_321000_4873000_classified_point_cloud_colorized.laz to /panfs/ccds02/nobackup/people/sbhusha1/pcd/neon/BARTlaz/\n"
     ]
    },
    {
     "name": "stderr",
     "output_type": "stream",
     "text": [
      "38it [02:25,  4.20s/it]"
     ]
    },
    {
     "name": "stdout",
     "output_type": "stream",
     "text": [
      "Download size: 39.83 MB\n",
      "downloading NEON_D01_BART_DP1_321000_4874000_classified_point_cloud.shx to /panfs/ccds02/nobackup/people/sbhusha1/pcd/neon/BARTlaz/\n",
      "downloading NEON_D01_BART_DP1_321000_4874000_classified_point_cloud.shp to /panfs/ccds02/nobackup/people/sbhusha1/pcd/neon/BARTlaz/\n",
      "downloading NEON_D01_BART_DP1_321000_4874000_classified_point_cloud.dbf to /panfs/ccds02/nobackup/people/sbhusha1/pcd/neon/BARTlaz/\n",
      "downloading NEON_D01_BART_DP1_321000_4874000_classified_point_cloud.kml to /panfs/ccds02/nobackup/people/sbhusha1/pcd/neon/BARTlaz/\n",
      "downloading NEON_D01_BART_DP1_321000_4874000_classified_point_cloud.prj to /panfs/ccds02/nobackup/people/sbhusha1/pcd/neon/BARTlaz/\n",
      "downloading NEON_D01_BART_DP1_321000_4874000_classified_point_cloud_colorized.laz to /panfs/ccds02/nobackup/people/sbhusha1/pcd/neon/BARTlaz/\n"
     ]
    },
    {
     "name": "stderr",
     "output_type": "stream",
     "text": [
      "39it [02:29,  4.39s/it]"
     ]
    },
    {
     "name": "stdout",
     "output_type": "stream",
     "text": [
      "Download size: 45.06 MB\n",
      "downloading NEON_D01_BART_DP1_321000_4875000_classified_point_cloud.kml to /panfs/ccds02/nobackup/people/sbhusha1/pcd/neon/BARTlaz/\n",
      "downloading NEON_D01_BART_DP1_321000_4875000_classified_point_cloud.prj to /panfs/ccds02/nobackup/people/sbhusha1/pcd/neon/BARTlaz/\n",
      "downloading NEON_D01_BART_DP1_321000_4875000_classified_point_cloud.dbf to /panfs/ccds02/nobackup/people/sbhusha1/pcd/neon/BARTlaz/\n",
      "downloading NEON_D01_BART_DP1_321000_4875000_classified_point_cloud_colorized.laz to /panfs/ccds02/nobackup/people/sbhusha1/pcd/neon/BARTlaz/\n",
      "downloading NEON_D01_BART_DP1_321000_4875000_classified_point_cloud.shp to /panfs/ccds02/nobackup/people/sbhusha1/pcd/neon/BARTlaz/\n",
      "downloading NEON_D01_BART_DP1_321000_4875000_classified_point_cloud.shx to /panfs/ccds02/nobackup/people/sbhusha1/pcd/neon/BARTlaz/\n"
     ]
    },
    {
     "name": "stderr",
     "output_type": "stream",
     "text": [
      "40it [02:35,  4.72s/it]"
     ]
    },
    {
     "name": "stdout",
     "output_type": "stream",
     "text": [
      "Download size: 41.2 MB\n",
      "downloading NEON_D01_BART_DP1_321000_4876000_classified_point_cloud_colorized.laz to /panfs/ccds02/nobackup/people/sbhusha1/pcd/neon/BARTlaz/\n",
      "downloading NEON_D01_BART_DP1_321000_4876000_classified_point_cloud.shx to /panfs/ccds02/nobackup/people/sbhusha1/pcd/neon/BARTlaz/\n",
      "downloading NEON_D01_BART_DP1_321000_4876000_classified_point_cloud.shp to /panfs/ccds02/nobackup/people/sbhusha1/pcd/neon/BARTlaz/\n",
      "downloading NEON_D01_BART_DP1_321000_4876000_classified_point_cloud.dbf to /panfs/ccds02/nobackup/people/sbhusha1/pcd/neon/BARTlaz/\n",
      "downloading NEON_D01_BART_DP1_321000_4876000_classified_point_cloud.prj to /panfs/ccds02/nobackup/people/sbhusha1/pcd/neon/BARTlaz/\n",
      "downloading NEON_D01_BART_DP1_321000_4876000_classified_point_cloud.kml to /panfs/ccds02/nobackup/people/sbhusha1/pcd/neon/BARTlaz/\n"
     ]
    },
    {
     "name": "stderr",
     "output_type": "stream",
     "text": [
      "41it [02:40,  4.83s/it]"
     ]
    },
    {
     "name": "stdout",
     "output_type": "stream",
     "text": [
      "Download size: 44.42 MB\n",
      "downloading NEON_D01_BART_DP1_321000_4877000_classified_point_cloud.prj to /panfs/ccds02/nobackup/people/sbhusha1/pcd/neon/BARTlaz/\n",
      "downloading NEON_D01_BART_DP1_321000_4877000_classified_point_cloud.dbf to /panfs/ccds02/nobackup/people/sbhusha1/pcd/neon/BARTlaz/\n",
      "downloading NEON_D01_BART_DP1_321000_4877000_classified_point_cloud.shx to /panfs/ccds02/nobackup/people/sbhusha1/pcd/neon/BARTlaz/\n",
      "downloading NEON_D01_BART_DP1_321000_4877000_classified_point_cloud.shp to /panfs/ccds02/nobackup/people/sbhusha1/pcd/neon/BARTlaz/\n",
      "downloading NEON_D01_BART_DP1_321000_4877000_classified_point_cloud.kml to /panfs/ccds02/nobackup/people/sbhusha1/pcd/neon/BARTlaz/\n",
      "downloading NEON_D01_BART_DP1_321000_4877000_classified_point_cloud_colorized.laz to /panfs/ccds02/nobackup/people/sbhusha1/pcd/neon/BARTlaz/\n"
     ]
    },
    {
     "name": "stderr",
     "output_type": "stream",
     "text": [
      "42it [02:45,  4.84s/it]"
     ]
    },
    {
     "name": "stdout",
     "output_type": "stream",
     "text": [
      "Download size: 49.55 MB\n",
      "downloading NEON_D01_BART_DP1_321000_4878000_classified_point_cloud.dbf to /panfs/ccds02/nobackup/people/sbhusha1/pcd/neon/BARTlaz/\n",
      "downloading NEON_D01_BART_DP1_321000_4878000_classified_point_cloud.prj to /panfs/ccds02/nobackup/people/sbhusha1/pcd/neon/BARTlaz/\n",
      "downloading NEON_D01_BART_DP1_321000_4878000_classified_point_cloud_colorized.laz to /panfs/ccds02/nobackup/people/sbhusha1/pcd/neon/BARTlaz/\n",
      "downloading NEON_D01_BART_DP1_321000_4878000_classified_point_cloud.kml to /panfs/ccds02/nobackup/people/sbhusha1/pcd/neon/BARTlaz/\n",
      "downloading NEON_D01_BART_DP1_321000_4878000_classified_point_cloud.shp to /panfs/ccds02/nobackup/people/sbhusha1/pcd/neon/BARTlaz/\n",
      "downloading NEON_D01_BART_DP1_321000_4878000_classified_point_cloud.shx to /panfs/ccds02/nobackup/people/sbhusha1/pcd/neon/BARTlaz/\n"
     ]
    },
    {
     "name": "stderr",
     "output_type": "stream",
     "text": [
      "43it [02:50,  4.89s/it]"
     ]
    },
    {
     "name": "stdout",
     "output_type": "stream",
     "text": [
      "Download size: 0.05 kB\n",
      "downloading NEON_D01_BART_DP1_322000_4872000_classified_point_cloud_colorized.laz to /panfs/ccds02/nobackup/people/sbhusha1/pcd/neon/BARTlaz/\n",
      "downloading NEON_D01_BART_DP1_322000_4872000_classified_point_cloud.shp to /panfs/ccds02/nobackup/people/sbhusha1/pcd/neon/BARTlaz/\n",
      "downloading NEON_D01_BART_DP1_322000_4872000_classified_point_cloud.shx to /panfs/ccds02/nobackup/people/sbhusha1/pcd/neon/BARTlaz/\n",
      "downloading NEON_D01_BART_DP1_322000_4872000_classified_point_cloud.kml to /panfs/ccds02/nobackup/people/sbhusha1/pcd/neon/BARTlaz/\n",
      "downloading NEON_D01_BART_DP1_322000_4872000_classified_point_cloud.dbf to /panfs/ccds02/nobackup/people/sbhusha1/pcd/neon/BARTlaz/\n",
      "downloading NEON_D01_BART_DP1_322000_4872000_classified_point_cloud.prj to /panfs/ccds02/nobackup/people/sbhusha1/pcd/neon/BARTlaz/\n"
     ]
    },
    {
     "name": "stderr",
     "output_type": "stream",
     "text": [
      "44it [02:53,  4.36s/it]"
     ]
    },
    {
     "name": "stdout",
     "output_type": "stream",
     "text": [
      "Download size: 33.29 MB\n",
      "downloading NEON_D01_BART_DP1_322000_4873000_classified_point_cloud.kml to /panfs/ccds02/nobackup/people/sbhusha1/pcd/neon/BARTlaz/\n",
      "downloading NEON_D01_BART_DP1_322000_4873000_classified_point_cloud_colorized.laz to /panfs/ccds02/nobackup/people/sbhusha1/pcd/neon/BARTlaz/\n",
      "downloading NEON_D01_BART_DP1_322000_4873000_classified_point_cloud.dbf to /panfs/ccds02/nobackup/people/sbhusha1/pcd/neon/BARTlaz/\n",
      "downloading NEON_D01_BART_DP1_322000_4873000_classified_point_cloud.prj to /panfs/ccds02/nobackup/people/sbhusha1/pcd/neon/BARTlaz/\n",
      "downloading NEON_D01_BART_DP1_322000_4873000_classified_point_cloud.shx to /panfs/ccds02/nobackup/people/sbhusha1/pcd/neon/BARTlaz/\n",
      "downloading NEON_D01_BART_DP1_322000_4873000_classified_point_cloud.shp to /panfs/ccds02/nobackup/people/sbhusha1/pcd/neon/BARTlaz/\n"
     ]
    },
    {
     "name": "stderr",
     "output_type": "stream",
     "text": [
      "45it [02:57,  4.35s/it]"
     ]
    },
    {
     "name": "stdout",
     "output_type": "stream",
     "text": [
      "Download size: 39.23 MB\n",
      "downloading NEON_D01_BART_DP1_322000_4874000_classified_point_cloud.shx to /panfs/ccds02/nobackup/people/sbhusha1/pcd/neon/BARTlaz/\n",
      "downloading NEON_D01_BART_DP1_322000_4874000_classified_point_cloud.shp to /panfs/ccds02/nobackup/people/sbhusha1/pcd/neon/BARTlaz/\n",
      "downloading NEON_D01_BART_DP1_322000_4874000_classified_point_cloud.kml to /panfs/ccds02/nobackup/people/sbhusha1/pcd/neon/BARTlaz/\n",
      "downloading NEON_D01_BART_DP1_322000_4874000_classified_point_cloud.prj to /panfs/ccds02/nobackup/people/sbhusha1/pcd/neon/BARTlaz/\n",
      "downloading NEON_D01_BART_DP1_322000_4874000_classified_point_cloud.dbf to /panfs/ccds02/nobackup/people/sbhusha1/pcd/neon/BARTlaz/\n",
      "downloading NEON_D01_BART_DP1_322000_4874000_classified_point_cloud_colorized.laz to /panfs/ccds02/nobackup/people/sbhusha1/pcd/neon/BARTlaz/\n"
     ]
    },
    {
     "name": "stderr",
     "output_type": "stream",
     "text": [
      "46it [03:00,  3.89s/it]"
     ]
    },
    {
     "name": "stdout",
     "output_type": "stream",
     "text": [
      "Download size: 45.26 MB\n",
      "downloading NEON_D01_BART_DP1_322000_4875000_classified_point_cloud.dbf to /panfs/ccds02/nobackup/people/sbhusha1/pcd/neon/BARTlaz/\n",
      "downloading NEON_D01_BART_DP1_322000_4875000_classified_point_cloud.prj to /panfs/ccds02/nobackup/people/sbhusha1/pcd/neon/BARTlaz/\n",
      "downloading NEON_D01_BART_DP1_322000_4875000_classified_point_cloud_colorized.laz to /panfs/ccds02/nobackup/people/sbhusha1/pcd/neon/BARTlaz/\n",
      "downloading NEON_D01_BART_DP1_322000_4875000_classified_point_cloud.shx to /panfs/ccds02/nobackup/people/sbhusha1/pcd/neon/BARTlaz/\n",
      "downloading NEON_D01_BART_DP1_322000_4875000_classified_point_cloud.kml to /panfs/ccds02/nobackup/people/sbhusha1/pcd/neon/BARTlaz/\n"
     ]
    },
    {
     "name": "stderr",
     "output_type": "stream",
     "text": [
      "47it [03:02,  3.39s/it]"
     ]
    },
    {
     "name": "stdout",
     "output_type": "stream",
     "text": [
      "downloading NEON_D01_BART_DP1_322000_4875000_classified_point_cloud.shp to /panfs/ccds02/nobackup/people/sbhusha1/pcd/neon/BARTlaz/\n",
      "Download size: 44.62 MB\n",
      "downloading NEON_D01_BART_DP1_322000_4876000_classified_point_cloud.kml to /panfs/ccds02/nobackup/people/sbhusha1/pcd/neon/BARTlaz/\n",
      "downloading NEON_D01_BART_DP1_322000_4876000_classified_point_cloud.prj to /panfs/ccds02/nobackup/people/sbhusha1/pcd/neon/BARTlaz/\n",
      "downloading NEON_D01_BART_DP1_322000_4876000_classified_point_cloud.dbf to /panfs/ccds02/nobackup/people/sbhusha1/pcd/neon/BARTlaz/\n",
      "downloading NEON_D01_BART_DP1_322000_4876000_classified_point_cloud.shp to /panfs/ccds02/nobackup/people/sbhusha1/pcd/neon/BARTlaz/\n",
      "downloading NEON_D01_BART_DP1_322000_4876000_classified_point_cloud.shx to /panfs/ccds02/nobackup/people/sbhusha1/pcd/neon/BARTlaz/\n",
      "downloading NEON_D01_BART_DP1_322000_4876000_classified_point_cloud_colorized.laz to /panfs/ccds02/nobackup/people/sbhusha1/pcd/neon/BARTlaz/\n"
     ]
    },
    {
     "name": "stderr",
     "output_type": "stream",
     "text": [
      "48it [03:05,  3.09s/it]"
     ]
    },
    {
     "name": "stdout",
     "output_type": "stream",
     "text": [
      "Download size: 48.44 MB\n",
      "downloading NEON_D01_BART_DP1_322000_4877000_classified_point_cloud.shx to /panfs/ccds02/nobackup/people/sbhusha1/pcd/neon/BARTlaz/\n",
      "downloading NEON_D01_BART_DP1_322000_4877000_classified_point_cloud.shp to /panfs/ccds02/nobackup/people/sbhusha1/pcd/neon/BARTlaz/\n",
      "downloading NEON_D01_BART_DP1_322000_4877000_classified_point_cloud.dbf to /panfs/ccds02/nobackup/people/sbhusha1/pcd/neon/BARTlaz/\n",
      "downloading NEON_D01_BART_DP1_322000_4877000_classified_point_cloud.kml to /panfs/ccds02/nobackup/people/sbhusha1/pcd/neon/BARTlaz/\n",
      "downloading NEON_D01_BART_DP1_322000_4877000_classified_point_cloud.prj to /panfs/ccds02/nobackup/people/sbhusha1/pcd/neon/BARTlaz/\n",
      "downloading NEON_D01_BART_DP1_322000_4877000_classified_point_cloud_colorized.laz to /panfs/ccds02/nobackup/people/sbhusha1/pcd/neon/BARTlaz/\n"
     ]
    },
    {
     "name": "stderr",
     "output_type": "stream",
     "text": [
      "49it [03:07,  2.94s/it]"
     ]
    },
    {
     "name": "stdout",
     "output_type": "stream",
     "text": [
      "Download size: 50.91 MB\n",
      "downloading NEON_D01_BART_DP1_322000_4878000_classified_point_cloud.kml to /panfs/ccds02/nobackup/people/sbhusha1/pcd/neon/BARTlaz/\n",
      "downloading NEON_D01_BART_DP1_322000_4878000_classified_point_cloud.prj to /panfs/ccds02/nobackup/people/sbhusha1/pcd/neon/BARTlaz/\n",
      "downloading NEON_D01_BART_DP1_322000_4878000_classified_point_cloud.dbf to /panfs/ccds02/nobackup/people/sbhusha1/pcd/neon/BARTlaz/\n",
      "downloading NEON_D01_BART_DP1_322000_4878000_classified_point_cloud.shp to /panfs/ccds02/nobackup/people/sbhusha1/pcd/neon/BARTlaz/\n",
      "downloading NEON_D01_BART_DP1_322000_4878000_classified_point_cloud.shx to /panfs/ccds02/nobackup/people/sbhusha1/pcd/neon/BARTlaz/\n",
      "downloading NEON_D01_BART_DP1_322000_4878000_classified_point_cloud_colorized.laz to /panfs/ccds02/nobackup/people/sbhusha1/pcd/neon/BARTlaz/\n"
     ]
    },
    {
     "name": "stderr",
     "output_type": "stream",
     "text": [
      "50it [03:10,  2.94s/it]"
     ]
    },
    {
     "name": "stdout",
     "output_type": "stream",
     "text": [
      "Download size: 3.68 MB\n",
      "downloading NEON_D01_BART_DP1_323000_4873000_classified_point_cloud.dbf to /panfs/ccds02/nobackup/people/sbhusha1/pcd/neon/BARTlaz/\n",
      "downloading NEON_D01_BART_DP1_323000_4873000_classified_point_cloud.shx to /panfs/ccds02/nobackup/people/sbhusha1/pcd/neon/BARTlaz/\n",
      "downloading NEON_D01_BART_DP1_323000_4873000_classified_point_cloud.shp to /panfs/ccds02/nobackup/people/sbhusha1/pcd/neon/BARTlaz/\n",
      "downloading NEON_D01_BART_DP1_323000_4873000_classified_point_cloud_colorized.laz to /panfs/ccds02/nobackup/people/sbhusha1/pcd/neon/BARTlaz/\n",
      "downloading NEON_D01_BART_DP1_323000_4873000_classified_point_cloud.prj to /panfs/ccds02/nobackup/people/sbhusha1/pcd/neon/BARTlaz/\n"
     ]
    },
    {
     "name": "stderr",
     "output_type": "stream",
     "text": [
      "51it [03:13,  2.73s/it]"
     ]
    },
    {
     "name": "stdout",
     "output_type": "stream",
     "text": [
      "downloading NEON_D01_BART_DP1_323000_4873000_classified_point_cloud.kml to /panfs/ccds02/nobackup/people/sbhusha1/pcd/neon/BARTlaz/\n",
      "Download size: 5.06 MB\n",
      "downloading NEON_D01_BART_DP1_323000_4874000_classified_point_cloud_colorized.laz to /panfs/ccds02/nobackup/people/sbhusha1/pcd/neon/BARTlaz/\n",
      "downloading NEON_D01_BART_DP1_323000_4874000_classified_point_cloud.shx to /panfs/ccds02/nobackup/people/sbhusha1/pcd/neon/BARTlaz/\n",
      "downloading NEON_D01_BART_DP1_323000_4874000_classified_point_cloud.kml to /panfs/ccds02/nobackup/people/sbhusha1/pcd/neon/BARTlaz/\n",
      "downloading NEON_D01_BART_DP1_323000_4874000_classified_point_cloud.shp to /panfs/ccds02/nobackup/people/sbhusha1/pcd/neon/BARTlaz/\n",
      "downloading NEON_D01_BART_DP1_323000_4874000_classified_point_cloud.dbf to /panfs/ccds02/nobackup/people/sbhusha1/pcd/neon/BARTlaz/\n"
     ]
    },
    {
     "name": "stderr",
     "output_type": "stream",
     "text": [
      "52it [03:15,  2.49s/it]"
     ]
    },
    {
     "name": "stdout",
     "output_type": "stream",
     "text": [
      "downloading NEON_D01_BART_DP1_323000_4874000_classified_point_cloud.prj to /panfs/ccds02/nobackup/people/sbhusha1/pcd/neon/BARTlaz/\n",
      "Download size: 5.55 MB\n",
      "downloading NEON_D01_BART_DP1_323000_4875000_classified_point_cloud.shx to /panfs/ccds02/nobackup/people/sbhusha1/pcd/neon/BARTlaz/\n",
      "downloading NEON_D01_BART_DP1_323000_4875000_classified_point_cloud.shp to /panfs/ccds02/nobackup/people/sbhusha1/pcd/neon/BARTlaz/\n",
      "downloading NEON_D01_BART_DP1_323000_4875000_classified_point_cloud_colorized.laz to /panfs/ccds02/nobackup/people/sbhusha1/pcd/neon/BARTlaz/\n",
      "downloading NEON_D01_BART_DP1_323000_4875000_classified_point_cloud.kml to /panfs/ccds02/nobackup/people/sbhusha1/pcd/neon/BARTlaz/\n",
      "downloading NEON_D01_BART_DP1_323000_4875000_classified_point_cloud.prj to /panfs/ccds02/nobackup/people/sbhusha1/pcd/neon/BARTlaz/\n"
     ]
    },
    {
     "name": "stderr",
     "output_type": "stream",
     "text": [
      "53it [03:17,  2.37s/it]"
     ]
    },
    {
     "name": "stdout",
     "output_type": "stream",
     "text": [
      "downloading NEON_D01_BART_DP1_323000_4875000_classified_point_cloud.dbf to /panfs/ccds02/nobackup/people/sbhusha1/pcd/neon/BARTlaz/\n",
      "Download size: 5.92 MB\n",
      "downloading NEON_D01_BART_DP1_323000_4876000_classified_point_cloud.kml to /panfs/ccds02/nobackup/people/sbhusha1/pcd/neon/BARTlaz/\n",
      "downloading NEON_D01_BART_DP1_323000_4876000_classified_point_cloud.dbf to /panfs/ccds02/nobackup/people/sbhusha1/pcd/neon/BARTlaz/\n",
      "downloading NEON_D01_BART_DP1_323000_4876000_classified_point_cloud.prj to /panfs/ccds02/nobackup/people/sbhusha1/pcd/neon/BARTlaz/\n",
      "downloading NEON_D01_BART_DP1_323000_4876000_classified_point_cloud.shp to /panfs/ccds02/nobackup/people/sbhusha1/pcd/neon/BARTlaz/\n",
      "downloading NEON_D01_BART_DP1_323000_4876000_classified_point_cloud_colorized.laz to /panfs/ccds02/nobackup/people/sbhusha1/pcd/neon/BARTlaz/\n"
     ]
    },
    {
     "name": "stderr",
     "output_type": "stream",
     "text": [
      "54it [03:19,  2.25s/it]"
     ]
    },
    {
     "name": "stdout",
     "output_type": "stream",
     "text": [
      "downloading NEON_D01_BART_DP1_323000_4876000_classified_point_cloud.shx to /panfs/ccds02/nobackup/people/sbhusha1/pcd/neon/BARTlaz/\n",
      "Download size: 6.78 MB\n",
      "downloading NEON_D01_BART_DP1_323000_4877000_classified_point_cloud.shx to /panfs/ccds02/nobackup/people/sbhusha1/pcd/neon/BARTlaz/\n",
      "downloading NEON_D01_BART_DP1_323000_4877000_classified_point_cloud.shp to /panfs/ccds02/nobackup/people/sbhusha1/pcd/neon/BARTlaz/\n",
      "downloading NEON_D01_BART_DP1_323000_4877000_classified_point_cloud.kml to /panfs/ccds02/nobackup/people/sbhusha1/pcd/neon/BARTlaz/\n",
      "downloading NEON_D01_BART_DP1_323000_4877000_classified_point_cloud.prj to /panfs/ccds02/nobackup/people/sbhusha1/pcd/neon/BARTlaz/\n",
      "downloading NEON_D01_BART_DP1_323000_4877000_classified_point_cloud.dbf to /panfs/ccds02/nobackup/people/sbhusha1/pcd/neon/BARTlaz/\n",
      "downloading NEON_D01_BART_DP1_323000_4877000_classified_point_cloud_colorized.laz to /panfs/ccds02/nobackup/people/sbhusha1/pcd/neon/BARTlaz/\n"
     ]
    },
    {
     "name": "stderr",
     "output_type": "stream",
     "text": [
      "55it [03:22,  2.47s/it]"
     ]
    },
    {
     "name": "stdout",
     "output_type": "stream",
     "text": [
      "Download size: 7.42 MB\n",
      "downloading NEON_D01_BART_DP1_323000_4878000_classified_point_cloud.dbf to /panfs/ccds02/nobackup/people/sbhusha1/pcd/neon/BARTlaz/\n",
      "downloading NEON_D01_BART_DP1_323000_4878000_classified_point_cloud.prj to /panfs/ccds02/nobackup/people/sbhusha1/pcd/neon/BARTlaz/\n",
      "downloading NEON_D01_BART_DP1_323000_4878000_classified_point_cloud_colorized.laz to /panfs/ccds02/nobackup/people/sbhusha1/pcd/neon/BARTlaz/\n",
      "downloading NEON_D01_BART_DP1_323000_4878000_classified_point_cloud.kml to /panfs/ccds02/nobackup/people/sbhusha1/pcd/neon/BARTlaz/\n",
      "downloading NEON_D01_BART_DP1_323000_4878000_classified_point_cloud.shp to /panfs/ccds02/nobackup/people/sbhusha1/pcd/neon/BARTlaz/\n",
      "downloading NEON_D01_BART_DP1_323000_4878000_classified_point_cloud.shx to /panfs/ccds02/nobackup/people/sbhusha1/pcd/neon/BARTlaz/\n"
     ]
    },
    {
     "name": "stderr",
     "output_type": "stream",
     "text": [
      "56it [03:24,  3.64s/it]\n"
     ]
    },
    {
     "data": {
      "image/png": "[encoded data removed]",
      "text/plain": [
       "<Figure size 640x480 with 1 Axes>"
      ]
     },
     "metadata": {},
     "output_type": "display_data"
    }
   ],
   "source": [
    "iloc = 0\n",
    "site_neon_gdf = gdf_neon.iloc[[iloc]]\n",
    "site = site_neon_gdf.neon_id.values[0]\n",
    "year = str(site_neon_gdf.start_datetime.values[0].item().year)\n",
    "download_path = os.path.join(working_directory,site)\n",
    "if not os.path.exists(download_path):\n",
    "    os.makedirs(download_path)\n",
    "print(f\"files will be downloaded at {download_path}\")\n",
    "aoi_tile_shp = download_metadata(year,download_path,dpID,site)\n",
    "download_lpc_tiles(aoi_tile_shp,gdf_fourway.iloc[[iloc]],download_path,dpID,site,year)"
   ]
  },
  {
   "cell_type": "markdown",
   "id": "048b48fb-8151-4435-8740-3145bbe40eac",
   "metadata": {},
   "source": [
    "## REDB"
   ]
  },
  {
   "cell_type": "code",
   "execution_count": 68,
   "id": "05c38548-ded8-46c1-8149-fe2da1232c6e",
   "metadata": {
    "scrolled": true
   },
   "outputs": [
    {
     "name": "stdout",
     "output_type": "stream",
     "text": [
      "2021\n",
      "files will be downloaded at /panfs/ccds02/nobackup/people/sbhusha1/pcd/neon/REDB\n",
      "Downloading metadata\n",
      "Download size: 17.67 MB\n",
      "downloading 2021_REDB_3_L1_discrete_lidar_processing.pdf to /panfs/ccds02/nobackup/people/sbhusha1/pcd/neon/REDB\n",
      "downloading 2021052015_P3C1_SBET_QAQC.pdf to /panfs/ccds02/nobackup/people/sbhusha1/pcd/neon/REDB\n",
      "downloading 2021_REDB_3_L3_discrete_lidar_processing.pdf to /panfs/ccds02/nobackup/people/sbhusha1/pcd/neon/REDB\n",
      "Download size: 0.49 kB\n",
      "downloading 2021_REDB_3_merged_tiles.shp to /panfs/ccds02/nobackup/people/sbhusha1/pcd/neon/REDBshp/\n",
      "Download size: 524 bytes\n",
      "downloading 2021_REDB_3_merged_tiles.shx to /panfs/ccds02/nobackup/people/sbhusha1/pcd/neon/REDBshp/\n",
      "Download size: 391 bytes\n",
      "downloading 2021_REDB_3_merged_tiles.prj to /panfs/ccds02/nobackup/people/sbhusha1/pcd/neon/REDBshp/\n",
      "Download size: 0.0 kB\n",
      "downloading 2021_REDB_3_merged_tiles.dbf to /panfs/ccds02/nobackup/people/sbhusha1/pcd/neon/REDBshp/\n"
     ]
    },
    {
     "name": "stderr",
     "output_type": "stream",
     "text": [
      "0it [00:00, ?it/s]"
     ]
    },
    {
     "name": "stdout",
     "output_type": "stream",
     "text": [
      "Download size: 91.23 MB\n",
      "downloading NEON_D15_REDB_DP1_432000_4513000_classified_point_cloud.prj to /panfs/ccds02/nobackup/people/sbhusha1/pcd/neon/REDBlaz/\n",
      "downloading NEON_D15_REDB_DP1_432000_4513000_classified_point_cloud.kml to /panfs/ccds02/nobackup/people/sbhusha1/pcd/neon/REDBlaz/\n",
      "downloading NEON_D15_REDB_DP1_432000_4513000_classified_point_cloud.dbf to /panfs/ccds02/nobackup/people/sbhusha1/pcd/neon/REDBlaz/\n",
      "downloading NEON_D15_REDB_DP1_432000_4513000_classified_point_cloud.shp to /panfs/ccds02/nobackup/people/sbhusha1/pcd/neon/REDBlaz/\n",
      "downloading NEON_D15_REDB_DP1_432000_4513000_classified_point_cloud.shx to /panfs/ccds02/nobackup/people/sbhusha1/pcd/neon/REDBlaz/\n",
      "downloading NEON_D15_REDB_DP1_432000_4513000_classified_point_cloud_colorized.laz to /panfs/ccds02/nobackup/people/sbhusha1/pcd/neon/REDBlaz/\n"
     ]
    },
    {
     "name": "stderr",
     "output_type": "stream",
     "text": [
      "1it [00:05,  5.66s/it]"
     ]
    },
    {
     "name": "stdout",
     "output_type": "stream",
     "text": [
      "Download size: 149.27 MB\n",
      "downloading NEON_D15_REDB_DP1_432000_4514000_classified_point_cloud_colorized.laz to /panfs/ccds02/nobackup/people/sbhusha1/pcd/neon/REDBlaz/\n",
      "downloading NEON_D15_REDB_DP1_432000_4514000_classified_point_cloud.prj to /panfs/ccds02/nobackup/people/sbhusha1/pcd/neon/REDBlaz/\n",
      "downloading NEON_D15_REDB_DP1_432000_4514000_classified_point_cloud.dbf to /panfs/ccds02/nobackup/people/sbhusha1/pcd/neon/REDBlaz/\n",
      "downloading NEON_D15_REDB_DP1_432000_4514000_classified_point_cloud.shx to /panfs/ccds02/nobackup/people/sbhusha1/pcd/neon/REDBlaz/\n",
      "downloading NEON_D15_REDB_DP1_432000_4514000_classified_point_cloud.shp to /panfs/ccds02/nobackup/people/sbhusha1/pcd/neon/REDBlaz/\n",
      "downloading NEON_D15_REDB_DP1_432000_4514000_classified_point_cloud.kml to /panfs/ccds02/nobackup/people/sbhusha1/pcd/neon/REDBlaz/\n"
     ]
    },
    {
     "name": "stderr",
     "output_type": "stream",
     "text": [
      "2it [00:11,  6.03s/it]"
     ]
    },
    {
     "name": "stdout",
     "output_type": "stream",
     "text": [
      "Download size: 134.02 MB\n",
      "downloading NEON_D15_REDB_DP1_432000_4515000_classified_point_cloud.dbf to /panfs/ccds02/nobackup/people/sbhusha1/pcd/neon/REDBlaz/\n",
      "downloading NEON_D15_REDB_DP1_432000_4515000_classified_point_cloud_colorized.laz to /panfs/ccds02/nobackup/people/sbhusha1/pcd/neon/REDBlaz/\n",
      "downloading NEON_D15_REDB_DP1_432000_4515000_classified_point_cloud.prj to /panfs/ccds02/nobackup/people/sbhusha1/pcd/neon/REDBlaz/\n",
      "downloading NEON_D15_REDB_DP1_432000_4515000_classified_point_cloud.kml to /panfs/ccds02/nobackup/people/sbhusha1/pcd/neon/REDBlaz/\n",
      "downloading NEON_D15_REDB_DP1_432000_4515000_classified_point_cloud.shx to /panfs/ccds02/nobackup/people/sbhusha1/pcd/neon/REDBlaz/\n",
      "downloading NEON_D15_REDB_DP1_432000_4515000_classified_point_cloud.shp to /panfs/ccds02/nobackup/people/sbhusha1/pcd/neon/REDBlaz/\n"
     ]
    },
    {
     "name": "stderr",
     "output_type": "stream",
     "text": [
      "3it [00:17,  5.63s/it]"
     ]
    },
    {
     "name": "stdout",
     "output_type": "stream",
     "text": [
      "Download size: 170.97 MB\n",
      "downloading NEON_D15_REDB_DP1_432000_4516000_classified_point_cloud.dbf to /panfs/ccds02/nobackup/people/sbhusha1/pcd/neon/REDBlaz/\n",
      "downloading NEON_D15_REDB_DP1_432000_4516000_classified_point_cloud.kml to /panfs/ccds02/nobackup/people/sbhusha1/pcd/neon/REDBlaz/\n",
      "downloading NEON_D15_REDB_DP1_432000_4516000_classified_point_cloud.shp to /panfs/ccds02/nobackup/people/sbhusha1/pcd/neon/REDBlaz/\n",
      "downloading NEON_D15_REDB_DP1_432000_4516000_classified_point_cloud.shx to /panfs/ccds02/nobackup/people/sbhusha1/pcd/neon/REDBlaz/\n",
      "downloading NEON_D15_REDB_DP1_432000_4516000_classified_point_cloud_colorized.laz to /panfs/ccds02/nobackup/people/sbhusha1/pcd/neon/REDBlaz/\n",
      "downloading NEON_D15_REDB_DP1_432000_4516000_classified_point_cloud.prj to /panfs/ccds02/nobackup/people/sbhusha1/pcd/neon/REDBlaz/\n"
     ]
    },
    {
     "name": "stderr",
     "output_type": "stream",
     "text": [
      "4it [00:26,  7.08s/it]"
     ]
    },
    {
     "name": "stdout",
     "output_type": "stream",
     "text": [
      "Download size: 177.4 MB\n",
      "downloading NEON_D15_REDB_DP1_432000_4517000_classified_point_cloud.shp to /panfs/ccds02/nobackup/people/sbhusha1/pcd/neon/REDBlaz/\n",
      "downloading NEON_D15_REDB_DP1_432000_4517000_classified_point_cloud.shx to /panfs/ccds02/nobackup/people/sbhusha1/pcd/neon/REDBlaz/\n",
      "downloading NEON_D15_REDB_DP1_432000_4517000_classified_point_cloud.kml to /panfs/ccds02/nobackup/people/sbhusha1/pcd/neon/REDBlaz/\n",
      "downloading NEON_D15_REDB_DP1_432000_4517000_classified_point_cloud_colorized.laz to /panfs/ccds02/nobackup/people/sbhusha1/pcd/neon/REDBlaz/\n",
      "downloading NEON_D15_REDB_DP1_432000_4517000_classified_point_cloud.dbf to /panfs/ccds02/nobackup/people/sbhusha1/pcd/neon/REDBlaz/\n",
      "downloading NEON_D15_REDB_DP1_432000_4517000_classified_point_cloud.prj to /panfs/ccds02/nobackup/people/sbhusha1/pcd/neon/REDBlaz/\n"
     ]
    },
    {
     "name": "stderr",
     "output_type": "stream",
     "text": [
      "5it [00:41, 10.04s/it]"
     ]
    },
    {
     "name": "stdout",
     "output_type": "stream",
     "text": [
      "Download size: 171.45 MB\n",
      "downloading NEON_D15_REDB_DP1_432000_4518000_classified_point_cloud.kml to /panfs/ccds02/nobackup/people/sbhusha1/pcd/neon/REDBlaz/\n",
      "downloading NEON_D15_REDB_DP1_432000_4518000_classified_point_cloud.prj to /panfs/ccds02/nobackup/people/sbhusha1/pcd/neon/REDBlaz/\n",
      "downloading NEON_D15_REDB_DP1_432000_4518000_classified_point_cloud_colorized.laz to /panfs/ccds02/nobackup/people/sbhusha1/pcd/neon/REDBlaz/\n",
      "downloading NEON_D15_REDB_DP1_432000_4518000_classified_point_cloud.dbf to /panfs/ccds02/nobackup/people/sbhusha1/pcd/neon/REDBlaz/\n",
      "downloading NEON_D15_REDB_DP1_432000_4518000_classified_point_cloud.shx to /panfs/ccds02/nobackup/people/sbhusha1/pcd/neon/REDBlaz/\n",
      "downloading NEON_D15_REDB_DP1_432000_4518000_classified_point_cloud.shp to /panfs/ccds02/nobackup/people/sbhusha1/pcd/neon/REDBlaz/\n"
     ]
    },
    {
     "name": "stderr",
     "output_type": "stream",
     "text": [
      "6it [00:53, 10.73s/it]"
     ]
    },
    {
     "name": "stdout",
     "output_type": "stream",
     "text": [
      "Download size: 164.33 MB\n",
      "downloading NEON_D15_REDB_DP1_432000_4519000_classified_point_cloud.prj to /panfs/ccds02/nobackup/people/sbhusha1/pcd/neon/REDBlaz/\n",
      "downloading NEON_D15_REDB_DP1_432000_4519000_classified_point_cloud.kml to /panfs/ccds02/nobackup/people/sbhusha1/pcd/neon/REDBlaz/\n",
      "downloading NEON_D15_REDB_DP1_432000_4519000_classified_point_cloud.shp to /panfs/ccds02/nobackup/people/sbhusha1/pcd/neon/REDBlaz/\n",
      "downloading NEON_D15_REDB_DP1_432000_4519000_classified_point_cloud.shx to /panfs/ccds02/nobackup/people/sbhusha1/pcd/neon/REDBlaz/\n",
      "downloading NEON_D15_REDB_DP1_432000_4519000_classified_point_cloud_colorized.laz to /panfs/ccds02/nobackup/people/sbhusha1/pcd/neon/REDBlaz/\n",
      "downloading NEON_D15_REDB_DP1_432000_4519000_classified_point_cloud.dbf to /panfs/ccds02/nobackup/people/sbhusha1/pcd/neon/REDBlaz/\n"
     ]
    },
    {
     "name": "stderr",
     "output_type": "stream",
     "text": [
      "7it [00:59,  8.95s/it]"
     ]
    },
    {
     "name": "stdout",
     "output_type": "stream",
     "text": [
      "Download size: 6.41 MB\n",
      "downloading NEON_D15_REDB_DP1_432000_4520000_classified_point_cloud.shp to /panfs/ccds02/nobackup/people/sbhusha1/pcd/neon/REDBlaz/\n",
      "downloading NEON_D15_REDB_DP1_432000_4520000_classified_point_cloud.shx to /panfs/ccds02/nobackup/people/sbhusha1/pcd/neon/REDBlaz/\n",
      "downloading NEON_D15_REDB_DP1_432000_4520000_classified_point_cloud.dbf to /panfs/ccds02/nobackup/people/sbhusha1/pcd/neon/REDBlaz/\n",
      "downloading NEON_D15_REDB_DP1_432000_4520000_classified_point_cloud_colorized.laz to /panfs/ccds02/nobackup/people/sbhusha1/pcd/neon/REDBlaz/\n",
      "downloading NEON_D15_REDB_DP1_432000_4520000_classified_point_cloud.prj to /panfs/ccds02/nobackup/people/sbhusha1/pcd/neon/REDBlaz/\n",
      "downloading NEON_D15_REDB_DP1_432000_4520000_classified_point_cloud.kml to /panfs/ccds02/nobackup/people/sbhusha1/pcd/neon/REDBlaz/\n"
     ]
    },
    {
     "name": "stderr",
     "output_type": "stream",
     "text": [
      "8it [01:01,  6.93s/it]"
     ]
    },
    {
     "name": "stdout",
     "output_type": "stream",
     "text": [
      "Download size: 96.95 MB\n",
      "downloading NEON_D15_REDB_DP1_433000_4513000_classified_point_cloud.shp to /panfs/ccds02/nobackup/people/sbhusha1/pcd/neon/REDBlaz/\n",
      "downloading NEON_D15_REDB_DP1_433000_4513000_classified_point_cloud.shx to /panfs/ccds02/nobackup/people/sbhusha1/pcd/neon/REDBlaz/\n",
      "downloading NEON_D15_REDB_DP1_433000_4513000_classified_point_cloud.dbf to /panfs/ccds02/nobackup/people/sbhusha1/pcd/neon/REDBlaz/\n",
      "downloading NEON_D15_REDB_DP1_433000_4513000_classified_point_cloud_colorized.laz to /panfs/ccds02/nobackup/people/sbhusha1/pcd/neon/REDBlaz/\n",
      "downloading NEON_D15_REDB_DP1_433000_4513000_classified_point_cloud.prj to /panfs/ccds02/nobackup/people/sbhusha1/pcd/neon/REDBlaz/\n",
      "downloading NEON_D15_REDB_DP1_433000_4513000_classified_point_cloud.kml to /panfs/ccds02/nobackup/people/sbhusha1/pcd/neon/REDBlaz/\n"
     ]
    },
    {
     "name": "stderr",
     "output_type": "stream",
     "text": [
      "9it [01:06,  6.14s/it]"
     ]
    },
    {
     "name": "stdout",
     "output_type": "stream",
     "text": [
      "Download size: 130.84 MB\n",
      "downloading NEON_D15_REDB_DP1_433000_4514000_classified_point_cloud_colorized.laz to /panfs/ccds02/nobackup/people/sbhusha1/pcd/neon/REDBlaz/\n",
      "downloading NEON_D15_REDB_DP1_433000_4514000_classified_point_cloud.dbf to /panfs/ccds02/nobackup/people/sbhusha1/pcd/neon/REDBlaz/\n",
      "downloading NEON_D15_REDB_DP1_433000_4514000_classified_point_cloud.prj to /panfs/ccds02/nobackup/people/sbhusha1/pcd/neon/REDBlaz/\n",
      "downloading NEON_D15_REDB_DP1_433000_4514000_classified_point_cloud.kml to /panfs/ccds02/nobackup/people/sbhusha1/pcd/neon/REDBlaz/\n",
      "downloading NEON_D15_REDB_DP1_433000_4514000_classified_point_cloud.shx to /panfs/ccds02/nobackup/people/sbhusha1/pcd/neon/REDBlaz/\n",
      "downloading NEON_D15_REDB_DP1_433000_4514000_classified_point_cloud.shp to /panfs/ccds02/nobackup/people/sbhusha1/pcd/neon/REDBlaz/\n"
     ]
    },
    {
     "name": "stderr",
     "output_type": "stream",
     "text": [
      "10it [01:14,  6.96s/it]"
     ]
    },
    {
     "name": "stdout",
     "output_type": "stream",
     "text": [
      "Download size: 160.05 MB\n",
      "downloading NEON_D15_REDB_DP1_433000_4515000_classified_point_cloud.kml to /panfs/ccds02/nobackup/people/sbhusha1/pcd/neon/REDBlaz/\n",
      "downloading NEON_D15_REDB_DP1_433000_4515000_classified_point_cloud.shx to /panfs/ccds02/nobackup/people/sbhusha1/pcd/neon/REDBlaz/\n",
      "downloading NEON_D15_REDB_DP1_433000_4515000_classified_point_cloud.shp to /panfs/ccds02/nobackup/people/sbhusha1/pcd/neon/REDBlaz/\n",
      "downloading NEON_D15_REDB_DP1_433000_4515000_classified_point_cloud_colorized.laz to /panfs/ccds02/nobackup/people/sbhusha1/pcd/neon/REDBlaz/\n",
      "downloading NEON_D15_REDB_DP1_433000_4515000_classified_point_cloud.prj to /panfs/ccds02/nobackup/people/sbhusha1/pcd/neon/REDBlaz/\n",
      "downloading NEON_D15_REDB_DP1_433000_4515000_classified_point_cloud.dbf to /panfs/ccds02/nobackup/people/sbhusha1/pcd/neon/REDBlaz/\n"
     ]
    },
    {
     "name": "stderr",
     "output_type": "stream",
     "text": [
      "11it [01:21,  6.86s/it]"
     ]
    },
    {
     "name": "stdout",
     "output_type": "stream",
     "text": [
      "Download size: 184.9 MB\n",
      "downloading NEON_D15_REDB_DP1_433000_4516000_classified_point_cloud.shp to /panfs/ccds02/nobackup/people/sbhusha1/pcd/neon/REDBlaz/\n",
      "downloading NEON_D15_REDB_DP1_433000_4516000_classified_point_cloud.shx to /panfs/ccds02/nobackup/people/sbhusha1/pcd/neon/REDBlaz/\n",
      "downloading NEON_D15_REDB_DP1_433000_4516000_classified_point_cloud.kml to /panfs/ccds02/nobackup/people/sbhusha1/pcd/neon/REDBlaz/\n",
      "downloading NEON_D15_REDB_DP1_433000_4516000_classified_point_cloud.dbf to /panfs/ccds02/nobackup/people/sbhusha1/pcd/neon/REDBlaz/\n",
      "downloading NEON_D15_REDB_DP1_433000_4516000_classified_point_cloud_colorized.laz to /panfs/ccds02/nobackup/people/sbhusha1/pcd/neon/REDBlaz/\n",
      "downloading NEON_D15_REDB_DP1_433000_4516000_classified_point_cloud.prj to /panfs/ccds02/nobackup/people/sbhusha1/pcd/neon/REDBlaz/\n"
     ]
    },
    {
     "name": "stderr",
     "output_type": "stream",
     "text": [
      "12it [01:28,  6.82s/it]"
     ]
    },
    {
     "name": "stdout",
     "output_type": "stream",
     "text": [
      "Download size: 206.6 MB\n",
      "downloading NEON_D15_REDB_DP1_433000_4517000_classified_point_cloud.prj to /panfs/ccds02/nobackup/people/sbhusha1/pcd/neon/REDBlaz/\n",
      "downloading NEON_D15_REDB_DP1_433000_4517000_classified_point_cloud.dbf to /panfs/ccds02/nobackup/people/sbhusha1/pcd/neon/REDBlaz/\n",
      "downloading NEON_D15_REDB_DP1_433000_4517000_classified_point_cloud.shp to /panfs/ccds02/nobackup/people/sbhusha1/pcd/neon/REDBlaz/\n",
      "downloading NEON_D15_REDB_DP1_433000_4517000_classified_point_cloud.shx to /panfs/ccds02/nobackup/people/sbhusha1/pcd/neon/REDBlaz/\n",
      "downloading NEON_D15_REDB_DP1_433000_4517000_classified_point_cloud.kml to /panfs/ccds02/nobackup/people/sbhusha1/pcd/neon/REDBlaz/\n",
      "downloading NEON_D15_REDB_DP1_433000_4517000_classified_point_cloud_colorized.laz to /panfs/ccds02/nobackup/people/sbhusha1/pcd/neon/REDBlaz/\n"
     ]
    },
    {
     "name": "stderr",
     "output_type": "stream",
     "text": [
      "13it [01:34,  6.57s/it]"
     ]
    },
    {
     "name": "stdout",
     "output_type": "stream",
     "text": [
      "Download size: 185.05 MB\n",
      "downloading NEON_D15_REDB_DP1_433000_4518000_classified_point_cloud.dbf to /panfs/ccds02/nobackup/people/sbhusha1/pcd/neon/REDBlaz/\n",
      "downloading NEON_D15_REDB_DP1_433000_4518000_classified_point_cloud.prj to /panfs/ccds02/nobackup/people/sbhusha1/pcd/neon/REDBlaz/\n",
      "downloading NEON_D15_REDB_DP1_433000_4518000_classified_point_cloud.kml to /panfs/ccds02/nobackup/people/sbhusha1/pcd/neon/REDBlaz/\n",
      "downloading NEON_D15_REDB_DP1_433000_4518000_classified_point_cloud_colorized.laz to /panfs/ccds02/nobackup/people/sbhusha1/pcd/neon/REDBlaz/\n",
      "downloading NEON_D15_REDB_DP1_433000_4518000_classified_point_cloud.shx to /panfs/ccds02/nobackup/people/sbhusha1/pcd/neon/REDBlaz/\n",
      "downloading NEON_D15_REDB_DP1_433000_4518000_classified_point_cloud.shp to /panfs/ccds02/nobackup/people/sbhusha1/pcd/neon/REDBlaz/\n"
     ]
    },
    {
     "name": "stderr",
     "output_type": "stream",
     "text": [
      "14it [01:40,  6.39s/it]"
     ]
    },
    {
     "name": "stdout",
     "output_type": "stream",
     "text": [
      "Download size: 203.75 MB\n",
      "downloading NEON_D15_REDB_DP1_433000_4519000_classified_point_cloud_colorized.laz to /panfs/ccds02/nobackup/people/sbhusha1/pcd/neon/REDBlaz/\n",
      "downloading NEON_D15_REDB_DP1_433000_4519000_classified_point_cloud.dbf to /panfs/ccds02/nobackup/people/sbhusha1/pcd/neon/REDBlaz/\n",
      "downloading NEON_D15_REDB_DP1_433000_4519000_classified_point_cloud.shp to /panfs/ccds02/nobackup/people/sbhusha1/pcd/neon/REDBlaz/\n",
      "downloading NEON_D15_REDB_DP1_433000_4519000_classified_point_cloud.shx to /panfs/ccds02/nobackup/people/sbhusha1/pcd/neon/REDBlaz/\n",
      "downloading NEON_D15_REDB_DP1_433000_4519000_classified_point_cloud.kml to /panfs/ccds02/nobackup/people/sbhusha1/pcd/neon/REDBlaz/\n",
      "downloading NEON_D15_REDB_DP1_433000_4519000_classified_point_cloud.prj to /panfs/ccds02/nobackup/people/sbhusha1/pcd/neon/REDBlaz/\n"
     ]
    },
    {
     "name": "stderr",
     "output_type": "stream",
     "text": [
      "15it [01:46,  6.28s/it]"
     ]
    },
    {
     "name": "stdout",
     "output_type": "stream",
     "text": [
      "Download size: 2.01 MB\n",
      "downloading NEON_D15_REDB_DP1_433000_4520000_classified_point_cloud.prj to /panfs/ccds02/nobackup/people/sbhusha1/pcd/neon/REDBlaz/\n",
      "downloading NEON_D15_REDB_DP1_433000_4520000_classified_point_cloud_colorized.laz to /panfs/ccds02/nobackup/people/sbhusha1/pcd/neon/REDBlaz/\n",
      "downloading NEON_D15_REDB_DP1_433000_4520000_classified_point_cloud.dbf to /panfs/ccds02/nobackup/people/sbhusha1/pcd/neon/REDBlaz/\n",
      "downloading NEON_D15_REDB_DP1_433000_4520000_classified_point_cloud.shp to /panfs/ccds02/nobackup/people/sbhusha1/pcd/neon/REDBlaz/\n",
      "downloading NEON_D15_REDB_DP1_433000_4520000_classified_point_cloud.shx to /panfs/ccds02/nobackup/people/sbhusha1/pcd/neon/REDBlaz/\n",
      "downloading NEON_D15_REDB_DP1_433000_4520000_classified_point_cloud.kml to /panfs/ccds02/nobackup/people/sbhusha1/pcd/neon/REDBlaz/\n"
     ]
    },
    {
     "name": "stderr",
     "output_type": "stream",
     "text": [
      "16it [01:48,  5.14s/it]"
     ]
    },
    {
     "name": "stdout",
     "output_type": "stream",
     "text": [
      "Download size: 24.43 MB\n",
      "downloading NEON_D15_REDB_DP1_434000_4513000_classified_point_cloud.kml to /panfs/ccds02/nobackup/people/sbhusha1/pcd/neon/REDBlaz/\n",
      "downloading NEON_D15_REDB_DP1_434000_4513000_classified_point_cloud.prj to /panfs/ccds02/nobackup/people/sbhusha1/pcd/neon/REDBlaz/\n",
      "downloading NEON_D15_REDB_DP1_434000_4513000_classified_point_cloud_colorized.laz to /panfs/ccds02/nobackup/people/sbhusha1/pcd/neon/REDBlaz/\n",
      "downloading NEON_D15_REDB_DP1_434000_4513000_classified_point_cloud.dbf to /panfs/ccds02/nobackup/people/sbhusha1/pcd/neon/REDBlaz/\n",
      "downloading NEON_D15_REDB_DP1_434000_4513000_classified_point_cloud.shp to /panfs/ccds02/nobackup/people/sbhusha1/pcd/neon/REDBlaz/\n",
      "downloading NEON_D15_REDB_DP1_434000_4513000_classified_point_cloud.shx to /panfs/ccds02/nobackup/people/sbhusha1/pcd/neon/REDBlaz/\n"
     ]
    },
    {
     "name": "stderr",
     "output_type": "stream",
     "text": [
      "17it [01:51,  4.43s/it]"
     ]
    },
    {
     "name": "stdout",
     "output_type": "stream",
     "text": [
      "Download size: 117.94 MB\n",
      "downloading NEON_D15_REDB_DP1_434000_4514000_classified_point_cloud_colorized.laz to /panfs/ccds02/nobackup/people/sbhusha1/pcd/neon/REDBlaz/\n",
      "downloading NEON_D15_REDB_DP1_434000_4514000_classified_point_cloud.prj to /panfs/ccds02/nobackup/people/sbhusha1/pcd/neon/REDBlaz/\n",
      "downloading NEON_D15_REDB_DP1_434000_4514000_classified_point_cloud.dbf to /panfs/ccds02/nobackup/people/sbhusha1/pcd/neon/REDBlaz/\n",
      "downloading NEON_D15_REDB_DP1_434000_4514000_classified_point_cloud.kml to /panfs/ccds02/nobackup/people/sbhusha1/pcd/neon/REDBlaz/\n",
      "downloading NEON_D15_REDB_DP1_434000_4514000_classified_point_cloud.shx to /panfs/ccds02/nobackup/people/sbhusha1/pcd/neon/REDBlaz/\n",
      "downloading NEON_D15_REDB_DP1_434000_4514000_classified_point_cloud.shp to /panfs/ccds02/nobackup/people/sbhusha1/pcd/neon/REDBlaz/\n"
     ]
    },
    {
     "name": "stderr",
     "output_type": "stream",
     "text": [
      "18it [01:56,  4.51s/it]"
     ]
    },
    {
     "name": "stdout",
     "output_type": "stream",
     "text": [
      "Download size: 162.74 MB\n",
      "downloading NEON_D15_REDB_DP1_434000_4515000_classified_point_cloud.shx to /panfs/ccds02/nobackup/people/sbhusha1/pcd/neon/REDBlaz/\n",
      "downloading NEON_D15_REDB_DP1_434000_4515000_classified_point_cloud.shp to /panfs/ccds02/nobackup/people/sbhusha1/pcd/neon/REDBlaz/\n",
      "downloading NEON_D15_REDB_DP1_434000_4515000_classified_point_cloud.prj to /panfs/ccds02/nobackup/people/sbhusha1/pcd/neon/REDBlaz/\n",
      "downloading NEON_D15_REDB_DP1_434000_4515000_classified_point_cloud_colorized.laz to /panfs/ccds02/nobackup/people/sbhusha1/pcd/neon/REDBlaz/\n",
      "downloading NEON_D15_REDB_DP1_434000_4515000_classified_point_cloud.kml to /panfs/ccds02/nobackup/people/sbhusha1/pcd/neon/REDBlaz/\n",
      "downloading NEON_D15_REDB_DP1_434000_4515000_classified_point_cloud.dbf to /panfs/ccds02/nobackup/people/sbhusha1/pcd/neon/REDBlaz/\n"
     ]
    },
    {
     "name": "stderr",
     "output_type": "stream",
     "text": [
      "19it [02:01,  4.71s/it]"
     ]
    },
    {
     "name": "stdout",
     "output_type": "stream",
     "text": [
      "Download size: 214.03 MB\n",
      "downloading NEON_D15_REDB_DP1_434000_4516000_classified_point_cloud.dbf to /panfs/ccds02/nobackup/people/sbhusha1/pcd/neon/REDBlaz/\n",
      "downloading NEON_D15_REDB_DP1_434000_4516000_classified_point_cloud.shp to /panfs/ccds02/nobackup/people/sbhusha1/pcd/neon/REDBlaz/\n",
      "downloading NEON_D15_REDB_DP1_434000_4516000_classified_point_cloud.shx to /panfs/ccds02/nobackup/people/sbhusha1/pcd/neon/REDBlaz/\n",
      "downloading NEON_D15_REDB_DP1_434000_4516000_classified_point_cloud_colorized.laz to /panfs/ccds02/nobackup/people/sbhusha1/pcd/neon/REDBlaz/\n",
      "downloading NEON_D15_REDB_DP1_434000_4516000_classified_point_cloud.kml to /panfs/ccds02/nobackup/people/sbhusha1/pcd/neon/REDBlaz/\n"
     ]
    },
    {
     "name": "stderr",
     "output_type": "stream",
     "text": [
      "20it [02:08,  5.51s/it]"
     ]
    },
    {
     "name": "stdout",
     "output_type": "stream",
     "text": [
      "downloading NEON_D15_REDB_DP1_434000_4516000_classified_point_cloud.prj to /panfs/ccds02/nobackup/people/sbhusha1/pcd/neon/REDBlaz/\n",
      "Download size: 212.09 MB\n",
      "downloading NEON_D15_REDB_DP1_434000_4517000_classified_point_cloud.prj to /panfs/ccds02/nobackup/people/sbhusha1/pcd/neon/REDBlaz/\n",
      "downloading NEON_D15_REDB_DP1_434000_4517000_classified_point_cloud.dbf to /panfs/ccds02/nobackup/people/sbhusha1/pcd/neon/REDBlaz/\n",
      "downloading NEON_D15_REDB_DP1_434000_4517000_classified_point_cloud_colorized.laz to /panfs/ccds02/nobackup/people/sbhusha1/pcd/neon/REDBlaz/\n",
      "downloading NEON_D15_REDB_DP1_434000_4517000_classified_point_cloud.kml to /panfs/ccds02/nobackup/people/sbhusha1/pcd/neon/REDBlaz/\n",
      "downloading NEON_D15_REDB_DP1_434000_4517000_classified_point_cloud.shp to /panfs/ccds02/nobackup/people/sbhusha1/pcd/neon/REDBlaz/\n",
      "downloading NEON_D15_REDB_DP1_434000_4517000_classified_point_cloud.shx to /panfs/ccds02/nobackup/people/sbhusha1/pcd/neon/REDBlaz/\n"
     ]
    },
    {
     "name": "stderr",
     "output_type": "stream",
     "text": [
      "21it [02:15,  5.92s/it]"
     ]
    },
    {
     "name": "stdout",
     "output_type": "stream",
     "text": [
      "Download size: 209.42 MB\n",
      "downloading NEON_D15_REDB_DP1_434000_4518000_classified_point_cloud.shx to /panfs/ccds02/nobackup/people/sbhusha1/pcd/neon/REDBlaz/\n",
      "downloading NEON_D15_REDB_DP1_434000_4518000_classified_point_cloud.shp to /panfs/ccds02/nobackup/people/sbhusha1/pcd/neon/REDBlaz/\n",
      "downloading NEON_D15_REDB_DP1_434000_4518000_classified_point_cloud_colorized.laz to /panfs/ccds02/nobackup/people/sbhusha1/pcd/neon/REDBlaz/\n",
      "downloading NEON_D15_REDB_DP1_434000_4518000_classified_point_cloud.kml to /panfs/ccds02/nobackup/people/sbhusha1/pcd/neon/REDBlaz/\n",
      "downloading NEON_D15_REDB_DP1_434000_4518000_classified_point_cloud.prj to /panfs/ccds02/nobackup/people/sbhusha1/pcd/neon/REDBlaz/\n",
      "downloading NEON_D15_REDB_DP1_434000_4518000_classified_point_cloud.dbf to /panfs/ccds02/nobackup/people/sbhusha1/pcd/neon/REDBlaz/\n"
     ]
    },
    {
     "name": "stderr",
     "output_type": "stream",
     "text": [
      "22it [02:20,  5.72s/it]"
     ]
    },
    {
     "name": "stdout",
     "output_type": "stream",
     "text": [
      "Download size: 224.59 MB\n",
      "downloading NEON_D15_REDB_DP1_434000_4519000_classified_point_cloud.shp to /panfs/ccds02/nobackup/people/sbhusha1/pcd/neon/REDBlaz/\n",
      "downloading NEON_D15_REDB_DP1_434000_4519000_classified_point_cloud.shx to /panfs/ccds02/nobackup/people/sbhusha1/pcd/neon/REDBlaz/\n",
      "downloading NEON_D15_REDB_DP1_434000_4519000_classified_point_cloud.kml to /panfs/ccds02/nobackup/people/sbhusha1/pcd/neon/REDBlaz/\n",
      "downloading NEON_D15_REDB_DP1_434000_4519000_classified_point_cloud_colorized.laz to /panfs/ccds02/nobackup/people/sbhusha1/pcd/neon/REDBlaz/\n",
      "downloading NEON_D15_REDB_DP1_434000_4519000_classified_point_cloud.dbf to /panfs/ccds02/nobackup/people/sbhusha1/pcd/neon/REDBlaz/\n",
      "downloading NEON_D15_REDB_DP1_434000_4519000_classified_point_cloud.prj to /panfs/ccds02/nobackup/people/sbhusha1/pcd/neon/REDBlaz/\n"
     ]
    },
    {
     "name": "stderr",
     "output_type": "stream",
     "text": [
      "23it [02:30,  7.02s/it]"
     ]
    },
    {
     "name": "stdout",
     "output_type": "stream",
     "text": [
      "Download size: 5.41 MB\n",
      "downloading NEON_D15_REDB_DP1_434000_4520000_classified_point_cloud.dbf to /panfs/ccds02/nobackup/people/sbhusha1/pcd/neon/REDBlaz/\n",
      "downloading NEON_D15_REDB_DP1_434000_4520000_classified_point_cloud.prj to /panfs/ccds02/nobackup/people/sbhusha1/pcd/neon/REDBlaz/\n",
      "downloading NEON_D15_REDB_DP1_434000_4520000_classified_point_cloud_colorized.laz to /panfs/ccds02/nobackup/people/sbhusha1/pcd/neon/REDBlaz/\n",
      "downloading NEON_D15_REDB_DP1_434000_4520000_classified_point_cloud.shp to /panfs/ccds02/nobackup/people/sbhusha1/pcd/neon/REDBlaz/\n",
      "downloading NEON_D15_REDB_DP1_434000_4520000_classified_point_cloud.shx to /panfs/ccds02/nobackup/people/sbhusha1/pcd/neon/REDBlaz/\n"
     ]
    },
    {
     "name": "stderr",
     "output_type": "stream",
     "text": [
      "24it [02:32,  5.50s/it]"
     ]
    },
    {
     "name": "stdout",
     "output_type": "stream",
     "text": [
      "downloading NEON_D15_REDB_DP1_434000_4520000_classified_point_cloud.kml to /panfs/ccds02/nobackup/people/sbhusha1/pcd/neon/REDBlaz/\n",
      "Download size: 37.05 MB\n",
      "downloading NEON_D15_REDB_DP1_435000_4514000_classified_point_cloud.kml to /panfs/ccds02/nobackup/people/sbhusha1/pcd/neon/REDBlaz/\n",
      "downloading NEON_D15_REDB_DP1_435000_4514000_classified_point_cloud.dbf to /panfs/ccds02/nobackup/people/sbhusha1/pcd/neon/REDBlaz/\n",
      "downloading NEON_D15_REDB_DP1_435000_4514000_classified_point_cloud.prj to /panfs/ccds02/nobackup/people/sbhusha1/pcd/neon/REDBlaz/\n",
      "downloading NEON_D15_REDB_DP1_435000_4514000_classified_point_cloud_colorized.laz to /panfs/ccds02/nobackup/people/sbhusha1/pcd/neon/REDBlaz/\n",
      "downloading NEON_D15_REDB_DP1_435000_4514000_classified_point_cloud.shx to /panfs/ccds02/nobackup/people/sbhusha1/pcd/neon/REDBlaz/\n",
      "downloading NEON_D15_REDB_DP1_435000_4514000_classified_point_cloud.shp to /panfs/ccds02/nobackup/people/sbhusha1/pcd/neon/REDBlaz/\n"
     ]
    },
    {
     "name": "stderr",
     "output_type": "stream",
     "text": [
      "25it [02:36,  4.83s/it]"
     ]
    },
    {
     "name": "stdout",
     "output_type": "stream",
     "text": [
      "Download size: 123.21 MB\n",
      "downloading NEON_D15_REDB_DP1_435000_4515000_classified_point_cloud.shp to /panfs/ccds02/nobackup/people/sbhusha1/pcd/neon/REDBlaz/\n",
      "downloading NEON_D15_REDB_DP1_435000_4515000_classified_point_cloud.shx to /panfs/ccds02/nobackup/people/sbhusha1/pcd/neon/REDBlaz/\n",
      "downloading NEON_D15_REDB_DP1_435000_4515000_classified_point_cloud.kml to /panfs/ccds02/nobackup/people/sbhusha1/pcd/neon/REDBlaz/\n",
      "downloading NEON_D15_REDB_DP1_435000_4515000_classified_point_cloud.prj to /panfs/ccds02/nobackup/people/sbhusha1/pcd/neon/REDBlaz/\n",
      "downloading NEON_D15_REDB_DP1_435000_4515000_classified_point_cloud.dbf to /panfs/ccds02/nobackup/people/sbhusha1/pcd/neon/REDBlaz/\n",
      "downloading NEON_D15_REDB_DP1_435000_4515000_classified_point_cloud_colorized.laz to /panfs/ccds02/nobackup/people/sbhusha1/pcd/neon/REDBlaz/\n"
     ]
    },
    {
     "name": "stderr",
     "output_type": "stream",
     "text": [
      "26it [02:39,  4.52s/it]"
     ]
    },
    {
     "name": "stdout",
     "output_type": "stream",
     "text": [
      "Download size: 159.09 MB\n",
      "downloading NEON_D15_REDB_DP1_435000_4516000_classified_point_cloud.shx to /panfs/ccds02/nobackup/people/sbhusha1/pcd/neon/REDBlaz/\n",
      "downloading NEON_D15_REDB_DP1_435000_4516000_classified_point_cloud.shp to /panfs/ccds02/nobackup/people/sbhusha1/pcd/neon/REDBlaz/\n",
      "downloading NEON_D15_REDB_DP1_435000_4516000_classified_point_cloud.kml to /panfs/ccds02/nobackup/people/sbhusha1/pcd/neon/REDBlaz/\n",
      "downloading NEON_D15_REDB_DP1_435000_4516000_classified_point_cloud.dbf to /panfs/ccds02/nobackup/people/sbhusha1/pcd/neon/REDBlaz/\n",
      "downloading NEON_D15_REDB_DP1_435000_4516000_classified_point_cloud_colorized.laz to /panfs/ccds02/nobackup/people/sbhusha1/pcd/neon/REDBlaz/\n",
      "downloading NEON_D15_REDB_DP1_435000_4516000_classified_point_cloud.prj to /panfs/ccds02/nobackup/people/sbhusha1/pcd/neon/REDBlaz/\n"
     ]
    },
    {
     "name": "stderr",
     "output_type": "stream",
     "text": [
      "27it [02:46,  5.24s/it]"
     ]
    },
    {
     "name": "stdout",
     "output_type": "stream",
     "text": [
      "Download size: 214.98 MB\n",
      "downloading NEON_D15_REDB_DP1_435000_4517000_classified_point_cloud_colorized.laz to /panfs/ccds02/nobackup/people/sbhusha1/pcd/neon/REDBlaz/\n",
      "downloading NEON_D15_REDB_DP1_435000_4517000_classified_point_cloud.prj to /panfs/ccds02/nobackup/people/sbhusha1/pcd/neon/REDBlaz/\n",
      "downloading NEON_D15_REDB_DP1_435000_4517000_classified_point_cloud.dbf to /panfs/ccds02/nobackup/people/sbhusha1/pcd/neon/REDBlaz/\n",
      "downloading NEON_D15_REDB_DP1_435000_4517000_classified_point_cloud.kml to /panfs/ccds02/nobackup/people/sbhusha1/pcd/neon/REDBlaz/\n",
      "downloading NEON_D15_REDB_DP1_435000_4517000_classified_point_cloud.shp to /panfs/ccds02/nobackup/people/sbhusha1/pcd/neon/REDBlaz/\n",
      "downloading NEON_D15_REDB_DP1_435000_4517000_classified_point_cloud.shx to /panfs/ccds02/nobackup/people/sbhusha1/pcd/neon/REDBlaz/\n"
     ]
    },
    {
     "name": "stderr",
     "output_type": "stream",
     "text": [
      "28it [02:52,  5.46s/it]"
     ]
    },
    {
     "name": "stdout",
     "output_type": "stream",
     "text": [
      "Download size: 207.99 MB\n",
      "downloading NEON_D15_REDB_DP1_435000_4518000_classified_point_cloud.prj to /panfs/ccds02/nobackup/people/sbhusha1/pcd/neon/REDBlaz/\n",
      "downloading NEON_D15_REDB_DP1_435000_4518000_classified_point_cloud.shx to /panfs/ccds02/nobackup/people/sbhusha1/pcd/neon/REDBlaz/\n",
      "downloading NEON_D15_REDB_DP1_435000_4518000_classified_point_cloud.shp to /panfs/ccds02/nobackup/people/sbhusha1/pcd/neon/REDBlaz/\n",
      "downloading NEON_D15_REDB_DP1_435000_4518000_classified_point_cloud.kml to /panfs/ccds02/nobackup/people/sbhusha1/pcd/neon/REDBlaz/\n",
      "downloading NEON_D15_REDB_DP1_435000_4518000_classified_point_cloud_colorized.laz to /panfs/ccds02/nobackup/people/sbhusha1/pcd/neon/REDBlaz/\n",
      "downloading NEON_D15_REDB_DP1_435000_4518000_classified_point_cloud.dbf to /panfs/ccds02/nobackup/people/sbhusha1/pcd/neon/REDBlaz/\n"
     ]
    },
    {
     "name": "stderr",
     "output_type": "stream",
     "text": [
      "29it [03:01,  6.34s/it]"
     ]
    },
    {
     "name": "stdout",
     "output_type": "stream",
     "text": [
      "Download size: 193.64 MB\n",
      "downloading NEON_D15_REDB_DP1_435000_4519000_classified_point_cloud.dbf to /panfs/ccds02/nobackup/people/sbhusha1/pcd/neon/REDBlaz/\n",
      "downloading NEON_D15_REDB_DP1_435000_4519000_classified_point_cloud_colorized.laz to /panfs/ccds02/nobackup/people/sbhusha1/pcd/neon/REDBlaz/\n",
      "downloading NEON_D15_REDB_DP1_435000_4519000_classified_point_cloud.shp to /panfs/ccds02/nobackup/people/sbhusha1/pcd/neon/REDBlaz/\n",
      "downloading NEON_D15_REDB_DP1_435000_4519000_classified_point_cloud.shx to /panfs/ccds02/nobackup/people/sbhusha1/pcd/neon/REDBlaz/\n",
      "downloading NEON_D15_REDB_DP1_435000_4519000_classified_point_cloud.kml to /panfs/ccds02/nobackup/people/sbhusha1/pcd/neon/REDBlaz/\n",
      "downloading NEON_D15_REDB_DP1_435000_4519000_classified_point_cloud.prj to /panfs/ccds02/nobackup/people/sbhusha1/pcd/neon/REDBlaz/\n"
     ]
    },
    {
     "name": "stderr",
     "output_type": "stream",
     "text": [
      "30it [03:07,  6.20s/it]"
     ]
    },
    {
     "name": "stdout",
     "output_type": "stream",
     "text": [
      "Download size: 5.42 MB\n",
      "downloading NEON_D15_REDB_DP1_435000_4520000_classified_point_cloud_colorized.laz to /panfs/ccds02/nobackup/people/sbhusha1/pcd/neon/REDBlaz/\n",
      "downloading NEON_D15_REDB_DP1_435000_4520000_classified_point_cloud.prj to /panfs/ccds02/nobackup/people/sbhusha1/pcd/neon/REDBlaz/\n",
      "downloading NEON_D15_REDB_DP1_435000_4520000_classified_point_cloud.dbf to /panfs/ccds02/nobackup/people/sbhusha1/pcd/neon/REDBlaz/\n",
      "downloading NEON_D15_REDB_DP1_435000_4520000_classified_point_cloud.kml to /panfs/ccds02/nobackup/people/sbhusha1/pcd/neon/REDBlaz/\n",
      "downloading NEON_D15_REDB_DP1_435000_4520000_classified_point_cloud.shp to /panfs/ccds02/nobackup/people/sbhusha1/pcd/neon/REDBlaz/\n",
      "downloading NEON_D15_REDB_DP1_435000_4520000_classified_point_cloud.shx to /panfs/ccds02/nobackup/people/sbhusha1/pcd/neon/REDBlaz/\n"
     ]
    },
    {
     "name": "stderr",
     "output_type": "stream",
     "text": [
      "31it [03:09,  4.99s/it]"
     ]
    },
    {
     "name": "stdout",
     "output_type": "stream",
     "text": [
      "Download size: 0.28 kB\n",
      "downloading NEON_D15_REDB_DP1_436000_4514000_classified_point_cloud.shx to /panfs/ccds02/nobackup/people/sbhusha1/pcd/neon/REDBlaz/\n",
      "downloading NEON_D15_REDB_DP1_436000_4514000_classified_point_cloud.kml to /panfs/ccds02/nobackup/people/sbhusha1/pcd/neon/REDBlaz/\n",
      "downloading NEON_D15_REDB_DP1_436000_4514000_classified_point_cloud.prj to /panfs/ccds02/nobackup/people/sbhusha1/pcd/neon/REDBlaz/\n",
      "downloading NEON_D15_REDB_DP1_436000_4514000_classified_point_cloud_colorized.laz to /panfs/ccds02/nobackup/people/sbhusha1/pcd/neon/REDBlaz/\n",
      "downloading NEON_D15_REDB_DP1_436000_4514000_classified_point_cloud.dbf to /panfs/ccds02/nobackup/people/sbhusha1/pcd/neon/REDBlaz/\n",
      "downloading NEON_D15_REDB_DP1_436000_4514000_classified_point_cloud.shp to /panfs/ccds02/nobackup/people/sbhusha1/pcd/neon/REDBlaz/\n"
     ]
    },
    {
     "name": "stderr",
     "output_type": "stream",
     "text": [
      "32it [03:11,  4.16s/it]"
     ]
    },
    {
     "name": "stdout",
     "output_type": "stream",
     "text": [
      "Download size: 54.57 MB\n",
      "downloading NEON_D15_REDB_DP1_436000_4515000_classified_point_cloud.prj to /panfs/ccds02/nobackup/people/sbhusha1/pcd/neon/REDBlaz/\n",
      "downloading NEON_D15_REDB_DP1_436000_4515000_classified_point_cloud.kml to /panfs/ccds02/nobackup/people/sbhusha1/pcd/neon/REDBlaz/\n",
      "downloading NEON_D15_REDB_DP1_436000_4515000_classified_point_cloud.shp to /panfs/ccds02/nobackup/people/sbhusha1/pcd/neon/REDBlaz/\n",
      "downloading NEON_D15_REDB_DP1_436000_4515000_classified_point_cloud.shx to /panfs/ccds02/nobackup/people/sbhusha1/pcd/neon/REDBlaz/\n",
      "downloading NEON_D15_REDB_DP1_436000_4515000_classified_point_cloud_colorized.laz to /panfs/ccds02/nobackup/people/sbhusha1/pcd/neon/REDBlaz/\n"
     ]
    },
    {
     "name": "stderr",
     "output_type": "stream",
     "text": [
      "33it [03:20,  5.58s/it]"
     ]
    },
    {
     "name": "stdout",
     "output_type": "stream",
     "text": [
      "downloading NEON_D15_REDB_DP1_436000_4515000_classified_point_cloud.dbf to /panfs/ccds02/nobackup/people/sbhusha1/pcd/neon/REDBlaz/\n",
      "Download size: 135.38 MB\n",
      "downloading NEON_D15_REDB_DP1_436000_4516000_classified_point_cloud.prj to /panfs/ccds02/nobackup/people/sbhusha1/pcd/neon/REDBlaz/\n",
      "downloading NEON_D15_REDB_DP1_436000_4516000_classified_point_cloud_colorized.laz to /panfs/ccds02/nobackup/people/sbhusha1/pcd/neon/REDBlaz/\n",
      "downloading NEON_D15_REDB_DP1_436000_4516000_classified_point_cloud.dbf to /panfs/ccds02/nobackup/people/sbhusha1/pcd/neon/REDBlaz/\n",
      "downloading NEON_D15_REDB_DP1_436000_4516000_classified_point_cloud.kml to /panfs/ccds02/nobackup/people/sbhusha1/pcd/neon/REDBlaz/\n",
      "downloading NEON_D15_REDB_DP1_436000_4516000_classified_point_cloud.shx to /panfs/ccds02/nobackup/people/sbhusha1/pcd/neon/REDBlaz/\n"
     ]
    },
    {
     "name": "stderr",
     "output_type": "stream",
     "text": [
      "34it [03:25,  5.58s/it]"
     ]
    },
    {
     "name": "stdout",
     "output_type": "stream",
     "text": [
      "downloading NEON_D15_REDB_DP1_436000_4516000_classified_point_cloud.shp to /panfs/ccds02/nobackup/people/sbhusha1/pcd/neon/REDBlaz/\n",
      "Download size: 209.63 MB\n",
      "downloading NEON_D15_REDB_DP1_436000_4517000_classified_point_cloud.shp to /panfs/ccds02/nobackup/people/sbhusha1/pcd/neon/REDBlaz/\n",
      "downloading NEON_D15_REDB_DP1_436000_4517000_classified_point_cloud.shx to /panfs/ccds02/nobackup/people/sbhusha1/pcd/neon/REDBlaz/\n",
      "downloading NEON_D15_REDB_DP1_436000_4517000_classified_point_cloud.dbf to /panfs/ccds02/nobackup/people/sbhusha1/pcd/neon/REDBlaz/\n",
      "downloading NEON_D15_REDB_DP1_436000_4517000_classified_point_cloud.prj to /panfs/ccds02/nobackup/people/sbhusha1/pcd/neon/REDBlaz/\n",
      "downloading NEON_D15_REDB_DP1_436000_4517000_classified_point_cloud_colorized.laz to /panfs/ccds02/nobackup/people/sbhusha1/pcd/neon/REDBlaz/\n"
     ]
    },
    {
     "name": "stderr",
     "output_type": "stream",
     "text": [
      "35it [03:31,  5.58s/it]"
     ]
    },
    {
     "name": "stdout",
     "output_type": "stream",
     "text": [
      "downloading NEON_D15_REDB_DP1_436000_4517000_classified_point_cloud.kml to /panfs/ccds02/nobackup/people/sbhusha1/pcd/neon/REDBlaz/\n",
      "Download size: 211.41 MB\n",
      "downloading NEON_D15_REDB_DP1_436000_4518000_classified_point_cloud.shx to /panfs/ccds02/nobackup/people/sbhusha1/pcd/neon/REDBlaz/\n",
      "downloading NEON_D15_REDB_DP1_436000_4518000_classified_point_cloud.shp to /panfs/ccds02/nobackup/people/sbhusha1/pcd/neon/REDBlaz/\n",
      "downloading NEON_D15_REDB_DP1_436000_4518000_classified_point_cloud.kml to /panfs/ccds02/nobackup/people/sbhusha1/pcd/neon/REDBlaz/\n",
      "downloading NEON_D15_REDB_DP1_436000_4518000_classified_point_cloud.prj to /panfs/ccds02/nobackup/people/sbhusha1/pcd/neon/REDBlaz/\n",
      "downloading NEON_D15_REDB_DP1_436000_4518000_classified_point_cloud_colorized.laz to /panfs/ccds02/nobackup/people/sbhusha1/pcd/neon/REDBlaz/\n",
      "downloading NEON_D15_REDB_DP1_436000_4518000_classified_point_cloud.dbf to /panfs/ccds02/nobackup/people/sbhusha1/pcd/neon/REDBlaz/\n"
     ]
    },
    {
     "name": "stderr",
     "output_type": "stream",
     "text": [
      "36it [03:37,  5.82s/it]"
     ]
    },
    {
     "name": "stdout",
     "output_type": "stream",
     "text": [
      "Download size: 184.53 MB\n",
      "downloading NEON_D15_REDB_DP1_436000_4519000_classified_point_cloud.kml to /panfs/ccds02/nobackup/people/sbhusha1/pcd/neon/REDBlaz/\n",
      "downloading NEON_D15_REDB_DP1_436000_4519000_classified_point_cloud.shp to /panfs/ccds02/nobackup/people/sbhusha1/pcd/neon/REDBlaz/\n",
      "downloading NEON_D15_REDB_DP1_436000_4519000_classified_point_cloud.shx to /panfs/ccds02/nobackup/people/sbhusha1/pcd/neon/REDBlaz/\n",
      "downloading NEON_D15_REDB_DP1_436000_4519000_classified_point_cloud.dbf to /panfs/ccds02/nobackup/people/sbhusha1/pcd/neon/REDBlaz/\n",
      "downloading NEON_D15_REDB_DP1_436000_4519000_classified_point_cloud.prj to /panfs/ccds02/nobackup/people/sbhusha1/pcd/neon/REDBlaz/\n",
      "downloading NEON_D15_REDB_DP1_436000_4519000_classified_point_cloud_colorized.laz to /panfs/ccds02/nobackup/people/sbhusha1/pcd/neon/REDBlaz/\n"
     ]
    },
    {
     "name": "stderr",
     "output_type": "stream",
     "text": [
      "37it [03:44,  5.94s/it]"
     ]
    },
    {
     "name": "stdout",
     "output_type": "stream",
     "text": [
      "Download size: 7.6 MB\n",
      "downloading NEON_D15_REDB_DP1_436000_4520000_classified_point_cloud.dbf to /panfs/ccds02/nobackup/people/sbhusha1/pcd/neon/REDBlaz/\n",
      "downloading NEON_D15_REDB_DP1_436000_4520000_classified_point_cloud_colorized.laz to /panfs/ccds02/nobackup/people/sbhusha1/pcd/neon/REDBlaz/\n",
      "downloading NEON_D15_REDB_DP1_436000_4520000_classified_point_cloud.prj to /panfs/ccds02/nobackup/people/sbhusha1/pcd/neon/REDBlaz/\n",
      "downloading NEON_D15_REDB_DP1_436000_4520000_classified_point_cloud.kml to /panfs/ccds02/nobackup/people/sbhusha1/pcd/neon/REDBlaz/\n",
      "downloading NEON_D15_REDB_DP1_436000_4520000_classified_point_cloud.shp to /panfs/ccds02/nobackup/people/sbhusha1/pcd/neon/REDBlaz/\n",
      "downloading NEON_D15_REDB_DP1_436000_4520000_classified_point_cloud.shx to /panfs/ccds02/nobackup/people/sbhusha1/pcd/neon/REDBlaz/\n"
     ]
    },
    {
     "name": "stderr",
     "output_type": "stream",
     "text": [
      "38it [03:46,  4.85s/it]"
     ]
    },
    {
     "name": "stdout",
     "output_type": "stream",
     "text": [
      "Download size: 4.07 MB\n",
      "downloading NEON_D15_REDB_DP1_437000_4515000_classified_point_cloud_colorized.laz to /panfs/ccds02/nobackup/people/sbhusha1/pcd/neon/REDBlaz/\n",
      "downloading NEON_D15_REDB_DP1_437000_4515000_classified_point_cloud.dbf to /panfs/ccds02/nobackup/people/sbhusha1/pcd/neon/REDBlaz/\n",
      "downloading NEON_D15_REDB_DP1_437000_4515000_classified_point_cloud.kml to /panfs/ccds02/nobackup/people/sbhusha1/pcd/neon/REDBlaz/\n",
      "downloading NEON_D15_REDB_DP1_437000_4515000_classified_point_cloud.shp to /panfs/ccds02/nobackup/people/sbhusha1/pcd/neon/REDBlaz/\n",
      "downloading NEON_D15_REDB_DP1_437000_4515000_classified_point_cloud.shx to /panfs/ccds02/nobackup/people/sbhusha1/pcd/neon/REDBlaz/\n",
      "downloading NEON_D15_REDB_DP1_437000_4515000_classified_point_cloud.prj to /panfs/ccds02/nobackup/people/sbhusha1/pcd/neon/REDBlaz/\n"
     ]
    },
    {
     "name": "stderr",
     "output_type": "stream",
     "text": [
      "39it [03:49,  4.17s/it]"
     ]
    },
    {
     "name": "stdout",
     "output_type": "stream",
     "text": [
      "Download size: 85.0 MB\n",
      "downloading NEON_D15_REDB_DP1_437000_4516000_classified_point_cloud.shx to /panfs/ccds02/nobackup/people/sbhusha1/pcd/neon/REDBlaz/\n",
      "downloading NEON_D15_REDB_DP1_437000_4516000_classified_point_cloud.shp to /panfs/ccds02/nobackup/people/sbhusha1/pcd/neon/REDBlaz/\n",
      "downloading NEON_D15_REDB_DP1_437000_4516000_classified_point_cloud.kml to /panfs/ccds02/nobackup/people/sbhusha1/pcd/neon/REDBlaz/\n",
      "downloading NEON_D15_REDB_DP1_437000_4516000_classified_point_cloud_colorized.laz to /panfs/ccds02/nobackup/people/sbhusha1/pcd/neon/REDBlaz/\n",
      "downloading NEON_D15_REDB_DP1_437000_4516000_classified_point_cloud.dbf to /panfs/ccds02/nobackup/people/sbhusha1/pcd/neon/REDBlaz/\n",
      "downloading NEON_D15_REDB_DP1_437000_4516000_classified_point_cloud.prj to /panfs/ccds02/nobackup/people/sbhusha1/pcd/neon/REDBlaz/\n"
     ]
    },
    {
     "name": "stderr",
     "output_type": "stream",
     "text": [
      "40it [03:52,  4.07s/it]"
     ]
    },
    {
     "name": "stdout",
     "output_type": "stream",
     "text": [
      "Download size: 123.0 MB\n",
      "downloading NEON_D15_REDB_DP1_437000_4517000_classified_point_cloud.kml to /panfs/ccds02/nobackup/people/sbhusha1/pcd/neon/REDBlaz/\n",
      "downloading NEON_D15_REDB_DP1_437000_4517000_classified_point_cloud.prj to /panfs/ccds02/nobackup/people/sbhusha1/pcd/neon/REDBlaz/\n",
      "downloading NEON_D15_REDB_DP1_437000_4517000_classified_point_cloud_colorized.laz to /panfs/ccds02/nobackup/people/sbhusha1/pcd/neon/REDBlaz/\n",
      "downloading NEON_D15_REDB_DP1_437000_4517000_classified_point_cloud.dbf to /panfs/ccds02/nobackup/people/sbhusha1/pcd/neon/REDBlaz/\n",
      "downloading NEON_D15_REDB_DP1_437000_4517000_classified_point_cloud.shp to /panfs/ccds02/nobackup/people/sbhusha1/pcd/neon/REDBlaz/\n",
      "downloading NEON_D15_REDB_DP1_437000_4517000_classified_point_cloud.shx to /panfs/ccds02/nobackup/people/sbhusha1/pcd/neon/REDBlaz/\n"
     ]
    },
    {
     "name": "stderr",
     "output_type": "stream",
     "text": [
      "41it [03:57,  4.17s/it]"
     ]
    },
    {
     "name": "stdout",
     "output_type": "stream",
     "text": [
      "Download size: 137.22 MB\n",
      "downloading NEON_D15_REDB_DP1_437000_4518000_classified_point_cloud.kml to /panfs/ccds02/nobackup/people/sbhusha1/pcd/neon/REDBlaz/\n",
      "downloading NEON_D15_REDB_DP1_437000_4518000_classified_point_cloud.shx to /panfs/ccds02/nobackup/people/sbhusha1/pcd/neon/REDBlaz/\n",
      "downloading NEON_D15_REDB_DP1_437000_4518000_classified_point_cloud.shp to /panfs/ccds02/nobackup/people/sbhusha1/pcd/neon/REDBlaz/\n",
      "downloading NEON_D15_REDB_DP1_437000_4518000_classified_point_cloud_colorized.laz to /panfs/ccds02/nobackup/people/sbhusha1/pcd/neon/REDBlaz/\n",
      "downloading NEON_D15_REDB_DP1_437000_4518000_classified_point_cloud.dbf to /panfs/ccds02/nobackup/people/sbhusha1/pcd/neon/REDBlaz/\n",
      "downloading NEON_D15_REDB_DP1_437000_4518000_classified_point_cloud.prj to /panfs/ccds02/nobackup/people/sbhusha1/pcd/neon/REDBlaz/\n"
     ]
    },
    {
     "name": "stderr",
     "output_type": "stream",
     "text": [
      "42it [04:01,  4.28s/it]"
     ]
    },
    {
     "name": "stdout",
     "output_type": "stream",
     "text": [
      "Download size: 128.59 MB\n",
      "downloading NEON_D15_REDB_DP1_437000_4519000_classified_point_cloud.prj to /panfs/ccds02/nobackup/people/sbhusha1/pcd/neon/REDBlaz/\n",
      "downloading NEON_D15_REDB_DP1_437000_4519000_classified_point_cloud.dbf to /panfs/ccds02/nobackup/people/sbhusha1/pcd/neon/REDBlaz/\n",
      "downloading NEON_D15_REDB_DP1_437000_4519000_classified_point_cloud_colorized.laz to /panfs/ccds02/nobackup/people/sbhusha1/pcd/neon/REDBlaz/\n",
      "downloading NEON_D15_REDB_DP1_437000_4519000_classified_point_cloud.shp to /panfs/ccds02/nobackup/people/sbhusha1/pcd/neon/REDBlaz/\n",
      "downloading NEON_D15_REDB_DP1_437000_4519000_classified_point_cloud.shx to /panfs/ccds02/nobackup/people/sbhusha1/pcd/neon/REDBlaz/\n",
      "downloading NEON_D15_REDB_DP1_437000_4519000_classified_point_cloud.kml to /panfs/ccds02/nobackup/people/sbhusha1/pcd/neon/REDBlaz/\n"
     ]
    },
    {
     "name": "stderr",
     "output_type": "stream",
     "text": [
      "43it [04:06,  4.28s/it]"
     ]
    },
    {
     "name": "stdout",
     "output_type": "stream",
     "text": [
      "Download size: 10.04 MB\n",
      "downloading NEON_D15_REDB_DP1_437000_4520000_classified_point_cloud.kml to /panfs/ccds02/nobackup/people/sbhusha1/pcd/neon/REDBlaz/\n",
      "downloading NEON_D15_REDB_DP1_437000_4520000_classified_point_cloud.prj to /panfs/ccds02/nobackup/people/sbhusha1/pcd/neon/REDBlaz/\n",
      "downloading NEON_D15_REDB_DP1_437000_4520000_classified_point_cloud.dbf to /panfs/ccds02/nobackup/people/sbhusha1/pcd/neon/REDBlaz/\n",
      "downloading NEON_D15_REDB_DP1_437000_4520000_classified_point_cloud_colorized.laz to /panfs/ccds02/nobackup/people/sbhusha1/pcd/neon/REDBlaz/\n",
      "downloading NEON_D15_REDB_DP1_437000_4520000_classified_point_cloud.shp to /panfs/ccds02/nobackup/people/sbhusha1/pcd/neon/REDBlaz/\n",
      "downloading NEON_D15_REDB_DP1_437000_4520000_classified_point_cloud.shx to /panfs/ccds02/nobackup/people/sbhusha1/pcd/neon/REDBlaz/\n"
     ]
    },
    {
     "name": "stderr",
     "output_type": "stream",
     "text": [
      "44it [04:07,  5.64s/it]\n"
     ]
    },
    {
     "data": {
      "image/png": "[encoded data removed]",
      "text/plain": [
       "<Figure size 640x480 with 1 Axes>"
      ]
     },
     "metadata": {},
     "output_type": "display_data"
    }
   ],
   "source": [
    "iloc = 1\n",
    "site_neon_gdf = gdf_neon.iloc[[iloc]]\n",
    "site = site_neon_gdf.neon_id.values[0]\n",
    "year = str(site_neon_gdf.start_datetime.values[0].item().year)\n",
    "print(year)\n",
    "download_path = os.path.join(working_directory,site)\n",
    "if not os.path.exists(download_path):\n",
    "    os.makedirs(download_path)\n",
    "print(f\"files will be downloaded at {download_path}\")\n",
    "aoi_tile_shp = download_metadata(year,download_path,dpID,site)\n",
    "download_lpc_tiles(aoi_tile_shp,gdf_fourway.iloc[[iloc]],download_path,dpID,site,year)"
   ]
  },
  {
   "cell_type": "markdown",
   "id": "512bd39e-d1f3-48bb-9635-a748b6a1ae1a",
   "metadata": {},
   "source": [
    "## WERF"
   ]
  },
  {
   "cell_type": "code",
   "execution_count": 53,
   "id": "ac60f54e-32a9-4de8-a652-1ada77aa0c19",
   "metadata": {
    "scrolled": true
   },
   "outputs": [
    {
     "name": "stdout",
     "output_type": "stream",
     "text": [
      "files will be downloaded at /panfs/ccds02/nobackup/people/sbhusha1/pcd/neon/WREF\n",
      "Downloading metadata\n",
      "Download size: 16.44 MB\n",
      "downloading 2019071222_P3C1_SBET_QAQC.pdf to /panfs/ccds02/nobackup/people/sbhusha1/pcd/neon/WREF\n",
      "downloading 2019071418_P3C1_SBET_QAQC.pdf to /panfs/ccds02/nobackup/people/sbhusha1/pcd/neon/WREF\n",
      "downloading 2019_WREF_3_L1_discrete_lidar_processing.pdf to /panfs/ccds02/nobackup/people/sbhusha1/pcd/neon/WREF\n",
      "downloading 2019_WREF_3_L3_discrete_lidar_processing.pdf to /panfs/ccds02/nobackup/people/sbhusha1/pcd/neon/WREF\n",
      "downloading 2019071216_P3C1_SBET_QAQC.pdf to /panfs/ccds02/nobackup/people/sbhusha1/pcd/neon/WREF\n",
      "Download size: 0.73 kB\n",
      "downloading 2019_WREF_3_merged_tiles.shp to /panfs/ccds02/nobackup/people/sbhusha1/pcd/neon/WREFshp/\n",
      "Download size: 0.0 kB\n",
      "downloading 2019_WREF_3_merged_tiles.shx to /panfs/ccds02/nobackup/people/sbhusha1/pcd/neon/WREFshp/\n",
      "Download size: 389 bytes\n",
      "downloading 2019_WREF_3_merged_tiles.prj to /panfs/ccds02/nobackup/people/sbhusha1/pcd/neon/WREFshp/\n",
      "Download size: 0.02 kB\n",
      "downloading 2019_WREF_3_merged_tiles.dbf to /panfs/ccds02/nobackup/people/sbhusha1/pcd/neon/WREFshp/\n"
     ]
    },
    {
     "name": "stderr",
     "output_type": "stream",
     "text": [
      "0it [00:00, ?it/s]"
     ]
    },
    {
     "name": "stdout",
     "output_type": "stream",
     "text": [
      "Download size: 21.42 MB\n",
      "downloading NEON_D16_WREF_DP1_574000_5069000_classified_point_cloud.dbf to /panfs/ccds02/nobackup/people/sbhusha1/pcd/neon/WREFlaz/\n",
      "downloading NEON_D16_WREF_DP1_574000_5069000_classified_point_cloud.prj to /panfs/ccds02/nobackup/people/sbhusha1/pcd/neon/WREFlaz/\n",
      "downloading NEON_D16_WREF_DP1_574000_5069000_classified_point_cloud.shp to /panfs/ccds02/nobackup/people/sbhusha1/pcd/neon/WREFlaz/\n",
      "downloading NEON_D16_WREF_DP1_574000_5069000_classified_point_cloud.shx to /panfs/ccds02/nobackup/people/sbhusha1/pcd/neon/WREFlaz/\n",
      "downloading NEON_D16_WREF_DP1_574000_5069000_classified_point_cloud_colorized.laz to /panfs/ccds02/nobackup/people/sbhusha1/pcd/neon/WREFlaz/\n",
      "downloading NEON_D16_WREF_DP1_574000_5069000_classified_point_cloud.kml to /panfs/ccds02/nobackup/people/sbhusha1/pcd/neon/WREFlaz/\n"
     ]
    },
    {
     "name": "stderr",
     "output_type": "stream",
     "text": [
      "1it [00:02,  2.63s/it]"
     ]
    },
    {
     "name": "stdout",
     "output_type": "stream",
     "text": [
      "Download size: 203.73 MB\n",
      "downloading NEON_D16_WREF_DP1_574000_5070000_classified_point_cloud_colorized.laz to /panfs/ccds02/nobackup/people/sbhusha1/pcd/neon/WREFlaz/\n",
      "downloading NEON_D16_WREF_DP1_574000_5070000_classified_point_cloud.shx to /panfs/ccds02/nobackup/people/sbhusha1/pcd/neon/WREFlaz/\n",
      "downloading NEON_D16_WREF_DP1_574000_5070000_classified_point_cloud.shp to /panfs/ccds02/nobackup/people/sbhusha1/pcd/neon/WREFlaz/\n",
      "downloading NEON_D16_WREF_DP1_574000_5070000_classified_point_cloud.prj to /panfs/ccds02/nobackup/people/sbhusha1/pcd/neon/WREFlaz/\n",
      "downloading NEON_D16_WREF_DP1_574000_5070000_classified_point_cloud.kml to /panfs/ccds02/nobackup/people/sbhusha1/pcd/neon/WREFlaz/\n",
      "downloading NEON_D16_WREF_DP1_574000_5070000_classified_point_cloud.dbf to /panfs/ccds02/nobackup/people/sbhusha1/pcd/neon/WREFlaz/\n"
     ]
    },
    {
     "name": "stderr",
     "output_type": "stream",
     "text": [
      "2it [00:08,  4.73s/it]"
     ]
    },
    {
     "name": "stdout",
     "output_type": "stream",
     "text": [
      "Download size: 233.45 MB\n",
      "downloading NEON_D16_WREF_DP1_574000_5071000_classified_point_cloud_colorized.laz to /panfs/ccds02/nobackup/people/sbhusha1/pcd/neon/WREFlaz/\n",
      "downloading NEON_D16_WREF_DP1_574000_5071000_classified_point_cloud.shx to /panfs/ccds02/nobackup/people/sbhusha1/pcd/neon/WREFlaz/\n",
      "downloading NEON_D16_WREF_DP1_574000_5071000_classified_point_cloud.shp to /panfs/ccds02/nobackup/people/sbhusha1/pcd/neon/WREFlaz/\n",
      "downloading NEON_D16_WREF_DP1_574000_5071000_classified_point_cloud.prj to /panfs/ccds02/nobackup/people/sbhusha1/pcd/neon/WREFlaz/\n",
      "downloading NEON_D16_WREF_DP1_574000_5071000_classified_point_cloud.dbf to /panfs/ccds02/nobackup/people/sbhusha1/pcd/neon/WREFlaz/\n",
      "downloading NEON_D16_WREF_DP1_574000_5071000_classified_point_cloud.kml to /panfs/ccds02/nobackup/people/sbhusha1/pcd/neon/WREFlaz/\n"
     ]
    },
    {
     "name": "stderr",
     "output_type": "stream",
     "text": [
      "3it [00:14,  5.30s/it]"
     ]
    },
    {
     "name": "stdout",
     "output_type": "stream",
     "text": [
      "Download size: 253.31 MB\n",
      "downloading NEON_D16_WREF_DP1_574000_5072000_classified_point_cloud.dbf to /panfs/ccds02/nobackup/people/sbhusha1/pcd/neon/WREFlaz/\n",
      "downloading NEON_D16_WREF_DP1_574000_5072000_classified_point_cloud_colorized.laz to /panfs/ccds02/nobackup/people/sbhusha1/pcd/neon/WREFlaz/\n",
      "downloading NEON_D16_WREF_DP1_574000_5072000_classified_point_cloud.prj to /panfs/ccds02/nobackup/people/sbhusha1/pcd/neon/WREFlaz/\n",
      "downloading NEON_D16_WREF_DP1_574000_5072000_classified_point_cloud.kml to /panfs/ccds02/nobackup/people/sbhusha1/pcd/neon/WREFlaz/\n",
      "downloading NEON_D16_WREF_DP1_574000_5072000_classified_point_cloud.shp to /panfs/ccds02/nobackup/people/sbhusha1/pcd/neon/WREFlaz/\n",
      "downloading NEON_D16_WREF_DP1_574000_5072000_classified_point_cloud.shx to /panfs/ccds02/nobackup/people/sbhusha1/pcd/neon/WREFlaz/\n"
     ]
    },
    {
     "name": "stderr",
     "output_type": "stream",
     "text": [
      "4it [00:21,  5.78s/it]"
     ]
    },
    {
     "name": "stdout",
     "output_type": "stream",
     "text": [
      "Download size: 222.31 MB\n",
      "downloading NEON_D16_WREF_DP1_574000_5073000_classified_point_cloud_colorized.laz to /panfs/ccds02/nobackup/people/sbhusha1/pcd/neon/WREFlaz/\n",
      "downloading NEON_D16_WREF_DP1_574000_5073000_classified_point_cloud.dbf to /panfs/ccds02/nobackup/people/sbhusha1/pcd/neon/WREFlaz/\n",
      "downloading NEON_D16_WREF_DP1_574000_5073000_classified_point_cloud.prj to /panfs/ccds02/nobackup/people/sbhusha1/pcd/neon/WREFlaz/\n",
      "downloading NEON_D16_WREF_DP1_574000_5073000_classified_point_cloud.kml to /panfs/ccds02/nobackup/people/sbhusha1/pcd/neon/WREFlaz/\n",
      "downloading NEON_D16_WREF_DP1_574000_5073000_classified_point_cloud.shx to /panfs/ccds02/nobackup/people/sbhusha1/pcd/neon/WREFlaz/\n",
      "downloading NEON_D16_WREF_DP1_574000_5073000_classified_point_cloud.shp to /panfs/ccds02/nobackup/people/sbhusha1/pcd/neon/WREFlaz/\n"
     ]
    },
    {
     "name": "stderr",
     "output_type": "stream",
     "text": [
      "5it [00:28,  6.22s/it]"
     ]
    },
    {
     "name": "stdout",
     "output_type": "stream",
     "text": [
      "Download size: 246.43 MB\n",
      "downloading NEON_D16_WREF_DP1_574000_5074000_classified_point_cloud.shx to /panfs/ccds02/nobackup/people/sbhusha1/pcd/neon/WREFlaz/\n",
      "downloading NEON_D16_WREF_DP1_574000_5074000_classified_point_cloud.shp to /panfs/ccds02/nobackup/people/sbhusha1/pcd/neon/WREFlaz/\n",
      "downloading NEON_D16_WREF_DP1_574000_5074000_classified_point_cloud.kml to /panfs/ccds02/nobackup/people/sbhusha1/pcd/neon/WREFlaz/\n",
      "downloading NEON_D16_WREF_DP1_574000_5074000_classified_point_cloud_colorized.laz to /panfs/ccds02/nobackup/people/sbhusha1/pcd/neon/WREFlaz/\n",
      "downloading NEON_D16_WREF_DP1_574000_5074000_classified_point_cloud.prj to /panfs/ccds02/nobackup/people/sbhusha1/pcd/neon/WREFlaz/\n"
     ]
    },
    {
     "name": "stderr",
     "output_type": "stream",
     "text": [
      "6it [00:34,  6.05s/it]"
     ]
    },
    {
     "name": "stdout",
     "output_type": "stream",
     "text": [
      "downloading NEON_D16_WREF_DP1_574000_5074000_classified_point_cloud.dbf to /panfs/ccds02/nobackup/people/sbhusha1/pcd/neon/WREFlaz/\n",
      "Download size: 269.69 MB\n",
      "downloading NEON_D16_WREF_DP1_574000_5075000_classified_point_cloud.kml to /panfs/ccds02/nobackup/people/sbhusha1/pcd/neon/WREFlaz/\n",
      "downloading NEON_D16_WREF_DP1_574000_5075000_classified_point_cloud.shp to /panfs/ccds02/nobackup/people/sbhusha1/pcd/neon/WREFlaz/\n",
      "downloading NEON_D16_WREF_DP1_574000_5075000_classified_point_cloud.shx to /panfs/ccds02/nobackup/people/sbhusha1/pcd/neon/WREFlaz/\n",
      "downloading NEON_D16_WREF_DP1_574000_5075000_classified_point_cloud_colorized.laz to /panfs/ccds02/nobackup/people/sbhusha1/pcd/neon/WREFlaz/\n",
      "downloading NEON_D16_WREF_DP1_574000_5075000_classified_point_cloud.dbf to /panfs/ccds02/nobackup/people/sbhusha1/pcd/neon/WREFlaz/\n",
      "downloading NEON_D16_WREF_DP1_574000_5075000_classified_point_cloud.prj to /panfs/ccds02/nobackup/people/sbhusha1/pcd/neon/WREFlaz/\n"
     ]
    },
    {
     "name": "stderr",
     "output_type": "stream",
     "text": [
      "7it [00:40,  6.31s/it]"
     ]
    },
    {
     "name": "stdout",
     "output_type": "stream",
     "text": [
      "Download size: 240.25 MB\n",
      "downloading NEON_D16_WREF_DP1_574000_5076000_classified_point_cloud.shx to /panfs/ccds02/nobackup/people/sbhusha1/pcd/neon/WREFlaz/\n",
      "downloading NEON_D16_WREF_DP1_574000_5076000_classified_point_cloud.shp to /panfs/ccds02/nobackup/people/sbhusha1/pcd/neon/WREFlaz/\n",
      "downloading NEON_D16_WREF_DP1_574000_5076000_classified_point_cloud_colorized.laz to /panfs/ccds02/nobackup/people/sbhusha1/pcd/neon/WREFlaz/\n",
      "downloading NEON_D16_WREF_DP1_574000_5076000_classified_point_cloud.prj to /panfs/ccds02/nobackup/people/sbhusha1/pcd/neon/WREFlaz/\n",
      "downloading NEON_D16_WREF_DP1_574000_5076000_classified_point_cloud.dbf to /panfs/ccds02/nobackup/people/sbhusha1/pcd/neon/WREFlaz/\n",
      "downloading NEON_D16_WREF_DP1_574000_5076000_classified_point_cloud.kml to /panfs/ccds02/nobackup/people/sbhusha1/pcd/neon/WREFlaz/\n"
     ]
    },
    {
     "name": "stderr",
     "output_type": "stream",
     "text": [
      "8it [00:46,  6.24s/it]"
     ]
    },
    {
     "name": "stdout",
     "output_type": "stream",
     "text": [
      "Download size: 256.12 MB\n",
      "downloading NEON_D16_WREF_DP1_574000_5077000_classified_point_cloud.prj to /panfs/ccds02/nobackup/people/sbhusha1/pcd/neon/WREFlaz/\n",
      "downloading NEON_D16_WREF_DP1_574000_5077000_classified_point_cloud.dbf to /panfs/ccds02/nobackup/people/sbhusha1/pcd/neon/WREFlaz/\n",
      "downloading NEON_D16_WREF_DP1_574000_5077000_classified_point_cloud_colorized.laz to /panfs/ccds02/nobackup/people/sbhusha1/pcd/neon/WREFlaz/\n",
      "downloading NEON_D16_WREF_DP1_574000_5077000_classified_point_cloud.shp to /panfs/ccds02/nobackup/people/sbhusha1/pcd/neon/WREFlaz/\n",
      "downloading NEON_D16_WREF_DP1_574000_5077000_classified_point_cloud.shx to /panfs/ccds02/nobackup/people/sbhusha1/pcd/neon/WREFlaz/\n",
      "downloading NEON_D16_WREF_DP1_574000_5077000_classified_point_cloud.kml to /panfs/ccds02/nobackup/people/sbhusha1/pcd/neon/WREFlaz/\n"
     ]
    },
    {
     "name": "stderr",
     "output_type": "stream",
     "text": [
      "9it [00:53,  6.34s/it]"
     ]
    },
    {
     "name": "stdout",
     "output_type": "stream",
     "text": [
      "Download size: 3.11 MB\n",
      "downloading NEON_D16_WREF_DP1_575000_5069000_classified_point_cloud_colorized.laz to /panfs/ccds02/nobackup/people/sbhusha1/pcd/neon/WREFlaz/\n",
      "downloading NEON_D16_WREF_DP1_575000_5069000_classified_point_cloud.shp to /panfs/ccds02/nobackup/people/sbhusha1/pcd/neon/WREFlaz/\n",
      "downloading NEON_D16_WREF_DP1_575000_5069000_classified_point_cloud.shx to /panfs/ccds02/nobackup/people/sbhusha1/pcd/neon/WREFlaz/\n",
      "downloading NEON_D16_WREF_DP1_575000_5069000_classified_point_cloud.prj to /panfs/ccds02/nobackup/people/sbhusha1/pcd/neon/WREFlaz/\n",
      "downloading NEON_D16_WREF_DP1_575000_5069000_classified_point_cloud.dbf to /panfs/ccds02/nobackup/people/sbhusha1/pcd/neon/WREFlaz/\n"
     ]
    },
    {
     "name": "stderr",
     "output_type": "stream",
     "text": [
      "10it [00:55,  5.03s/it]"
     ]
    },
    {
     "name": "stdout",
     "output_type": "stream",
     "text": [
      "downloading NEON_D16_WREF_DP1_575000_5069000_classified_point_cloud.kml to /panfs/ccds02/nobackup/people/sbhusha1/pcd/neon/WREFlaz/\n",
      "Download size: 168.1 MB\n",
      "downloading NEON_D16_WREF_DP1_575000_5070000_classified_point_cloud.shx to /panfs/ccds02/nobackup/people/sbhusha1/pcd/neon/WREFlaz/\n",
      "downloading NEON_D16_WREF_DP1_575000_5070000_classified_point_cloud.shp to /panfs/ccds02/nobackup/people/sbhusha1/pcd/neon/WREFlaz/\n",
      "downloading NEON_D16_WREF_DP1_575000_5070000_classified_point_cloud.kml to /panfs/ccds02/nobackup/people/sbhusha1/pcd/neon/WREFlaz/\n",
      "downloading NEON_D16_WREF_DP1_575000_5070000_classified_point_cloud_colorized.laz to /panfs/ccds02/nobackup/people/sbhusha1/pcd/neon/WREFlaz/\n",
      "downloading NEON_D16_WREF_DP1_575000_5070000_classified_point_cloud.prj to /panfs/ccds02/nobackup/people/sbhusha1/pcd/neon/WREFlaz/\n",
      "downloading NEON_D16_WREF_DP1_575000_5070000_classified_point_cloud.dbf to /panfs/ccds02/nobackup/people/sbhusha1/pcd/neon/WREFlaz/\n"
     ]
    },
    {
     "name": "stderr",
     "output_type": "stream",
     "text": [
      "11it [01:00,  5.05s/it]"
     ]
    },
    {
     "name": "stdout",
     "output_type": "stream",
     "text": [
      "Download size: 180.08 MB\n",
      "downloading NEON_D16_WREF_DP1_575000_5071000_classified_point_cloud.kml to /panfs/ccds02/nobackup/people/sbhusha1/pcd/neon/WREFlaz/\n",
      "downloading NEON_D16_WREF_DP1_575000_5071000_classified_point_cloud.shx to /panfs/ccds02/nobackup/people/sbhusha1/pcd/neon/WREFlaz/\n",
      "downloading NEON_D16_WREF_DP1_575000_5071000_classified_point_cloud.shp to /panfs/ccds02/nobackup/people/sbhusha1/pcd/neon/WREFlaz/\n",
      "downloading NEON_D16_WREF_DP1_575000_5071000_classified_point_cloud_colorized.laz to /panfs/ccds02/nobackup/people/sbhusha1/pcd/neon/WREFlaz/\n",
      "downloading NEON_D16_WREF_DP1_575000_5071000_classified_point_cloud.dbf to /panfs/ccds02/nobackup/people/sbhusha1/pcd/neon/WREFlaz/\n",
      "downloading NEON_D16_WREF_DP1_575000_5071000_classified_point_cloud.prj to /panfs/ccds02/nobackup/people/sbhusha1/pcd/neon/WREFlaz/\n"
     ]
    },
    {
     "name": "stderr",
     "output_type": "stream",
     "text": [
      "12it [01:05,  5.09s/it]"
     ]
    },
    {
     "name": "stdout",
     "output_type": "stream",
     "text": [
      "Download size: 173.3 MB\n",
      "downloading NEON_D16_WREF_DP1_575000_5072000_classified_point_cloud.dbf to /panfs/ccds02/nobackup/people/sbhusha1/pcd/neon/WREFlaz/\n",
      "downloading NEON_D16_WREF_DP1_575000_5072000_classified_point_cloud.kml to /panfs/ccds02/nobackup/people/sbhusha1/pcd/neon/WREFlaz/\n",
      "downloading NEON_D16_WREF_DP1_575000_5072000_classified_point_cloud.prj to /panfs/ccds02/nobackup/people/sbhusha1/pcd/neon/WREFlaz/\n",
      "downloading NEON_D16_WREF_DP1_575000_5072000_classified_point_cloud_colorized.laz to /panfs/ccds02/nobackup/people/sbhusha1/pcd/neon/WREFlaz/\n",
      "downloading NEON_D16_WREF_DP1_575000_5072000_classified_point_cloud.shp to /panfs/ccds02/nobackup/people/sbhusha1/pcd/neon/WREFlaz/\n",
      "downloading NEON_D16_WREF_DP1_575000_5072000_classified_point_cloud.shx to /panfs/ccds02/nobackup/people/sbhusha1/pcd/neon/WREFlaz/\n"
     ]
    },
    {
     "name": "stderr",
     "output_type": "stream",
     "text": [
      "13it [01:11,  5.19s/it]"
     ]
    },
    {
     "name": "stdout",
     "output_type": "stream",
     "text": [
      "Download size: 187.4 MB\n",
      "downloading NEON_D16_WREF_DP1_575000_5073000_classified_point_cloud.prj to /panfs/ccds02/nobackup/people/sbhusha1/pcd/neon/WREFlaz/\n",
      "downloading NEON_D16_WREF_DP1_575000_5073000_classified_point_cloud.dbf to /panfs/ccds02/nobackup/people/sbhusha1/pcd/neon/WREFlaz/\n",
      "downloading NEON_D16_WREF_DP1_575000_5073000_classified_point_cloud.kml to /panfs/ccds02/nobackup/people/sbhusha1/pcd/neon/WREFlaz/\n",
      "downloading NEON_D16_WREF_DP1_575000_5073000_classified_point_cloud_colorized.laz to /panfs/ccds02/nobackup/people/sbhusha1/pcd/neon/WREFlaz/\n",
      "downloading NEON_D16_WREF_DP1_575000_5073000_classified_point_cloud.shx to /panfs/ccds02/nobackup/people/sbhusha1/pcd/neon/WREFlaz/\n",
      "downloading NEON_D16_WREF_DP1_575000_5073000_classified_point_cloud.shp to /panfs/ccds02/nobackup/people/sbhusha1/pcd/neon/WREFlaz/\n"
     ]
    },
    {
     "name": "stderr",
     "output_type": "stream",
     "text": [
      "14it [01:16,  5.09s/it]"
     ]
    },
    {
     "name": "stdout",
     "output_type": "stream",
     "text": [
      "Download size: 199.95 MB\n",
      "downloading NEON_D16_WREF_DP1_575000_5074000_classified_point_cloud.shx to /panfs/ccds02/nobackup/people/sbhusha1/pcd/neon/WREFlaz/\n",
      "downloading NEON_D16_WREF_DP1_575000_5074000_classified_point_cloud.shp to /panfs/ccds02/nobackup/people/sbhusha1/pcd/neon/WREFlaz/\n",
      "downloading NEON_D16_WREF_DP1_575000_5074000_classified_point_cloud.kml to /panfs/ccds02/nobackup/people/sbhusha1/pcd/neon/WREFlaz/\n",
      "downloading NEON_D16_WREF_DP1_575000_5074000_classified_point_cloud.dbf to /panfs/ccds02/nobackup/people/sbhusha1/pcd/neon/WREFlaz/\n",
      "downloading NEON_D16_WREF_DP1_575000_5074000_classified_point_cloud_colorized.laz to /panfs/ccds02/nobackup/people/sbhusha1/pcd/neon/WREFlaz/\n"
     ]
    },
    {
     "name": "stderr",
     "output_type": "stream",
     "text": [
      "15it [01:21,  5.13s/it]"
     ]
    },
    {
     "name": "stdout",
     "output_type": "stream",
     "text": [
      "downloading NEON_D16_WREF_DP1_575000_5074000_classified_point_cloud.prj to /panfs/ccds02/nobackup/people/sbhusha1/pcd/neon/WREFlaz/\n",
      "Download size: 180.53 MB\n",
      "downloading NEON_D16_WREF_DP1_575000_5075000_classified_point_cloud.shp to /panfs/ccds02/nobackup/people/sbhusha1/pcd/neon/WREFlaz/\n",
      "downloading NEON_D16_WREF_DP1_575000_5075000_classified_point_cloud.shx to /panfs/ccds02/nobackup/people/sbhusha1/pcd/neon/WREFlaz/\n",
      "downloading NEON_D16_WREF_DP1_575000_5075000_classified_point_cloud.kml to /panfs/ccds02/nobackup/people/sbhusha1/pcd/neon/WREFlaz/\n",
      "downloading NEON_D16_WREF_DP1_575000_5075000_classified_point_cloud_colorized.laz to /panfs/ccds02/nobackup/people/sbhusha1/pcd/neon/WREFlaz/\n",
      "downloading NEON_D16_WREF_DP1_575000_5075000_classified_point_cloud.dbf to /panfs/ccds02/nobackup/people/sbhusha1/pcd/neon/WREFlaz/\n",
      "downloading NEON_D16_WREF_DP1_575000_5075000_classified_point_cloud.prj to /panfs/ccds02/nobackup/people/sbhusha1/pcd/neon/WREFlaz/\n"
     ]
    },
    {
     "name": "stderr",
     "output_type": "stream",
     "text": [
      "16it [01:26,  5.23s/it]"
     ]
    },
    {
     "name": "stdout",
     "output_type": "stream",
     "text": [
      "Download size: 203.54 MB\n",
      "downloading NEON_D16_WREF_DP1_575000_5076000_classified_point_cloud_colorized.laz to /panfs/ccds02/nobackup/people/sbhusha1/pcd/neon/WREFlaz/\n",
      "downloading NEON_D16_WREF_DP1_575000_5076000_classified_point_cloud.shx to /panfs/ccds02/nobackup/people/sbhusha1/pcd/neon/WREFlaz/\n",
      "downloading NEON_D16_WREF_DP1_575000_5076000_classified_point_cloud.shp to /panfs/ccds02/nobackup/people/sbhusha1/pcd/neon/WREFlaz/\n",
      "downloading NEON_D16_WREF_DP1_575000_5076000_classified_point_cloud.dbf to /panfs/ccds02/nobackup/people/sbhusha1/pcd/neon/WREFlaz/\n",
      "downloading NEON_D16_WREF_DP1_575000_5076000_classified_point_cloud.prj to /panfs/ccds02/nobackup/people/sbhusha1/pcd/neon/WREFlaz/\n"
     ]
    },
    {
     "name": "stderr",
     "output_type": "stream",
     "text": [
      "17it [01:32,  5.25s/it]"
     ]
    },
    {
     "name": "stdout",
     "output_type": "stream",
     "text": [
      "downloading NEON_D16_WREF_DP1_575000_5076000_classified_point_cloud.kml to /panfs/ccds02/nobackup/people/sbhusha1/pcd/neon/WREFlaz/\n",
      "Download size: 177.03 MB\n",
      "downloading NEON_D16_WREF_DP1_575000_5077000_classified_point_cloud_colorized.laz to /panfs/ccds02/nobackup/people/sbhusha1/pcd/neon/WREFlaz/\n",
      "downloading NEON_D16_WREF_DP1_575000_5077000_classified_point_cloud.prj to /panfs/ccds02/nobackup/people/sbhusha1/pcd/neon/WREFlaz/\n",
      "downloading NEON_D16_WREF_DP1_575000_5077000_classified_point_cloud.dbf to /panfs/ccds02/nobackup/people/sbhusha1/pcd/neon/WREFlaz/\n",
      "downloading NEON_D16_WREF_DP1_575000_5077000_classified_point_cloud.shp to /panfs/ccds02/nobackup/people/sbhusha1/pcd/neon/WREFlaz/\n",
      "downloading NEON_D16_WREF_DP1_575000_5077000_classified_point_cloud.shx to /panfs/ccds02/nobackup/people/sbhusha1/pcd/neon/WREFlaz/\n",
      "downloading NEON_D16_WREF_DP1_575000_5077000_classified_point_cloud.kml to /panfs/ccds02/nobackup/people/sbhusha1/pcd/neon/WREFlaz/\n"
     ]
    },
    {
     "name": "stderr",
     "output_type": "stream",
     "text": [
      "18it [01:37,  5.23s/it]"
     ]
    },
    {
     "name": "stdout",
     "output_type": "stream",
     "text": [
      "Download size: 2.24 MB\n",
      "downloading NEON_D16_WREF_DP1_576000_5069000_classified_point_cloud.shp to /panfs/ccds02/nobackup/people/sbhusha1/pcd/neon/WREFlaz/\n",
      "downloading NEON_D16_WREF_DP1_576000_5069000_classified_point_cloud.shx to /panfs/ccds02/nobackup/people/sbhusha1/pcd/neon/WREFlaz/\n",
      "downloading NEON_D16_WREF_DP1_576000_5069000_classified_point_cloud.dbf to /panfs/ccds02/nobackup/people/sbhusha1/pcd/neon/WREFlaz/\n",
      "downloading NEON_D16_WREF_DP1_576000_5069000_classified_point_cloud.prj to /panfs/ccds02/nobackup/people/sbhusha1/pcd/neon/WREFlaz/\n",
      "downloading NEON_D16_WREF_DP1_576000_5069000_classified_point_cloud_colorized.laz to /panfs/ccds02/nobackup/people/sbhusha1/pcd/neon/WREFlaz/\n"
     ]
    },
    {
     "name": "stderr",
     "output_type": "stream",
     "text": [
      "19it [01:39,  4.23s/it]"
     ]
    },
    {
     "name": "stdout",
     "output_type": "stream",
     "text": [
      "downloading NEON_D16_WREF_DP1_576000_5069000_classified_point_cloud.kml to /panfs/ccds02/nobackup/people/sbhusha1/pcd/neon/WREFlaz/\n",
      "Download size: 218.29 MB\n",
      "downloading NEON_D16_WREF_DP1_576000_5070000_classified_point_cloud.shx to /panfs/ccds02/nobackup/people/sbhusha1/pcd/neon/WREFlaz/\n",
      "downloading NEON_D16_WREF_DP1_576000_5070000_classified_point_cloud.shp to /panfs/ccds02/nobackup/people/sbhusha1/pcd/neon/WREFlaz/\n",
      "downloading NEON_D16_WREF_DP1_576000_5070000_classified_point_cloud_colorized.laz to /panfs/ccds02/nobackup/people/sbhusha1/pcd/neon/WREFlaz/\n",
      "downloading NEON_D16_WREF_DP1_576000_5070000_classified_point_cloud.prj to /panfs/ccds02/nobackup/people/sbhusha1/pcd/neon/WREFlaz/\n",
      "downloading NEON_D16_WREF_DP1_576000_5070000_classified_point_cloud.kml to /panfs/ccds02/nobackup/people/sbhusha1/pcd/neon/WREFlaz/\n"
     ]
    },
    {
     "name": "stderr",
     "output_type": "stream",
     "text": [
      "20it [01:45,  4.80s/it]"
     ]
    },
    {
     "name": "stdout",
     "output_type": "stream",
     "text": [
      "downloading NEON_D16_WREF_DP1_576000_5070000_classified_point_cloud.dbf to /panfs/ccds02/nobackup/people/sbhusha1/pcd/neon/WREFlaz/\n",
      "Download size: 270.7 MB\n",
      "downloading NEON_D16_WREF_DP1_576000_5071000_classified_point_cloud.kml to /panfs/ccds02/nobackup/people/sbhusha1/pcd/neon/WREFlaz/\n",
      "downloading NEON_D16_WREF_DP1_576000_5071000_classified_point_cloud.shp to /panfs/ccds02/nobackup/people/sbhusha1/pcd/neon/WREFlaz/\n",
      "downloading NEON_D16_WREF_DP1_576000_5071000_classified_point_cloud.shx to /panfs/ccds02/nobackup/people/sbhusha1/pcd/neon/WREFlaz/\n",
      "downloading NEON_D16_WREF_DP1_576000_5071000_classified_point_cloud.prj to /panfs/ccds02/nobackup/people/sbhusha1/pcd/neon/WREFlaz/\n",
      "downloading NEON_D16_WREF_DP1_576000_5071000_classified_point_cloud.dbf to /panfs/ccds02/nobackup/people/sbhusha1/pcd/neon/WREFlaz/\n",
      "downloading NEON_D16_WREF_DP1_576000_5071000_classified_point_cloud_colorized.laz to /panfs/ccds02/nobackup/people/sbhusha1/pcd/neon/WREFlaz/\n"
     ]
    },
    {
     "name": "stderr",
     "output_type": "stream",
     "text": [
      "21it [01:54,  6.09s/it]"
     ]
    },
    {
     "name": "stdout",
     "output_type": "stream",
     "text": [
      "Download size: 229.03 MB\n",
      "downloading NEON_D16_WREF_DP1_576000_5072000_classified_point_cloud.kml to /panfs/ccds02/nobackup/people/sbhusha1/pcd/neon/WREFlaz/\n",
      "downloading NEON_D16_WREF_DP1_576000_5072000_classified_point_cloud.dbf to /panfs/ccds02/nobackup/people/sbhusha1/pcd/neon/WREFlaz/\n",
      "downloading NEON_D16_WREF_DP1_576000_5072000_classified_point_cloud.prj to /panfs/ccds02/nobackup/people/sbhusha1/pcd/neon/WREFlaz/\n",
      "downloading NEON_D16_WREF_DP1_576000_5072000_classified_point_cloud_colorized.laz to /panfs/ccds02/nobackup/people/sbhusha1/pcd/neon/WREFlaz/\n",
      "downloading NEON_D16_WREF_DP1_576000_5072000_classified_point_cloud.shp to /panfs/ccds02/nobackup/people/sbhusha1/pcd/neon/WREFlaz/\n",
      "downloading NEON_D16_WREF_DP1_576000_5072000_classified_point_cloud.shx to /panfs/ccds02/nobackup/people/sbhusha1/pcd/neon/WREFlaz/\n"
     ]
    },
    {
     "name": "stderr",
     "output_type": "stream",
     "text": [
      "22it [02:02,  6.75s/it]"
     ]
    },
    {
     "name": "stdout",
     "output_type": "stream",
     "text": [
      "Download size: 227.64 MB\n",
      "downloading NEON_D16_WREF_DP1_576000_5073000_classified_point_cloud.dbf to /panfs/ccds02/nobackup/people/sbhusha1/pcd/neon/WREFlaz/\n",
      "downloading NEON_D16_WREF_DP1_576000_5073000_classified_point_cloud.prj to /panfs/ccds02/nobackup/people/sbhusha1/pcd/neon/WREFlaz/\n",
      "downloading NEON_D16_WREF_DP1_576000_5073000_classified_point_cloud_colorized.laz to /panfs/ccds02/nobackup/people/sbhusha1/pcd/neon/WREFlaz/\n",
      "downloading NEON_D16_WREF_DP1_576000_5073000_classified_point_cloud.kml to /panfs/ccds02/nobackup/people/sbhusha1/pcd/neon/WREFlaz/\n",
      "downloading NEON_D16_WREF_DP1_576000_5073000_classified_point_cloud.shx to /panfs/ccds02/nobackup/people/sbhusha1/pcd/neon/WREFlaz/\n"
     ]
    },
    {
     "name": "stderr",
     "output_type": "stream",
     "text": [
      "23it [02:10,  7.08s/it]"
     ]
    },
    {
     "name": "stdout",
     "output_type": "stream",
     "text": [
      "downloading NEON_D16_WREF_DP1_576000_5073000_classified_point_cloud.shp to /panfs/ccds02/nobackup/people/sbhusha1/pcd/neon/WREFlaz/\n",
      "Download size: 279.74 MB\n",
      "downloading NEON_D16_WREF_DP1_576000_5074000_classified_point_cloud_colorized.laz to /panfs/ccds02/nobackup/people/sbhusha1/pcd/neon/WREFlaz/\n",
      "downloading NEON_D16_WREF_DP1_576000_5074000_classified_point_cloud.prj to /panfs/ccds02/nobackup/people/sbhusha1/pcd/neon/WREFlaz/\n",
      "downloading NEON_D16_WREF_DP1_576000_5074000_classified_point_cloud.dbf to /panfs/ccds02/nobackup/people/sbhusha1/pcd/neon/WREFlaz/\n",
      "downloading NEON_D16_WREF_DP1_576000_5074000_classified_point_cloud.kml to /panfs/ccds02/nobackup/people/sbhusha1/pcd/neon/WREFlaz/\n",
      "downloading NEON_D16_WREF_DP1_576000_5074000_classified_point_cloud.shx to /panfs/ccds02/nobackup/people/sbhusha1/pcd/neon/WREFlaz/\n"
     ]
    },
    {
     "name": "stderr",
     "output_type": "stream",
     "text": [
      "24it [02:18,  7.44s/it]"
     ]
    },
    {
     "name": "stdout",
     "output_type": "stream",
     "text": [
      "downloading NEON_D16_WREF_DP1_576000_5074000_classified_point_cloud.shp to /panfs/ccds02/nobackup/people/sbhusha1/pcd/neon/WREFlaz/\n",
      "Download size: 249.79 MB\n",
      "downloading NEON_D16_WREF_DP1_576000_5075000_classified_point_cloud.shp to /panfs/ccds02/nobackup/people/sbhusha1/pcd/neon/WREFlaz/\n",
      "downloading NEON_D16_WREF_DP1_576000_5075000_classified_point_cloud.shx to /panfs/ccds02/nobackup/people/sbhusha1/pcd/neon/WREFlaz/\n",
      "downloading NEON_D16_WREF_DP1_576000_5075000_classified_point_cloud.dbf to /panfs/ccds02/nobackup/people/sbhusha1/pcd/neon/WREFlaz/\n",
      "downloading NEON_D16_WREF_DP1_576000_5075000_classified_point_cloud.kml to /panfs/ccds02/nobackup/people/sbhusha1/pcd/neon/WREFlaz/\n",
      "downloading NEON_D16_WREF_DP1_576000_5075000_classified_point_cloud_colorized.laz to /panfs/ccds02/nobackup/people/sbhusha1/pcd/neon/WREFlaz/\n"
     ]
    },
    {
     "name": "stderr",
     "output_type": "stream",
     "text": [
      "25it [02:26,  7.39s/it]"
     ]
    },
    {
     "name": "stdout",
     "output_type": "stream",
     "text": [
      "downloading NEON_D16_WREF_DP1_576000_5075000_classified_point_cloud.prj to /panfs/ccds02/nobackup/people/sbhusha1/pcd/neon/WREFlaz/\n",
      "Download size: 234.32 MB\n",
      "downloading NEON_D16_WREF_DP1_576000_5076000_classified_point_cloud_colorized.laz to /panfs/ccds02/nobackup/people/sbhusha1/pcd/neon/WREFlaz/\n",
      "downloading NEON_D16_WREF_DP1_576000_5076000_classified_point_cloud.shx to /panfs/ccds02/nobackup/people/sbhusha1/pcd/neon/WREFlaz/\n",
      "downloading NEON_D16_WREF_DP1_576000_5076000_classified_point_cloud.shp to /panfs/ccds02/nobackup/people/sbhusha1/pcd/neon/WREFlaz/\n",
      "downloading NEON_D16_WREF_DP1_576000_5076000_classified_point_cloud.prj to /panfs/ccds02/nobackup/people/sbhusha1/pcd/neon/WREFlaz/\n",
      "downloading NEON_D16_WREF_DP1_576000_5076000_classified_point_cloud.dbf to /panfs/ccds02/nobackup/people/sbhusha1/pcd/neon/WREFlaz/\n"
     ]
    },
    {
     "name": "stderr",
     "output_type": "stream",
     "text": [
      "26it [02:33,  7.35s/it]"
     ]
    },
    {
     "name": "stdout",
     "output_type": "stream",
     "text": [
      "downloading NEON_D16_WREF_DP1_576000_5076000_classified_point_cloud.kml to /panfs/ccds02/nobackup/people/sbhusha1/pcd/neon/WREFlaz/\n",
      "Download size: 235.53 MB\n",
      "downloading NEON_D16_WREF_DP1_576000_5077000_classified_point_cloud.dbf to /panfs/ccds02/nobackup/people/sbhusha1/pcd/neon/WREFlaz/\n",
      "downloading NEON_D16_WREF_DP1_576000_5077000_classified_point_cloud.prj to /panfs/ccds02/nobackup/people/sbhusha1/pcd/neon/WREFlaz/\n",
      "downloading NEON_D16_WREF_DP1_576000_5077000_classified_point_cloud_colorized.laz to /panfs/ccds02/nobackup/people/sbhusha1/pcd/neon/WREFlaz/\n",
      "downloading NEON_D16_WREF_DP1_576000_5077000_classified_point_cloud.shp to /panfs/ccds02/nobackup/people/sbhusha1/pcd/neon/WREFlaz/\n",
      "downloading NEON_D16_WREF_DP1_576000_5077000_classified_point_cloud.shx to /panfs/ccds02/nobackup/people/sbhusha1/pcd/neon/WREFlaz/\n"
     ]
    },
    {
     "name": "stderr",
     "output_type": "stream",
     "text": [
      "27it [02:41,  7.46s/it]"
     ]
    },
    {
     "name": "stdout",
     "output_type": "stream",
     "text": [
      "downloading NEON_D16_WREF_DP1_576000_5077000_classified_point_cloud.kml to /panfs/ccds02/nobackup/people/sbhusha1/pcd/neon/WREFlaz/\n",
      "Download size: 8.25 MB\n",
      "downloading NEON_D16_WREF_DP1_577000_5069000_classified_point_cloud.kml to /panfs/ccds02/nobackup/people/sbhusha1/pcd/neon/WREFlaz/\n",
      "downloading NEON_D16_WREF_DP1_577000_5069000_classified_point_cloud_colorized.laz to /panfs/ccds02/nobackup/people/sbhusha1/pcd/neon/WREFlaz/\n",
      "downloading NEON_D16_WREF_DP1_577000_5069000_classified_point_cloud.shp to /panfs/ccds02/nobackup/people/sbhusha1/pcd/neon/WREFlaz/\n",
      "downloading NEON_D16_WREF_DP1_577000_5069000_classified_point_cloud.shx to /panfs/ccds02/nobackup/people/sbhusha1/pcd/neon/WREFlaz/\n",
      "downloading NEON_D16_WREF_DP1_577000_5069000_classified_point_cloud.prj to /panfs/ccds02/nobackup/people/sbhusha1/pcd/neon/WREFlaz/\n"
     ]
    },
    {
     "name": "stderr",
     "output_type": "stream",
     "text": [
      "28it [02:44,  6.28s/it]"
     ]
    },
    {
     "name": "stdout",
     "output_type": "stream",
     "text": [
      "downloading NEON_D16_WREF_DP1_577000_5069000_classified_point_cloud.dbf to /panfs/ccds02/nobackup/people/sbhusha1/pcd/neon/WREFlaz/\n",
      "Download size: 226.77 MB\n",
      "downloading NEON_D16_WREF_DP1_577000_5070000_classified_point_cloud_colorized.laz to /panfs/ccds02/nobackup/people/sbhusha1/pcd/neon/WREFlaz/\n",
      "downloading NEON_D16_WREF_DP1_577000_5070000_classified_point_cloud.shx to /panfs/ccds02/nobackup/people/sbhusha1/pcd/neon/WREFlaz/\n",
      "downloading NEON_D16_WREF_DP1_577000_5070000_classified_point_cloud.shp to /panfs/ccds02/nobackup/people/sbhusha1/pcd/neon/WREFlaz/\n",
      "downloading NEON_D16_WREF_DP1_577000_5070000_classified_point_cloud.kml to /panfs/ccds02/nobackup/people/sbhusha1/pcd/neon/WREFlaz/\n",
      "downloading NEON_D16_WREF_DP1_577000_5070000_classified_point_cloud.dbf to /panfs/ccds02/nobackup/people/sbhusha1/pcd/neon/WREFlaz/\n"
     ]
    },
    {
     "name": "stderr",
     "output_type": "stream",
     "text": [
      "29it [02:51,  6.55s/it]"
     ]
    },
    {
     "name": "stdout",
     "output_type": "stream",
     "text": [
      "downloading NEON_D16_WREF_DP1_577000_5070000_classified_point_cloud.prj to /panfs/ccds02/nobackup/people/sbhusha1/pcd/neon/WREFlaz/\n",
      "Download size: 235.04 MB\n",
      "downloading NEON_D16_WREF_DP1_577000_5071000_classified_point_cloud.shp to /panfs/ccds02/nobackup/people/sbhusha1/pcd/neon/WREFlaz/\n",
      "downloading NEON_D16_WREF_DP1_577000_5071000_classified_point_cloud.shx to /panfs/ccds02/nobackup/people/sbhusha1/pcd/neon/WREFlaz/\n",
      "downloading NEON_D16_WREF_DP1_577000_5071000_classified_point_cloud_colorized.laz to /panfs/ccds02/nobackup/people/sbhusha1/pcd/neon/WREFlaz/\n",
      "downloading NEON_D16_WREF_DP1_577000_5071000_classified_point_cloud.dbf to /panfs/ccds02/nobackup/people/sbhusha1/pcd/neon/WREFlaz/\n",
      "downloading NEON_D16_WREF_DP1_577000_5071000_classified_point_cloud.prj to /panfs/ccds02/nobackup/people/sbhusha1/pcd/neon/WREFlaz/\n"
     ]
    },
    {
     "name": "stderr",
     "output_type": "stream",
     "text": [
      "30it [02:58,  6.71s/it]"
     ]
    },
    {
     "name": "stdout",
     "output_type": "stream",
     "text": [
      "downloading NEON_D16_WREF_DP1_577000_5071000_classified_point_cloud.kml to /panfs/ccds02/nobackup/people/sbhusha1/pcd/neon/WREFlaz/\n",
      "Download size: 235.43 MB\n",
      "downloading NEON_D16_WREF_DP1_577000_5072000_classified_point_cloud.shp to /panfs/ccds02/nobackup/people/sbhusha1/pcd/neon/WREFlaz/\n",
      "downloading NEON_D16_WREF_DP1_577000_5072000_classified_point_cloud.shx to /panfs/ccds02/nobackup/people/sbhusha1/pcd/neon/WREFlaz/\n",
      "downloading NEON_D16_WREF_DP1_577000_5072000_classified_point_cloud.kml to /panfs/ccds02/nobackup/people/sbhusha1/pcd/neon/WREFlaz/\n",
      "downloading NEON_D16_WREF_DP1_577000_5072000_classified_point_cloud.prj to /panfs/ccds02/nobackup/people/sbhusha1/pcd/neon/WREFlaz/\n",
      "downloading NEON_D16_WREF_DP1_577000_5072000_classified_point_cloud.dbf to /panfs/ccds02/nobackup/people/sbhusha1/pcd/neon/WREFlaz/\n",
      "downloading NEON_D16_WREF_DP1_577000_5072000_classified_point_cloud_colorized.laz to /panfs/ccds02/nobackup/people/sbhusha1/pcd/neon/WREFlaz/\n"
     ]
    },
    {
     "name": "stderr",
     "output_type": "stream",
     "text": [
      "31it [03:06,  6.88s/it]"
     ]
    },
    {
     "name": "stdout",
     "output_type": "stream",
     "text": [
      "Download size: 231.97 MB\n",
      "downloading NEON_D16_WREF_DP1_577000_5073000_classified_point_cloud.kml to /panfs/ccds02/nobackup/people/sbhusha1/pcd/neon/WREFlaz/\n",
      "downloading NEON_D16_WREF_DP1_577000_5073000_classified_point_cloud.prj to /panfs/ccds02/nobackup/people/sbhusha1/pcd/neon/WREFlaz/\n",
      "downloading NEON_D16_WREF_DP1_577000_5073000_classified_point_cloud.dbf to /panfs/ccds02/nobackup/people/sbhusha1/pcd/neon/WREFlaz/\n",
      "downloading NEON_D16_WREF_DP1_577000_5073000_classified_point_cloud_colorized.laz to /panfs/ccds02/nobackup/people/sbhusha1/pcd/neon/WREFlaz/\n",
      "downloading NEON_D16_WREF_DP1_577000_5073000_classified_point_cloud.shp to /panfs/ccds02/nobackup/people/sbhusha1/pcd/neon/WREFlaz/\n",
      "downloading NEON_D16_WREF_DP1_577000_5073000_classified_point_cloud.shx to /panfs/ccds02/nobackup/people/sbhusha1/pcd/neon/WREFlaz/\n"
     ]
    },
    {
     "name": "stderr",
     "output_type": "stream",
     "text": [
      "32it [03:12,  6.75s/it]"
     ]
    },
    {
     "name": "stdout",
     "output_type": "stream",
     "text": [
      "Download size: 226.3 MB\n",
      "downloading NEON_D16_WREF_DP1_577000_5074000_classified_point_cloud.dbf to /panfs/ccds02/nobackup/people/sbhusha1/pcd/neon/WREFlaz/\n",
      "downloading NEON_D16_WREF_DP1_577000_5074000_classified_point_cloud.prj to /panfs/ccds02/nobackup/people/sbhusha1/pcd/neon/WREFlaz/\n",
      "downloading NEON_D16_WREF_DP1_577000_5074000_classified_point_cloud.kml to /panfs/ccds02/nobackup/people/sbhusha1/pcd/neon/WREFlaz/\n",
      "downloading NEON_D16_WREF_DP1_577000_5074000_classified_point_cloud.shx to /panfs/ccds02/nobackup/people/sbhusha1/pcd/neon/WREFlaz/\n",
      "downloading NEON_D16_WREF_DP1_577000_5074000_classified_point_cloud.shp to /panfs/ccds02/nobackup/people/sbhusha1/pcd/neon/WREFlaz/\n",
      "downloading NEON_D16_WREF_DP1_577000_5074000_classified_point_cloud_colorized.laz to /panfs/ccds02/nobackup/people/sbhusha1/pcd/neon/WREFlaz/\n"
     ]
    },
    {
     "name": "stderr",
     "output_type": "stream",
     "text": [
      "33it [03:19,  6.66s/it]"
     ]
    },
    {
     "name": "stdout",
     "output_type": "stream",
     "text": [
      "Download size: 236.4 MB\n",
      "downloading NEON_D16_WREF_DP1_577000_5075000_classified_point_cloud.shp to /panfs/ccds02/nobackup/people/sbhusha1/pcd/neon/WREFlaz/\n",
      "downloading NEON_D16_WREF_DP1_577000_5075000_classified_point_cloud.shx to /panfs/ccds02/nobackup/people/sbhusha1/pcd/neon/WREFlaz/\n",
      "downloading NEON_D16_WREF_DP1_577000_5075000_classified_point_cloud_colorized.laz to /panfs/ccds02/nobackup/people/sbhusha1/pcd/neon/WREFlaz/\n",
      "downloading NEON_D16_WREF_DP1_577000_5075000_classified_point_cloud.kml to /panfs/ccds02/nobackup/people/sbhusha1/pcd/neon/WREFlaz/\n",
      "downloading NEON_D16_WREF_DP1_577000_5075000_classified_point_cloud.prj to /panfs/ccds02/nobackup/people/sbhusha1/pcd/neon/WREFlaz/\n",
      "downloading NEON_D16_WREF_DP1_577000_5075000_classified_point_cloud.dbf to /panfs/ccds02/nobackup/people/sbhusha1/pcd/neon/WREFlaz/\n"
     ]
    },
    {
     "name": "stderr",
     "output_type": "stream",
     "text": [
      "34it [03:26,  6.90s/it]"
     ]
    },
    {
     "name": "stdout",
     "output_type": "stream",
     "text": [
      "Download size: 229.68 MB\n",
      "downloading NEON_D16_WREF_DP1_577000_5076000_classified_point_cloud.shx to /panfs/ccds02/nobackup/people/sbhusha1/pcd/neon/WREFlaz/\n",
      "downloading NEON_D16_WREF_DP1_577000_5076000_classified_point_cloud.shp to /panfs/ccds02/nobackup/people/sbhusha1/pcd/neon/WREFlaz/\n",
      "downloading NEON_D16_WREF_DP1_577000_5076000_classified_point_cloud.dbf to /panfs/ccds02/nobackup/people/sbhusha1/pcd/neon/WREFlaz/\n",
      "downloading NEON_D16_WREF_DP1_577000_5076000_classified_point_cloud.prj to /panfs/ccds02/nobackup/people/sbhusha1/pcd/neon/WREFlaz/\n",
      "downloading NEON_D16_WREF_DP1_577000_5076000_classified_point_cloud.kml to /panfs/ccds02/nobackup/people/sbhusha1/pcd/neon/WREFlaz/\n",
      "downloading NEON_D16_WREF_DP1_577000_5076000_classified_point_cloud_colorized.laz to /panfs/ccds02/nobackup/people/sbhusha1/pcd/neon/WREFlaz/\n"
     ]
    },
    {
     "name": "stderr",
     "output_type": "stream",
     "text": [
      "35it [03:35,  7.41s/it]"
     ]
    },
    {
     "name": "stdout",
     "output_type": "stream",
     "text": [
      "Download size: 197.38 MB\n",
      "downloading NEON_D16_WREF_DP1_577000_5077000_classified_point_cloud.kml to /panfs/ccds02/nobackup/people/sbhusha1/pcd/neon/WREFlaz/\n",
      "downloading NEON_D16_WREF_DP1_577000_5077000_classified_point_cloud.shp to /panfs/ccds02/nobackup/people/sbhusha1/pcd/neon/WREFlaz/\n",
      "downloading NEON_D16_WREF_DP1_577000_5077000_classified_point_cloud.shx to /panfs/ccds02/nobackup/people/sbhusha1/pcd/neon/WREFlaz/\n",
      "downloading NEON_D16_WREF_DP1_577000_5077000_classified_point_cloud_colorized.laz to /panfs/ccds02/nobackup/people/sbhusha1/pcd/neon/WREFlaz/\n",
      "downloading NEON_D16_WREF_DP1_577000_5077000_classified_point_cloud.prj to /panfs/ccds02/nobackup/people/sbhusha1/pcd/neon/WREFlaz/\n"
     ]
    },
    {
     "name": "stderr",
     "output_type": "stream",
     "text": [
      "36it [03:41,  7.10s/it]"
     ]
    },
    {
     "name": "stdout",
     "output_type": "stream",
     "text": [
      "downloading NEON_D16_WREF_DP1_577000_5077000_classified_point_cloud.dbf to /panfs/ccds02/nobackup/people/sbhusha1/pcd/neon/WREFlaz/\n",
      "Download size: 3.68 MB\n",
      "downloading NEON_D16_WREF_DP1_578000_5069000_classified_point_cloud_colorized.laz to /panfs/ccds02/nobackup/people/sbhusha1/pcd/neon/WREFlaz/\n",
      "downloading NEON_D16_WREF_DP1_578000_5069000_classified_point_cloud.shx to /panfs/ccds02/nobackup/people/sbhusha1/pcd/neon/WREFlaz/\n",
      "downloading NEON_D16_WREF_DP1_578000_5069000_classified_point_cloud.shp to /panfs/ccds02/nobackup/people/sbhusha1/pcd/neon/WREFlaz/\n",
      "downloading NEON_D16_WREF_DP1_578000_5069000_classified_point_cloud.dbf to /panfs/ccds02/nobackup/people/sbhusha1/pcd/neon/WREFlaz/\n",
      "downloading NEON_D16_WREF_DP1_578000_5069000_classified_point_cloud.prj to /panfs/ccds02/nobackup/people/sbhusha1/pcd/neon/WREFlaz/\n"
     ]
    },
    {
     "name": "stderr",
     "output_type": "stream",
     "text": [
      "37it [03:44,  5.95s/it]"
     ]
    },
    {
     "name": "stdout",
     "output_type": "stream",
     "text": [
      "downloading NEON_D16_WREF_DP1_578000_5069000_classified_point_cloud.kml to /panfs/ccds02/nobackup/people/sbhusha1/pcd/neon/WREFlaz/\n",
      "Download size: 217.17 MB\n",
      "downloading NEON_D16_WREF_DP1_578000_5070000_classified_point_cloud_colorized.laz to /panfs/ccds02/nobackup/people/sbhusha1/pcd/neon/WREFlaz/\n",
      "downloading NEON_D16_WREF_DP1_578000_5070000_classified_point_cloud.shx to /panfs/ccds02/nobackup/people/sbhusha1/pcd/neon/WREFlaz/\n",
      "downloading NEON_D16_WREF_DP1_578000_5070000_classified_point_cloud.shp to /panfs/ccds02/nobackup/people/sbhusha1/pcd/neon/WREFlaz/\n",
      "downloading NEON_D16_WREF_DP1_578000_5070000_classified_point_cloud.kml to /panfs/ccds02/nobackup/people/sbhusha1/pcd/neon/WREFlaz/\n",
      "downloading NEON_D16_WREF_DP1_578000_5070000_classified_point_cloud.dbf to /panfs/ccds02/nobackup/people/sbhusha1/pcd/neon/WREFlaz/\n",
      "downloading NEON_D16_WREF_DP1_578000_5070000_classified_point_cloud.prj to /panfs/ccds02/nobackup/people/sbhusha1/pcd/neon/WREFlaz/\n"
     ]
    },
    {
     "name": "stderr",
     "output_type": "stream",
     "text": [
      "38it [03:52,  6.45s/it]"
     ]
    },
    {
     "name": "stdout",
     "output_type": "stream",
     "text": [
      "Download size: 274.77 MB\n",
      "downloading NEON_D16_WREF_DP1_578000_5071000_classified_point_cloud.shp to /panfs/ccds02/nobackup/people/sbhusha1/pcd/neon/WREFlaz/\n",
      "downloading NEON_D16_WREF_DP1_578000_5071000_classified_point_cloud.shx to /panfs/ccds02/nobackup/people/sbhusha1/pcd/neon/WREFlaz/\n",
      "downloading NEON_D16_WREF_DP1_578000_5071000_classified_point_cloud_colorized.laz to /panfs/ccds02/nobackup/people/sbhusha1/pcd/neon/WREFlaz/\n",
      "downloading NEON_D16_WREF_DP1_578000_5071000_classified_point_cloud.prj to /panfs/ccds02/nobackup/people/sbhusha1/pcd/neon/WREFlaz/\n",
      "downloading NEON_D16_WREF_DP1_578000_5071000_classified_point_cloud.kml to /panfs/ccds02/nobackup/people/sbhusha1/pcd/neon/WREFlaz/\n",
      "downloading NEON_D16_WREF_DP1_578000_5071000_classified_point_cloud.dbf to /panfs/ccds02/nobackup/people/sbhusha1/pcd/neon/WREFlaz/\n"
     ]
    },
    {
     "name": "stderr",
     "output_type": "stream",
     "text": [
      "39it [04:01,  7.22s/it]"
     ]
    },
    {
     "name": "stdout",
     "output_type": "stream",
     "text": [
      "Download size: 272.34 MB\n",
      "downloading NEON_D16_WREF_DP1_578000_5072000_classified_point_cloud.shx to /panfs/ccds02/nobackup/people/sbhusha1/pcd/neon/WREFlaz/\n",
      "downloading NEON_D16_WREF_DP1_578000_5072000_classified_point_cloud.shp to /panfs/ccds02/nobackup/people/sbhusha1/pcd/neon/WREFlaz/\n",
      "downloading NEON_D16_WREF_DP1_578000_5072000_classified_point_cloud.kml to /panfs/ccds02/nobackup/people/sbhusha1/pcd/neon/WREFlaz/\n",
      "downloading NEON_D16_WREF_DP1_578000_5072000_classified_point_cloud.dbf to /panfs/ccds02/nobackup/people/sbhusha1/pcd/neon/WREFlaz/\n",
      "downloading NEON_D16_WREF_DP1_578000_5072000_classified_point_cloud_colorized.laz to /panfs/ccds02/nobackup/people/sbhusha1/pcd/neon/WREFlaz/\n",
      "downloading NEON_D16_WREF_DP1_578000_5072000_classified_point_cloud.prj to /panfs/ccds02/nobackup/people/sbhusha1/pcd/neon/WREFlaz/\n"
     ]
    },
    {
     "name": "stderr",
     "output_type": "stream",
     "text": [
      "40it [04:13,  8.81s/it]"
     ]
    },
    {
     "name": "stdout",
     "output_type": "stream",
     "text": [
      "Download size: 234.17 MB\n",
      "downloading NEON_D16_WREF_DP1_578000_5073000_classified_point_cloud.prj to /panfs/ccds02/nobackup/people/sbhusha1/pcd/neon/WREFlaz/\n",
      "downloading NEON_D16_WREF_DP1_578000_5073000_classified_point_cloud.kml to /panfs/ccds02/nobackup/people/sbhusha1/pcd/neon/WREFlaz/\n",
      "downloading NEON_D16_WREF_DP1_578000_5073000_classified_point_cloud.dbf to /panfs/ccds02/nobackup/people/sbhusha1/pcd/neon/WREFlaz/\n",
      "downloading NEON_D16_WREF_DP1_578000_5073000_classified_point_cloud.shp to /panfs/ccds02/nobackup/people/sbhusha1/pcd/neon/WREFlaz/\n",
      "downloading NEON_D16_WREF_DP1_578000_5073000_classified_point_cloud.shx to /panfs/ccds02/nobackup/people/sbhusha1/pcd/neon/WREFlaz/\n",
      "downloading NEON_D16_WREF_DP1_578000_5073000_classified_point_cloud_colorized.laz to /panfs/ccds02/nobackup/people/sbhusha1/pcd/neon/WREFlaz/\n"
     ]
    },
    {
     "name": "stderr",
     "output_type": "stream",
     "text": [
      "41it [04:25,  9.76s/it]"
     ]
    },
    {
     "name": "stdout",
     "output_type": "stream",
     "text": [
      "Download size: 219.51 MB\n",
      "downloading NEON_D16_WREF_DP1_578000_5074000_classified_point_cloud.dbf to /panfs/ccds02/nobackup/people/sbhusha1/pcd/neon/WREFlaz/\n",
      "downloading NEON_D16_WREF_DP1_578000_5074000_classified_point_cloud.prj to /panfs/ccds02/nobackup/people/sbhusha1/pcd/neon/WREFlaz/\n",
      "downloading NEON_D16_WREF_DP1_578000_5074000_classified_point_cloud_colorized.laz to /panfs/ccds02/nobackup/people/sbhusha1/pcd/neon/WREFlaz/\n",
      "downloading NEON_D16_WREF_DP1_578000_5074000_classified_point_cloud.kml to /panfs/ccds02/nobackup/people/sbhusha1/pcd/neon/WREFlaz/\n",
      "downloading NEON_D16_WREF_DP1_578000_5074000_classified_point_cloud.shx to /panfs/ccds02/nobackup/people/sbhusha1/pcd/neon/WREFlaz/\n",
      "downloading NEON_D16_WREF_DP1_578000_5074000_classified_point_cloud.shp to /panfs/ccds02/nobackup/people/sbhusha1/pcd/neon/WREFlaz/\n"
     ]
    },
    {
     "name": "stderr",
     "output_type": "stream",
     "text": [
      "42it [04:36, 10.08s/it]"
     ]
    },
    {
     "name": "stdout",
     "output_type": "stream",
     "text": [
      "Download size: 232.39 MB\n",
      "downloading NEON_D16_WREF_DP1_578000_5075000_classified_point_cloud.shp to /panfs/ccds02/nobackup/people/sbhusha1/pcd/neon/WREFlaz/\n",
      "downloading NEON_D16_WREF_DP1_578000_5075000_classified_point_cloud.shx to /panfs/ccds02/nobackup/people/sbhusha1/pcd/neon/WREFlaz/\n",
      "downloading NEON_D16_WREF_DP1_578000_5075000_classified_point_cloud.kml to /panfs/ccds02/nobackup/people/sbhusha1/pcd/neon/WREFlaz/\n",
      "downloading NEON_D16_WREF_DP1_578000_5075000_classified_point_cloud.dbf to /panfs/ccds02/nobackup/people/sbhusha1/pcd/neon/WREFlaz/\n",
      "downloading NEON_D16_WREF_DP1_578000_5075000_classified_point_cloud.prj to /panfs/ccds02/nobackup/people/sbhusha1/pcd/neon/WREFlaz/\n",
      "downloading NEON_D16_WREF_DP1_578000_5075000_classified_point_cloud_colorized.laz to /panfs/ccds02/nobackup/people/sbhusha1/pcd/neon/WREFlaz/\n"
     ]
    },
    {
     "name": "stderr",
     "output_type": "stream",
     "text": [
      "43it [04:48, 10.63s/it]"
     ]
    },
    {
     "name": "stdout",
     "output_type": "stream",
     "text": [
      "Download size: 234.83 MB\n",
      "downloading NEON_D16_WREF_DP1_578000_5076000_classified_point_cloud.shx to /panfs/ccds02/nobackup/people/sbhusha1/pcd/neon/WREFlaz/\n",
      "downloading NEON_D16_WREF_DP1_578000_5076000_classified_point_cloud.shp to /panfs/ccds02/nobackup/people/sbhusha1/pcd/neon/WREFlaz/\n",
      "downloading NEON_D16_WREF_DP1_578000_5076000_classified_point_cloud_colorized.laz to /panfs/ccds02/nobackup/people/sbhusha1/pcd/neon/WREFlaz/\n",
      "downloading NEON_D16_WREF_DP1_578000_5076000_classified_point_cloud.kml to /panfs/ccds02/nobackup/people/sbhusha1/pcd/neon/WREFlaz/\n",
      "downloading NEON_D16_WREF_DP1_578000_5076000_classified_point_cloud.prj to /panfs/ccds02/nobackup/people/sbhusha1/pcd/neon/WREFlaz/\n",
      "downloading NEON_D16_WREF_DP1_578000_5076000_classified_point_cloud.dbf to /panfs/ccds02/nobackup/people/sbhusha1/pcd/neon/WREFlaz/\n"
     ]
    },
    {
     "name": "stderr",
     "output_type": "stream",
     "text": [
      "44it [05:01, 11.21s/it]"
     ]
    },
    {
     "name": "stdout",
     "output_type": "stream",
     "text": [
      "Download size: 218.63 MB\n",
      "downloading NEON_D16_WREF_DP1_578000_5077000_classified_point_cloud.kml to /panfs/ccds02/nobackup/people/sbhusha1/pcd/neon/WREFlaz/\n",
      "downloading NEON_D16_WREF_DP1_578000_5077000_classified_point_cloud.shp to /panfs/ccds02/nobackup/people/sbhusha1/pcd/neon/WREFlaz/\n",
      "downloading NEON_D16_WREF_DP1_578000_5077000_classified_point_cloud.shx to /panfs/ccds02/nobackup/people/sbhusha1/pcd/neon/WREFlaz/\n",
      "downloading NEON_D16_WREF_DP1_578000_5077000_classified_point_cloud.dbf to /panfs/ccds02/nobackup/people/sbhusha1/pcd/neon/WREFlaz/\n",
      "downloading NEON_D16_WREF_DP1_578000_5077000_classified_point_cloud.prj to /panfs/ccds02/nobackup/people/sbhusha1/pcd/neon/WREFlaz/\n",
      "downloading NEON_D16_WREF_DP1_578000_5077000_classified_point_cloud_colorized.laz to /panfs/ccds02/nobackup/people/sbhusha1/pcd/neon/WREFlaz/\n"
     ]
    },
    {
     "name": "stderr",
     "output_type": "stream",
     "text": [
      "45it [05:08,  6.86s/it]\n"
     ]
    },
    {
     "data": {
      "image/png": "[encoded data removed]",
      "text/plain": [
       "<Figure size 640x480 with 1 Axes>"
      ]
     },
     "metadata": {},
     "output_type": "display_data"
    }
   ],
   "source": [
    "iloc = 2\n",
    "site_neon_gdf = gdf_neon.iloc[[iloc]]\n",
    "site = site_neon_gdf.neon_id.values[0]\n",
    "year = str(site_neon_gdf.start_datetime.values[0].item().year)\n",
    "download_path = os.path.join(working_directory,site)\n",
    "if not os.path.exists(download_path):\n",
    "    os.makedirs(download_path)\n",
    "print(f\"files will be downloaded at {download_path}\")\n",
    "aoi_tile_shp = download_metadata(year,download_path,dpID,site)\n",
    "download_lpc_tiles(aoi_tile_shp,gdf_fourway.iloc[[iloc]],download_path,dpID,site,year)"
   ]
  },
  {
   "cell_type": "markdown",
   "id": "a44d63ab-63ff-4ef3-9952-b06422484c90",
   "metadata": {},
   "source": [
    "## Base functions"
   ]
  },
  {
   "cell_type": "code",
   "execution_count": 66,
   "id": "1ac2cf99-dd8e-4567-a671-1171054bfe79",
   "metadata": {},
   "outputs": [],
   "source": [
    "def download_metadata(year,download_path,dpID,site):\n",
    "\n",
    "    shp_path = download_path + 'shp/'\n",
    "\n",
    "    if not os.path.exists(shp_path):\n",
    "        os.makedirs(shp_path)\n",
    "\n",
    "\n",
    "    \n",
    "    print(f\"Downloading metadata\")\n",
    "    download_aop_files(dpID,site,year,match_string='.pdf',\n",
    "                       check_size=False,download_folder=download_path)\n",
    "    #download the full-boundary shape files\n",
    "    download_aop_files(dpID,site,year,shp_path,'merged_tiles.shp',check_size=False)\n",
    "    download_aop_files(dpID,site,year,shp_path,'merged_tiles.shx',check_size=False)\n",
    "    download_aop_files(dpID,site,year,shp_path,'merged_tiles.prj',check_size=False)\n",
    "    download_aop_files(dpID,site,year,shp_path,'merged_tiles.dbf',check_size=False)\n",
    "    output_shp = glob.glob(os.path.join(shp_path,'*merged_tiles.shp'))[0]\n",
    "    return output_shp"
   ]
  },
  {
   "cell_type": "code",
   "execution_count": 34,
   "id": "9904d854-de4a-4229-842b-d1e05382ce22",
   "metadata": {},
   "outputs": [],
   "source": [
    "def download_lpc_tiles(aoi_tile_shp,bbox_gdf,download_path,dpID,site,year):\n",
    "    gdf = gpd.read_file(os.path.join(aoi_tile_shp))\n",
    "    site_extent = gpd.GeoDataFrame(geometry=[box(*bbox_gdf.to_crs(gdf.crs).buffer(50).total_bounds)],\n",
    "                                    crs=gdf.crs)\n",
    "    f,ax = plt.subplots()\n",
    "    gdf.plot(ax=ax)\n",
    "    site_extent.plot(ax=ax,facecolor='None',edgecolor='red')\n",
    "    intersection_gdf = gpd.overlay(gdf, site_extent, how='intersection')\n",
    "    laz_path = download_path+'laz/'\n",
    "    if not os.path.exists(laz_path):\n",
    "        os.makedirs(laz_path)\n",
    "        \n",
    "    for idx,row in tqdm(intersection_gdf.iterrows()):\n",
    "        match_string_laz = row.TileID \n",
    "        download_aop_files(dpID,site,year,download_folder=laz_path,\n",
    "                       match_string=match_string_laz,\n",
    "                      check_size=False)"
   ]
  },
  {
   "cell_type": "code",
   "execution_count": 2,
   "id": "4c88c138-5256-4758-bb6e-a50973d24ad9",
   "metadata": {},
   "outputs": [],
   "source": [
    "# -*- coding: utf-8 -*-\n",
    "\"\"\"\n",
    "Created on Mon Apr  8 08:18:00 2019\n",
    "@author: bhass\n",
    "\n",
    "Functions to display available urls and download NEON AOP data using the NEON Data API.\n",
    "\"\"\"\n",
    "\n",
    "import requests, urllib, os\n",
    "\n",
    "def list_available_urls(product,site):\n",
    "    \"\"\"\n",
    "    list_available urls lists the api url for a given product and site\n",
    "    --------\n",
    "     Inputs:\n",
    "         product: the data product code (eg. 'DP3.30015.001' - CHM)\n",
    "         site: the 4-digit NEON site code (eg. 'SRER', 'JORN')\n",
    "    --------\n",
    "    Usage:\n",
    "    --------\n",
    "    jorn_chm_urls = list_available_urls('DP3.30015.001','JORN')\n",
    "    \"\"\"\n",
    "    r = requests.get(\"http://data.neonscience.org/api/v0/products/\" + product)\n",
    "    for i in range(len(r.json()['data']['siteCodes'])):\n",
    "        if site in r.json()['data']['siteCodes'][i]['siteCode']:\n",
    "            data_urls=r.json()['data']['siteCodes'][i]['availableDataUrls']\n",
    "    if 'data_urls' not in locals() or len(data_urls) == 0:\n",
    "        print('WARNING: no urls found for product ' + product + ' at site ' + site)\n",
    "    else:\n",
    "        return data_urls\n",
    "\n",
    "def list_available_urls_by_year(product,site,year):\n",
    "    \"\"\"\n",
    "    list_available urls_by_year lists the api url for a given product, site, and year\n",
    "    --------\n",
    "     Inputs:\n",
    "         product: the data product code (eg. 'DP3.30015.001' - CHM)\n",
    "         site: the 4-digit NEON site code (eg. 'SRER', 'JORN')\n",
    "         year: the year data was collected (eg. '2017','2018','2019')\n",
    "    --------\n",
    "    Usage:\n",
    "    --------\n",
    "    jorn_chm_2018_url = list_available_urls_by_year('DP3.30015.001','JORN','2018')\n",
    "    \"\"\"\n",
    "    r = requests.get(\"http://data.neonscience.org/api/v0/products/\" + product)\n",
    "    for i in range(len(r.json()['data']['siteCodes'])):\n",
    "        if site in r.json()['data']['siteCodes'][i]['siteCode']:\n",
    "            all_data_urls=r.json()['data']['siteCodes'][i]['availableDataUrls']\n",
    "    data_urls = [url for url in all_data_urls if year in url]\n",
    "    if len(data_urls)==0:\n",
    "        print('WARNING: no urls found for product ' + product + ' at site ' + site + ' in year ' + year)\n",
    "    else:\n",
    "        return data_urls\n",
    "    \n",
    "def download_urls(url_list,download_folder_root,zip=False):\n",
    "    # downloads data from urls to folder, maintaining month-year folder structure\n",
    "    for url in url_list:\n",
    "        month = url.split('/')[-1]\n",
    "        download_folder = download_folder_root + month + '/'\n",
    "        if not os.path.exists(download_folder):\n",
    "            os.makedirs(download_folder)\n",
    "        r=requests.get(url)\n",
    "        files=r.json()['data']['files']\n",
    "        for i in range(len(files)):\n",
    "            if zip==False:\n",
    "                if '.zip' not in files[i]['name']:\n",
    "                    print('downloading ' + files[i]['name'] + ' to ' + download_folder)\n",
    "                    urllib.request.urlretrieve(files[i]['url'],download_folder + files[i]['name'])\n",
    "            elif zip==True:\n",
    "                if '.zip' in files[i]['name']:\n",
    "                    print('downloading ' + files[i]['name'] + ' to ' + download_folder)\n",
    "                    urllib.request.urlretrieve(files[i]['url'],download_folder + files[i]['name'])\n",
    "\n",
    "def download_file(url,filename):\n",
    "    r = requests.get(url)\n",
    "    with open(filename, 'wb') as f:\n",
    "        for chunk in r.iter_content(chunk_size=1024): \n",
    "            if chunk: # filter out keep-alive new chunks\n",
    "                f.write(chunk)\n",
    "    return\n",
    "\n",
    "def get_file_size(urls,match_string):\n",
    "    size=0\n",
    "    for url in urls:\n",
    "        r = requests.get(url)\n",
    "        files = r.json()['data']['files']\n",
    "        for i in range(len(files)):\n",
    "            if match_string is not None:\n",
    "                if match_string in files[i]['name']:\n",
    "    #             print('downloading ' + files[i]['name'] + ' to ' + download_folder)\n",
    "                    size += int(files[i]['size'])\n",
    "            else:\n",
    "                size += int(files[i]['size'])\n",
    "    if size < 10**3:\n",
    "        print('Download size:',size,'bytes')\n",
    "    elif size > 10**3 and size < 10**6:\n",
    "        print('Download size:',round(size/(10**6),2),'kB')\n",
    "    elif size > 10**6 and size < 10**9:\n",
    "        print('Download size:',round(size/(10**6),2),'MB')\n",
    "    elif size > 10**9 and size < 10**12:\n",
    "        print('Download size:',round(size/(10**9),2),'GB')\n",
    "    else:\n",
    "        print('Download size:',round(size/(10**12),2),'TB')\n",
    "    return size\n",
    "\n",
    "def download_aop_files(product,site,year=None,download_folder='./data',match_string=None,check_size=True):\n",
    "    \"\"\"\n",
    "    download_aop_files downloads NEON AOP files from the AOP for a given data product, site, and \n",
    "    optional year, download folder, and \n",
    "    --------\n",
    "     Inputs:\n",
    "         required:\n",
    "             product: the data product code (eg. 'DP3.30015.001' - CHM)\n",
    "             site: the 4-digit NEON site code (eg. 'SRER', 'JORN')\n",
    "         \n",
    "         optional:\n",
    "             year: year (eg. '2020'); default (None) is all years\n",
    "             download_folder: folder to store downloaded files; default (./data) in current directory\n",
    "             match_string: subset of data to match, need to use exact pattern for file name\n",
    "             check_size: prompt to continue download (y/n) after displaying size; default = True\n",
    "    --------\n",
    "    Usage:\n",
    "    --------\n",
    "    download_aop_files('DP3.30015.001','JORN','2019','./data/JORN_2019/CHM','314000_3610000_CHM.tif')\n",
    "    \"\"\"\n",
    "    \n",
    "    #get a list of the urls for a given data product, site, and year (if included)\n",
    "    if year is not None:\n",
    "        urls = list_available_urls_by_year(product,site,year)\n",
    "    else:\n",
    "        urls = list_available_urls(product,site)\n",
    "    \n",
    "    #make the download folder if it doesn't already exist\n",
    "    if not os.path.exists(download_folder):\n",
    "        os.makedirs(download_folder)\n",
    "    \n",
    "    #get the size of all the files you are planning to download\n",
    "    size = get_file_size(urls,match_string)\n",
    "    \n",
    "    #prompt to continue with download after displaying the file size\n",
    "    if check_size:\n",
    "        if input(\"Do you want to continue with the download? (y/n) \") != \"y\":\n",
    "            print('Exiting download_aop_files')\n",
    "            return\n",
    "    \n",
    "    #download files in the urls\n",
    "    for url in urls:\n",
    "        r = requests.get(url)\n",
    "        files = r.json()['data']['files']\n",
    "        for i in range(len(files)):\n",
    "            if match_string is not None:\n",
    "                if match_string in files[i]['name']:\n",
    "                    print('downloading ' + files[i]['name'] + ' to ' + download_folder)\n",
    "                    try:\n",
    "                        download_file(files[i]['url'],os.path.join(download_folder,files[i]['name']))\n",
    "                    except requests.exceptions.RequestException as e:\n",
    "                        print(e)\n",
    "            else:\n",
    "                try:\n",
    "                    download_file(files[i]['url'],os.path.join(download_folder,files[i]['name']))\n",
    "                except requests.exceptions.RequestException as e:\n",
    "                    print(e)"
   ]
  },
  {
   "cell_type": "code",
   "execution_count": null,
   "id": "5b5565ce-8b35-45c1-9493-505085b816f7",
   "metadata": {},
   "outputs": [],
   "source": []
  }
 ],
 "metadata": {
  "kernelspec": {
   "display_name": "Python [conda env:.conda-bhushan_gdal3]",
   "language": "python",
   "name": "conda-env-.conda-bhushan_gdal3-py"
  },
  "language_info": {
   "codemirror_mode": {
    "name": "ipython",
    "version": 3
   },
   "file_extension": ".py",
   "mimetype": "text/x-python",
   "name": "python",
   "nbconvert_exporter": "python",
   "pygments_lexer": "ipython3",
   "version": "3.13.5"
  }
 },
 "nbformat": 4,
 "nbformat_minor": 5
}
